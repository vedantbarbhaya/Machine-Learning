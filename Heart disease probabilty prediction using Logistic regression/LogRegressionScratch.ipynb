{
  "nbformat": 4,
  "nbformat_minor": 0,
  "metadata": {
    "colab": {
      "name": "LogRegressionScratch.ipynb",
      "provenance": [],
      "collapsed_sections": [
        "QXqMu2bLzaqL",
        "rJom9WNt_-Z6",
        "YfCtSLUcMZb1",
        "RG1_IsbtMe3z",
        "jTCao0iACttA",
        "rj6w3CueBxX7",
        "xwrdEOmOig81",
        "sJldI-g0Si1J"
      ],
      "toc_visible": true
    },
    "kernelspec": {
      "name": "python3",
      "display_name": "Python 3"
    }
  },
  "cells": [
    {
      "cell_type": "markdown",
      "metadata": {
        "id": "QXqMu2bLzaqL",
        "colab_type": "text"
      },
      "source": [
        "# ***OVERVIEW OF DATA***\n",
        "\n",
        "**DATASET** - https://www.kaggle.com/ronitf/heart-disease-uci"
      ]
    },
    {
      "cell_type": "code",
      "metadata": {
        "id": "FmSTo8sAzVue",
        "colab_type": "code",
        "colab": {
          "base_uri": "https://localhost:8080/",
          "height": 72
        },
        "outputId": "ce2fad0a-2488-43c9-ca27-767e16d75880"
      },
      "source": [
        "import pandas as pd\n",
        "import numpy as np\n",
        "import matplotlib.pyplot as plt\n",
        "import seaborn as sns"
      ],
      "execution_count": null,
      "outputs": [
        {
          "output_type": "stream",
          "text": [
            "/usr/local/lib/python3.6/dist-packages/statsmodels/tools/_testing.py:19: FutureWarning: pandas.util.testing is deprecated. Use the functions in the public API at pandas.testing instead.\n",
            "  import pandas.util.testing as tm\n"
          ],
          "name": "stderr"
        }
      ]
    },
    {
      "cell_type": "code",
      "metadata": {
        "id": "zpBRCcarz2we",
        "colab_type": "code",
        "colab": {
          "base_uri": "https://localhost:8080/",
          "height": 206
        },
        "outputId": "6cab0c56-aaea-4cc5-ba99-4b2ea21b97c7"
      },
      "source": [
        "data = pd.read_csv(\"heart.csv\")\n",
        "data.head()"
      ],
      "execution_count": null,
      "outputs": [
        {
          "output_type": "execute_result",
          "data": {
            "text/html": [
              "<div>\n",
              "<style scoped>\n",
              "    .dataframe tbody tr th:only-of-type {\n",
              "        vertical-align: middle;\n",
              "    }\n",
              "\n",
              "    .dataframe tbody tr th {\n",
              "        vertical-align: top;\n",
              "    }\n",
              "\n",
              "    .dataframe thead th {\n",
              "        text-align: right;\n",
              "    }\n",
              "</style>\n",
              "<table border=\"1\" class=\"dataframe\">\n",
              "  <thead>\n",
              "    <tr style=\"text-align: right;\">\n",
              "      <th></th>\n",
              "      <th>age</th>\n",
              "      <th>sex</th>\n",
              "      <th>cp</th>\n",
              "      <th>trestbps</th>\n",
              "      <th>chol</th>\n",
              "      <th>fbs</th>\n",
              "      <th>restecg</th>\n",
              "      <th>thalach</th>\n",
              "      <th>exang</th>\n",
              "      <th>oldpeak</th>\n",
              "      <th>slope</th>\n",
              "      <th>ca</th>\n",
              "      <th>thal</th>\n",
              "      <th>target</th>\n",
              "    </tr>\n",
              "  </thead>\n",
              "  <tbody>\n",
              "    <tr>\n",
              "      <th>0</th>\n",
              "      <td>63</td>\n",
              "      <td>1</td>\n",
              "      <td>3</td>\n",
              "      <td>145</td>\n",
              "      <td>233</td>\n",
              "      <td>1</td>\n",
              "      <td>0</td>\n",
              "      <td>150</td>\n",
              "      <td>0</td>\n",
              "      <td>2.3</td>\n",
              "      <td>0</td>\n",
              "      <td>0</td>\n",
              "      <td>1</td>\n",
              "      <td>1</td>\n",
              "    </tr>\n",
              "    <tr>\n",
              "      <th>1</th>\n",
              "      <td>37</td>\n",
              "      <td>1</td>\n",
              "      <td>2</td>\n",
              "      <td>130</td>\n",
              "      <td>250</td>\n",
              "      <td>0</td>\n",
              "      <td>1</td>\n",
              "      <td>187</td>\n",
              "      <td>0</td>\n",
              "      <td>3.5</td>\n",
              "      <td>0</td>\n",
              "      <td>0</td>\n",
              "      <td>2</td>\n",
              "      <td>1</td>\n",
              "    </tr>\n",
              "    <tr>\n",
              "      <th>2</th>\n",
              "      <td>41</td>\n",
              "      <td>0</td>\n",
              "      <td>1</td>\n",
              "      <td>130</td>\n",
              "      <td>204</td>\n",
              "      <td>0</td>\n",
              "      <td>0</td>\n",
              "      <td>172</td>\n",
              "      <td>0</td>\n",
              "      <td>1.4</td>\n",
              "      <td>2</td>\n",
              "      <td>0</td>\n",
              "      <td>2</td>\n",
              "      <td>1</td>\n",
              "    </tr>\n",
              "    <tr>\n",
              "      <th>3</th>\n",
              "      <td>56</td>\n",
              "      <td>1</td>\n",
              "      <td>1</td>\n",
              "      <td>120</td>\n",
              "      <td>236</td>\n",
              "      <td>0</td>\n",
              "      <td>1</td>\n",
              "      <td>178</td>\n",
              "      <td>0</td>\n",
              "      <td>0.8</td>\n",
              "      <td>2</td>\n",
              "      <td>0</td>\n",
              "      <td>2</td>\n",
              "      <td>1</td>\n",
              "    </tr>\n",
              "    <tr>\n",
              "      <th>4</th>\n",
              "      <td>57</td>\n",
              "      <td>0</td>\n",
              "      <td>0</td>\n",
              "      <td>120</td>\n",
              "      <td>354</td>\n",
              "      <td>0</td>\n",
              "      <td>1</td>\n",
              "      <td>163</td>\n",
              "      <td>1</td>\n",
              "      <td>0.6</td>\n",
              "      <td>2</td>\n",
              "      <td>0</td>\n",
              "      <td>2</td>\n",
              "      <td>1</td>\n",
              "    </tr>\n",
              "  </tbody>\n",
              "</table>\n",
              "</div>"
            ],
            "text/plain": [
              "   age  sex  cp  trestbps  chol  fbs  ...  exang  oldpeak  slope  ca  thal  target\n",
              "0   63    1   3       145   233    1  ...      0      2.3      0   0     1       1\n",
              "1   37    1   2       130   250    0  ...      0      3.5      0   0     2       1\n",
              "2   41    0   1       130   204    0  ...      0      1.4      2   0     2       1\n",
              "3   56    1   1       120   236    0  ...      0      0.8      2   0     2       1\n",
              "4   57    0   0       120   354    0  ...      1      0.6      2   0     2       1\n",
              "\n",
              "[5 rows x 14 columns]"
            ]
          },
          "metadata": {
            "tags": []
          },
          "execution_count": 2
        }
      ]
    },
    {
      "cell_type": "code",
      "metadata": {
        "id": "vEkXzFznx3Ce",
        "colab_type": "code",
        "colab": {}
      },
      "source": [
        ""
      ],
      "execution_count": null,
      "outputs": []
    },
    {
      "cell_type": "markdown",
      "metadata": {
        "id": "hA3fecKr_TdL",
        "colab_type": "text"
      },
      "source": [
        "\n",
        "\n",
        "Data contains:\n",
        "\n",
        "    age - age in years\n",
        "    sex - (1 = male; 0 = female)\n",
        "    cp - chest pain type\n",
        "    trestbps - resting blood pressure (in mm Hg on admission to the hospital)\n",
        "    chol - serum cholestoral in mg/dl\n",
        "    fbs - (fasting blood sugar > 120 mg/dl) (1 = true; 0 = false)\n",
        "    restecg - resting electrocardiographic results\n",
        "    thalach - maximum heart rate achieved\n",
        "    exang - exercise induced angina (1 = yes; 0 = no)\n",
        "    oldpeak - ST depression induced by exercise relative to rest\n",
        "    slope - the slope of the peak exercise ST segment\n",
        "    ca - number of major vessels (0-3) colored by flourosopy\n",
        "    thal - 3 = normal; 6 = fixed defect; 7 = reversable defect\n",
        "    target - have disease or not (1=yes, 0=no)\n",
        "\n"
      ]
    },
    {
      "cell_type": "code",
      "metadata": {
        "id": "xEBtzqE10D9h",
        "colab_type": "code",
        "colab": {
          "base_uri": "https://localhost:8080/",
          "height": 320
        },
        "outputId": "e6cb6c08-9f35-4bb2-b155-8d9429ad4ecf"
      },
      "source": [
        "data.describe()"
      ],
      "execution_count": null,
      "outputs": [
        {
          "output_type": "execute_result",
          "data": {
            "text/html": [
              "<div>\n",
              "<style scoped>\n",
              "    .dataframe tbody tr th:only-of-type {\n",
              "        vertical-align: middle;\n",
              "    }\n",
              "\n",
              "    .dataframe tbody tr th {\n",
              "        vertical-align: top;\n",
              "    }\n",
              "\n",
              "    .dataframe thead th {\n",
              "        text-align: right;\n",
              "    }\n",
              "</style>\n",
              "<table border=\"1\" class=\"dataframe\">\n",
              "  <thead>\n",
              "    <tr style=\"text-align: right;\">\n",
              "      <th></th>\n",
              "      <th>age</th>\n",
              "      <th>sex</th>\n",
              "      <th>cp</th>\n",
              "      <th>trestbps</th>\n",
              "      <th>chol</th>\n",
              "      <th>fbs</th>\n",
              "      <th>restecg</th>\n",
              "      <th>thalach</th>\n",
              "      <th>exang</th>\n",
              "      <th>oldpeak</th>\n",
              "      <th>slope</th>\n",
              "      <th>ca</th>\n",
              "      <th>thal</th>\n",
              "      <th>target</th>\n",
              "    </tr>\n",
              "  </thead>\n",
              "  <tbody>\n",
              "    <tr>\n",
              "      <th>count</th>\n",
              "      <td>303.000000</td>\n",
              "      <td>303.000000</td>\n",
              "      <td>303.000000</td>\n",
              "      <td>303.000000</td>\n",
              "      <td>303.000000</td>\n",
              "      <td>303.000000</td>\n",
              "      <td>303.000000</td>\n",
              "      <td>303.000000</td>\n",
              "      <td>303.000000</td>\n",
              "      <td>303.000000</td>\n",
              "      <td>303.000000</td>\n",
              "      <td>303.000000</td>\n",
              "      <td>303.000000</td>\n",
              "      <td>303.000000</td>\n",
              "    </tr>\n",
              "    <tr>\n",
              "      <th>mean</th>\n",
              "      <td>54.366337</td>\n",
              "      <td>0.683168</td>\n",
              "      <td>0.966997</td>\n",
              "      <td>131.623762</td>\n",
              "      <td>246.264026</td>\n",
              "      <td>0.148515</td>\n",
              "      <td>0.528053</td>\n",
              "      <td>149.646865</td>\n",
              "      <td>0.326733</td>\n",
              "      <td>1.039604</td>\n",
              "      <td>1.399340</td>\n",
              "      <td>0.729373</td>\n",
              "      <td>2.313531</td>\n",
              "      <td>0.544554</td>\n",
              "    </tr>\n",
              "    <tr>\n",
              "      <th>std</th>\n",
              "      <td>9.082101</td>\n",
              "      <td>0.466011</td>\n",
              "      <td>1.032052</td>\n",
              "      <td>17.538143</td>\n",
              "      <td>51.830751</td>\n",
              "      <td>0.356198</td>\n",
              "      <td>0.525860</td>\n",
              "      <td>22.905161</td>\n",
              "      <td>0.469794</td>\n",
              "      <td>1.161075</td>\n",
              "      <td>0.616226</td>\n",
              "      <td>1.022606</td>\n",
              "      <td>0.612277</td>\n",
              "      <td>0.498835</td>\n",
              "    </tr>\n",
              "    <tr>\n",
              "      <th>min</th>\n",
              "      <td>29.000000</td>\n",
              "      <td>0.000000</td>\n",
              "      <td>0.000000</td>\n",
              "      <td>94.000000</td>\n",
              "      <td>126.000000</td>\n",
              "      <td>0.000000</td>\n",
              "      <td>0.000000</td>\n",
              "      <td>71.000000</td>\n",
              "      <td>0.000000</td>\n",
              "      <td>0.000000</td>\n",
              "      <td>0.000000</td>\n",
              "      <td>0.000000</td>\n",
              "      <td>0.000000</td>\n",
              "      <td>0.000000</td>\n",
              "    </tr>\n",
              "    <tr>\n",
              "      <th>25%</th>\n",
              "      <td>47.500000</td>\n",
              "      <td>0.000000</td>\n",
              "      <td>0.000000</td>\n",
              "      <td>120.000000</td>\n",
              "      <td>211.000000</td>\n",
              "      <td>0.000000</td>\n",
              "      <td>0.000000</td>\n",
              "      <td>133.500000</td>\n",
              "      <td>0.000000</td>\n",
              "      <td>0.000000</td>\n",
              "      <td>1.000000</td>\n",
              "      <td>0.000000</td>\n",
              "      <td>2.000000</td>\n",
              "      <td>0.000000</td>\n",
              "    </tr>\n",
              "    <tr>\n",
              "      <th>50%</th>\n",
              "      <td>55.000000</td>\n",
              "      <td>1.000000</td>\n",
              "      <td>1.000000</td>\n",
              "      <td>130.000000</td>\n",
              "      <td>240.000000</td>\n",
              "      <td>0.000000</td>\n",
              "      <td>1.000000</td>\n",
              "      <td>153.000000</td>\n",
              "      <td>0.000000</td>\n",
              "      <td>0.800000</td>\n",
              "      <td>1.000000</td>\n",
              "      <td>0.000000</td>\n",
              "      <td>2.000000</td>\n",
              "      <td>1.000000</td>\n",
              "    </tr>\n",
              "    <tr>\n",
              "      <th>75%</th>\n",
              "      <td>61.000000</td>\n",
              "      <td>1.000000</td>\n",
              "      <td>2.000000</td>\n",
              "      <td>140.000000</td>\n",
              "      <td>274.500000</td>\n",
              "      <td>0.000000</td>\n",
              "      <td>1.000000</td>\n",
              "      <td>166.000000</td>\n",
              "      <td>1.000000</td>\n",
              "      <td>1.600000</td>\n",
              "      <td>2.000000</td>\n",
              "      <td>1.000000</td>\n",
              "      <td>3.000000</td>\n",
              "      <td>1.000000</td>\n",
              "    </tr>\n",
              "    <tr>\n",
              "      <th>max</th>\n",
              "      <td>77.000000</td>\n",
              "      <td>1.000000</td>\n",
              "      <td>3.000000</td>\n",
              "      <td>200.000000</td>\n",
              "      <td>564.000000</td>\n",
              "      <td>1.000000</td>\n",
              "      <td>2.000000</td>\n",
              "      <td>202.000000</td>\n",
              "      <td>1.000000</td>\n",
              "      <td>6.200000</td>\n",
              "      <td>2.000000</td>\n",
              "      <td>4.000000</td>\n",
              "      <td>3.000000</td>\n",
              "      <td>1.000000</td>\n",
              "    </tr>\n",
              "  </tbody>\n",
              "</table>\n",
              "</div>"
            ],
            "text/plain": [
              "              age         sex          cp  ...          ca        thal      target\n",
              "count  303.000000  303.000000  303.000000  ...  303.000000  303.000000  303.000000\n",
              "mean    54.366337    0.683168    0.966997  ...    0.729373    2.313531    0.544554\n",
              "std      9.082101    0.466011    1.032052  ...    1.022606    0.612277    0.498835\n",
              "min     29.000000    0.000000    0.000000  ...    0.000000    0.000000    0.000000\n",
              "25%     47.500000    0.000000    0.000000  ...    0.000000    2.000000    0.000000\n",
              "50%     55.000000    1.000000    1.000000  ...    0.000000    2.000000    1.000000\n",
              "75%     61.000000    1.000000    2.000000  ...    1.000000    3.000000    1.000000\n",
              "max     77.000000    1.000000    3.000000  ...    4.000000    3.000000    1.000000\n",
              "\n",
              "[8 rows x 14 columns]"
            ]
          },
          "metadata": {
            "tags": []
          },
          "execution_count": 3
        }
      ]
    },
    {
      "cell_type": "code",
      "metadata": {
        "id": "TKNeS9D41yzk",
        "colab_type": "code",
        "colab": {
          "base_uri": "https://localhost:8080/",
          "height": 382
        },
        "outputId": "cefeecd1-6aca-413d-8fa8-fa3c7d2fcd28"
      },
      "source": [
        "data.info()"
      ],
      "execution_count": null,
      "outputs": [
        {
          "output_type": "stream",
          "text": [
            "<class 'pandas.core.frame.DataFrame'>\n",
            "RangeIndex: 303 entries, 0 to 302\n",
            "Data columns (total 14 columns):\n",
            " #   Column    Non-Null Count  Dtype  \n",
            "---  ------    --------------  -----  \n",
            " 0   age       303 non-null    int64  \n",
            " 1   sex       303 non-null    int64  \n",
            " 2   cp        303 non-null    int64  \n",
            " 3   trestbps  303 non-null    int64  \n",
            " 4   chol      303 non-null    int64  \n",
            " 5   fbs       303 non-null    int64  \n",
            " 6   restecg   303 non-null    int64  \n",
            " 7   thalach   303 non-null    int64  \n",
            " 8   exang     303 non-null    int64  \n",
            " 9   oldpeak   303 non-null    float64\n",
            " 10  slope     303 non-null    int64  \n",
            " 11  ca        303 non-null    int64  \n",
            " 12  thal      303 non-null    int64  \n",
            " 13  target    303 non-null    int64  \n",
            "dtypes: float64(1), int64(13)\n",
            "memory usage: 33.3 KB\n"
          ],
          "name": "stdout"
        }
      ]
    },
    {
      "cell_type": "markdown",
      "metadata": {
        "id": "I0dqNm41-eVM",
        "colab_type": "text"
      },
      "source": [
        "categorical data is present in numerical format\n",
        "\n",
        "Categorical data:\n",
        "1. sex\n",
        "2. cp\n",
        "3. fbs\n",
        "4. restecg\n",
        "5. exang\n",
        "6. slope\n",
        "7. ca\n",
        "8. thal\n"
      ]
    },
    {
      "cell_type": "markdown",
      "metadata": {
        "id": "rJom9WNt_-Z6",
        "colab_type": "text"
      },
      "source": [
        "# ***EDA***"
      ]
    },
    {
      "cell_type": "markdown",
      "metadata": {
        "id": "8skSK_dqMrtR",
        "colab_type": "text"
      },
      "source": [
        "## 1. BASIC ANALYSIS"
      ]
    },
    {
      "cell_type": "code",
      "metadata": {
        "id": "sP-GrHSPADHN",
        "colab_type": "code",
        "colab": {
          "base_uri": "https://localhost:8080/",
          "height": 69
        },
        "outputId": "12538f23-e85f-49f0-90f1-a18ec5612d8e"
      },
      "source": [
        "data['target'].value_counts()"
      ],
      "execution_count": null,
      "outputs": [
        {
          "output_type": "execute_result",
          "data": {
            "text/plain": [
              "1    165\n",
              "0    138\n",
              "Name: target, dtype: int64"
            ]
          },
          "metadata": {
            "tags": []
          },
          "execution_count": 5
        }
      ]
    },
    {
      "cell_type": "markdown",
      "metadata": {
        "id": "PFsoab53AKG4",
        "colab_type": "text"
      },
      "source": [
        "Fairly balanced dataset"
      ]
    },
    {
      "cell_type": "code",
      "metadata": {
        "id": "CU-8d6gG__De",
        "colab_type": "code",
        "colab": {}
      },
      "source": [
        ""
      ],
      "execution_count": null,
      "outputs": []
    },
    {
      "cell_type": "code",
      "metadata": {
        "id": "s0gb3-XXAR4n",
        "colab_type": "code",
        "colab": {
          "base_uri": "https://localhost:8080/",
          "height": 278
        },
        "outputId": "3a0ba97d-af97-4a7a-96a0-e14a2bb8d69e"
      },
      "source": [
        "data.isnull().sum()"
      ],
      "execution_count": null,
      "outputs": [
        {
          "output_type": "execute_result",
          "data": {
            "text/plain": [
              "age         0\n",
              "sex         0\n",
              "cp          0\n",
              "trestbps    0\n",
              "chol        0\n",
              "fbs         0\n",
              "restecg     0\n",
              "thalach     0\n",
              "exang       0\n",
              "oldpeak     0\n",
              "slope       0\n",
              "ca          0\n",
              "thal        0\n",
              "target      0\n",
              "dtype: int64"
            ]
          },
          "metadata": {
            "tags": []
          },
          "execution_count": 6
        }
      ]
    },
    {
      "cell_type": "markdown",
      "metadata": {
        "id": "clpWykVQAYaj",
        "colab_type": "text"
      },
      "source": [
        "so we dont have any null or missing values"
      ]
    },
    {
      "cell_type": "code",
      "metadata": {
        "id": "qF7PoRBPAiux",
        "colab_type": "code",
        "colab": {}
      },
      "source": [
        ""
      ],
      "execution_count": null,
      "outputs": []
    },
    {
      "cell_type": "code",
      "metadata": {
        "id": "H3-5HA47AT4o",
        "colab_type": "code",
        "colab": {
          "base_uri": "https://localhost:8080/",
          "height": 81
        },
        "outputId": "c6f4d144-be1b-4493-faf0-c031cf355d0d"
      },
      "source": [
        "data.loc[data.duplicated()]"
      ],
      "execution_count": null,
      "outputs": [
        {
          "output_type": "execute_result",
          "data": {
            "text/html": [
              "<div>\n",
              "<style scoped>\n",
              "    .dataframe tbody tr th:only-of-type {\n",
              "        vertical-align: middle;\n",
              "    }\n",
              "\n",
              "    .dataframe tbody tr th {\n",
              "        vertical-align: top;\n",
              "    }\n",
              "\n",
              "    .dataframe thead th {\n",
              "        text-align: right;\n",
              "    }\n",
              "</style>\n",
              "<table border=\"1\" class=\"dataframe\">\n",
              "  <thead>\n",
              "    <tr style=\"text-align: right;\">\n",
              "      <th></th>\n",
              "      <th>age</th>\n",
              "      <th>sex</th>\n",
              "      <th>cp</th>\n",
              "      <th>trestbps</th>\n",
              "      <th>chol</th>\n",
              "      <th>fbs</th>\n",
              "      <th>restecg</th>\n",
              "      <th>thalach</th>\n",
              "      <th>exang</th>\n",
              "      <th>oldpeak</th>\n",
              "      <th>slope</th>\n",
              "      <th>ca</th>\n",
              "      <th>thal</th>\n",
              "      <th>target</th>\n",
              "    </tr>\n",
              "  </thead>\n",
              "  <tbody>\n",
              "    <tr>\n",
              "      <th>164</th>\n",
              "      <td>38</td>\n",
              "      <td>1</td>\n",
              "      <td>2</td>\n",
              "      <td>138</td>\n",
              "      <td>175</td>\n",
              "      <td>0</td>\n",
              "      <td>1</td>\n",
              "      <td>173</td>\n",
              "      <td>0</td>\n",
              "      <td>0.0</td>\n",
              "      <td>2</td>\n",
              "      <td>4</td>\n",
              "      <td>2</td>\n",
              "      <td>1</td>\n",
              "    </tr>\n",
              "  </tbody>\n",
              "</table>\n",
              "</div>"
            ],
            "text/plain": [
              "     age  sex  cp  trestbps  chol  fbs  ...  exang  oldpeak  slope  ca  thal  target\n",
              "164   38    1   2       138   175    0  ...      0      0.0      2   4     2       1\n",
              "\n",
              "[1 rows x 14 columns]"
            ]
          },
          "metadata": {
            "tags": []
          },
          "execution_count": 7
        }
      ]
    },
    {
      "cell_type": "markdown",
      "metadata": {
        "id": "uLA66CCUAkY0",
        "colab_type": "text"
      },
      "source": [
        "one duplicate row so lets drop it"
      ]
    },
    {
      "cell_type": "code",
      "metadata": {
        "id": "mhNtjPC3Ad5l",
        "colab_type": "code",
        "colab": {}
      },
      "source": [
        "data.drop(axis = 0, index = 164,inplace = True)"
      ],
      "execution_count": null,
      "outputs": []
    },
    {
      "cell_type": "code",
      "metadata": {
        "id": "rb85zkh3Atr2",
        "colab_type": "code",
        "colab": {}
      },
      "source": [
        ""
      ],
      "execution_count": null,
      "outputs": []
    },
    {
      "cell_type": "code",
      "metadata": {
        "id": "JYufujwsJO_s",
        "colab_type": "code",
        "colab": {
          "base_uri": "https://localhost:8080/",
          "height": 643
        },
        "outputId": "797f3015-dca5-4528-c64b-151e17d8dcb8"
      },
      "source": [
        "# Lets plot a correlation matrix and see if we can derive any strong corelation from there\n",
        "\n",
        "plt.figure(figsize=(10,10))\n",
        "sns.heatmap(data.corr(),annot=True,cmap='inferno',mask=np.triu(data.corr(),k=1))\n",
        "plt.title('Heatmap for the Dataset', fontsize = 20)\n",
        "plt.show()"
      ],
      "execution_count": null,
      "outputs": [
        {
          "output_type": "display_data",
          "data": {
            "image/png": "[encoded data removed]",
            "text/plain": [
              "<Figure size 720x720 with 2 Axes>"
            ]
          },
          "metadata": {
            "tags": [],
            "needs_background": "light"
          }
        }
      ]
    },
    {
      "cell_type": "code",
      "metadata": {
        "id": "zkUDypzE44bj",
        "colab_type": "code",
        "colab": {}
      },
      "source": [
        ""
      ],
      "execution_count": null,
      "outputs": []
    },
    {
      "cell_type": "markdown",
      "metadata": {
        "id": "GPKGLcNe4iED",
        "colab_type": "text"
      },
      "source": [
        "The above Heat Map shows that almost all of the features/attributes given in the dataset are very less correlated with each other. This implies we must include all of the features, as we can only eliminate those features where the correlation of two or more features are very high."
      ]
    },
    {
      "cell_type": "code",
      "metadata": {
        "id": "ClKTWBa0JPnH",
        "colab_type": "code",
        "colab": {}
      },
      "source": [
        ""
      ],
      "execution_count": null,
      "outputs": []
    },
    {
      "cell_type": "markdown",
      "metadata": {
        "id": "O6QXB76W5ikz",
        "colab_type": "text"
      },
      "source": [
        ""
      ]
    },
    {
      "cell_type": "code",
      "metadata": {
        "id": "jmiQdAGk5GEf",
        "colab_type": "code",
        "colab": {}
      },
      "source": [
        ""
      ],
      "execution_count": null,
      "outputs": []
    },
    {
      "cell_type": "code",
      "metadata": {
        "id": "iXuWUCFXCiQ9",
        "colab_type": "code",
        "colab": {
          "base_uri": "https://localhost:8080/",
          "height": 52
        },
        "outputId": "e1da8413-cf4a-4017-af6d-5b85c3305442"
      },
      "source": [
        "countofnodis = len(data[data['target'] == 0])\n",
        "countofdis = len(data[data['target'] == 1])\n",
        "\n",
        "print(\"percent of people with no heart diseaea = {:2f}\".format(countofnodis/len(data['target'])*100))\n",
        "print(\"percent of people with no heart diseaea = {:2f}\".format(countofdis/len(data['target'])*100))\n"
      ],
      "execution_count": null,
      "outputs": [
        {
          "output_type": "stream",
          "text": [
            "percent of people with no heart diseaea = 45.695364\n",
            "percent of people with no heart diseaea = 54.304636\n"
          ],
          "name": "stdout"
        }
      ]
    },
    {
      "cell_type": "code",
      "metadata": {
        "id": "gUqEv1B0B1mb",
        "colab_type": "code",
        "colab": {}
      },
      "source": [
        ""
      ],
      "execution_count": null,
      "outputs": []
    },
    {
      "cell_type": "markdown",
      "metadata": {
        "id": "YfCtSLUcMZb1",
        "colab_type": "text"
      },
      "source": [
        "## 2. VISUALIZING NUMERICAL DATA"
      ]
    },
    {
      "cell_type": "code",
      "metadata": {
        "id": "v4A96jZsBwJX",
        "colab_type": "code",
        "colab": {
          "base_uri": "https://localhost:8080/"
        },
        "outputId": "931ccbd9-2225-4bbd-dc28-67dffb399554"
      },
      "source": [
        "import warnings\n",
        "warnings.filterwarnings(\"ignore\")\n",
        "plt.rcParams['figure.figsize'] = (10,5)\n",
        "sns.distplot(data['age'])\n",
        "plt.title('Distribution of Age', fontsize = 20)\n",
        "plt.show()"
      ],
      "execution_count": null,
      "outputs": [
        {
          "output_type": "display_data",
          "data": {
            "image/png": "[encoded data removed]",
            "text/plain": [
              "<Figure size 720x360 with 1 Axes>"
            ]
          },
          "metadata": {
            "tags": [],
            "needs_background": "light"
          }
        }
      ]
    },
    {
      "cell_type": "markdown",
      "metadata": {
        "id": "2xO-A6KVBzwh",
        "colab_type": "text"
      },
      "source": [
        "The above Distribution plot shows the distribution of Age amongst all of the entries in the dataset about the heart patients. The Graph suggests that the highest number of people suffering from heart diseases are in the age group of 55-65 years. The patients in the age group 20-30 are very less likely to suffer from heart diseases."
      ]
    },
    {
      "cell_type": "code",
      "metadata": {
        "id": "DVa7e7tiBwzO",
        "colab_type": "code",
        "colab": {
          "base_uri": "https://localhost:8080/"
        },
        "outputId": "9e5a8f0e-7ac5-431a-f076-2b167d1671ac"
      },
      "source": [
        "pd.crosstab(data.age,data.target) #gives us a frequency table"
      ],
      "execution_count": null,
      "outputs": [
        {
          "output_type": "execute_result",
          "data": {
            "text/html": [
              "<div>\n",
              "<style scoped>\n",
              "    .dataframe tbody tr th:only-of-type {\n",
              "        vertical-align: middle;\n",
              "    }\n",
              "\n",
              "    .dataframe tbody tr th {\n",
              "        vertical-align: top;\n",
              "    }\n",
              "\n",
              "    .dataframe thead th {\n",
              "        text-align: right;\n",
              "    }\n",
              "</style>\n",
              "<table border=\"1\" class=\"dataframe\">\n",
              "  <thead>\n",
              "    <tr style=\"text-align: right;\">\n",
              "      <th>target</th>\n",
              "      <th>0</th>\n",
              "      <th>1</th>\n",
              "    </tr>\n",
              "    <tr>\n",
              "      <th>age</th>\n",
              "      <th></th>\n",
              "      <th></th>\n",
              "    </tr>\n",
              "  </thead>\n",
              "  <tbody>\n",
              "    <tr>\n",
              "      <th>29</th>\n",
              "      <td>0</td>\n",
              "      <td>1</td>\n",
              "    </tr>\n",
              "    <tr>\n",
              "      <th>34</th>\n",
              "      <td>0</td>\n",
              "      <td>2</td>\n",
              "    </tr>\n",
              "    <tr>\n",
              "      <th>35</th>\n",
              "      <td>2</td>\n",
              "      <td>2</td>\n",
              "    </tr>\n",
              "    <tr>\n",
              "      <th>37</th>\n",
              "      <td>0</td>\n",
              "      <td>2</td>\n",
              "    </tr>\n",
              "    <tr>\n",
              "      <th>38</th>\n",
              "      <td>1</td>\n",
              "      <td>1</td>\n",
              "    </tr>\n",
              "    <tr>\n",
              "      <th>39</th>\n",
              "      <td>1</td>\n",
              "      <td>3</td>\n",
              "    </tr>\n",
              "    <tr>\n",
              "      <th>40</th>\n",
              "      <td>2</td>\n",
              "      <td>1</td>\n",
              "    </tr>\n",
              "    <tr>\n",
              "      <th>41</th>\n",
              "      <td>1</td>\n",
              "      <td>9</td>\n",
              "    </tr>\n",
              "    <tr>\n",
              "      <th>42</th>\n",
              "      <td>1</td>\n",
              "      <td>7</td>\n",
              "    </tr>\n",
              "    <tr>\n",
              "      <th>43</th>\n",
              "      <td>3</td>\n",
              "      <td>5</td>\n",
              "    </tr>\n",
              "    <tr>\n",
              "      <th>44</th>\n",
              "      <td>3</td>\n",
              "      <td>8</td>\n",
              "    </tr>\n",
              "    <tr>\n",
              "      <th>45</th>\n",
              "      <td>2</td>\n",
              "      <td>6</td>\n",
              "    </tr>\n",
              "    <tr>\n",
              "      <th>46</th>\n",
              "      <td>3</td>\n",
              "      <td>4</td>\n",
              "    </tr>\n",
              "    <tr>\n",
              "      <th>47</th>\n",
              "      <td>2</td>\n",
              "      <td>3</td>\n",
              "    </tr>\n",
              "    <tr>\n",
              "      <th>48</th>\n",
              "      <td>3</td>\n",
              "      <td>4</td>\n",
              "    </tr>\n",
              "    <tr>\n",
              "      <th>49</th>\n",
              "      <td>2</td>\n",
              "      <td>3</td>\n",
              "    </tr>\n",
              "    <tr>\n",
              "      <th>50</th>\n",
              "      <td>3</td>\n",
              "      <td>4</td>\n",
              "    </tr>\n",
              "    <tr>\n",
              "      <th>51</th>\n",
              "      <td>3</td>\n",
              "      <td>9</td>\n",
              "    </tr>\n",
              "    <tr>\n",
              "      <th>52</th>\n",
              "      <td>4</td>\n",
              "      <td>9</td>\n",
              "    </tr>\n",
              "    <tr>\n",
              "      <th>53</th>\n",
              "      <td>2</td>\n",
              "      <td>6</td>\n",
              "    </tr>\n",
              "    <tr>\n",
              "      <th>54</th>\n",
              "      <td>6</td>\n",
              "      <td>10</td>\n",
              "    </tr>\n",
              "    <tr>\n",
              "      <th>55</th>\n",
              "      <td>5</td>\n",
              "      <td>3</td>\n",
              "    </tr>\n",
              "    <tr>\n",
              "      <th>56</th>\n",
              "      <td>6</td>\n",
              "      <td>5</td>\n",
              "    </tr>\n",
              "    <tr>\n",
              "      <th>57</th>\n",
              "      <td>10</td>\n",
              "      <td>7</td>\n",
              "    </tr>\n",
              "    <tr>\n",
              "      <th>58</th>\n",
              "      <td>12</td>\n",
              "      <td>7</td>\n",
              "    </tr>\n",
              "    <tr>\n",
              "      <th>59</th>\n",
              "      <td>9</td>\n",
              "      <td>5</td>\n",
              "    </tr>\n",
              "    <tr>\n",
              "      <th>60</th>\n",
              "      <td>8</td>\n",
              "      <td>3</td>\n",
              "    </tr>\n",
              "    <tr>\n",
              "      <th>61</th>\n",
              "      <td>7</td>\n",
              "      <td>1</td>\n",
              "    </tr>\n",
              "    <tr>\n",
              "      <th>62</th>\n",
              "      <td>7</td>\n",
              "      <td>4</td>\n",
              "    </tr>\n",
              "    <tr>\n",
              "      <th>63</th>\n",
              "      <td>6</td>\n",
              "      <td>3</td>\n",
              "    </tr>\n",
              "    <tr>\n",
              "      <th>64</th>\n",
              "      <td>4</td>\n",
              "      <td>6</td>\n",
              "    </tr>\n",
              "    <tr>\n",
              "      <th>65</th>\n",
              "      <td>4</td>\n",
              "      <td>4</td>\n",
              "    </tr>\n",
              "    <tr>\n",
              "      <th>66</th>\n",
              "      <td>3</td>\n",
              "      <td>4</td>\n",
              "    </tr>\n",
              "    <tr>\n",
              "      <th>67</th>\n",
              "      <td>6</td>\n",
              "      <td>3</td>\n",
              "    </tr>\n",
              "    <tr>\n",
              "      <th>68</th>\n",
              "      <td>2</td>\n",
              "      <td>2</td>\n",
              "    </tr>\n",
              "    <tr>\n",
              "      <th>69</th>\n",
              "      <td>1</td>\n",
              "      <td>2</td>\n",
              "    </tr>\n",
              "    <tr>\n",
              "      <th>70</th>\n",
              "      <td>3</td>\n",
              "      <td>1</td>\n",
              "    </tr>\n",
              "    <tr>\n",
              "      <th>71</th>\n",
              "      <td>0</td>\n",
              "      <td>3</td>\n",
              "    </tr>\n",
              "    <tr>\n",
              "      <th>74</th>\n",
              "      <td>0</td>\n",
              "      <td>1</td>\n",
              "    </tr>\n",
              "    <tr>\n",
              "      <th>76</th>\n",
              "      <td>0</td>\n",
              "      <td>1</td>\n",
              "    </tr>\n",
              "    <tr>\n",
              "      <th>77</th>\n",
              "      <td>1</td>\n",
              "      <td>0</td>\n",
              "    </tr>\n",
              "  </tbody>\n",
              "</table>\n",
              "</div>"
            ],
            "text/plain": [
              "target   0   1\n",
              "age           \n",
              "29       0   1\n",
              "34       0   2\n",
              "35       2   2\n",
              "37       0   2\n",
              "38       1   1\n",
              "39       1   3\n",
              "40       2   1\n",
              "41       1   9\n",
              "42       1   7\n",
              "43       3   5\n",
              "44       3   8\n",
              "45       2   6\n",
              "46       3   4\n",
              "47       2   3\n",
              "48       3   4\n",
              "49       2   3\n",
              "50       3   4\n",
              "51       3   9\n",
              "52       4   9\n",
              "53       2   6\n",
              "54       6  10\n",
              "55       5   3\n",
              "56       6   5\n",
              "57      10   7\n",
              "58      12   7\n",
              "59       9   5\n",
              "60       8   3\n",
              "61       7   1\n",
              "62       7   4\n",
              "63       6   3\n",
              "64       4   6\n",
              "65       4   4\n",
              "66       3   4\n",
              "67       6   3\n",
              "68       2   2\n",
              "69       1   2\n",
              "70       3   1\n",
              "71       0   3\n",
              "74       0   1\n",
              "76       0   1\n",
              "77       1   0"
            ]
          },
          "metadata": {
            "tags": []
          },
          "execution_count": 12
        }
      ]
    },
    {
      "cell_type": "code",
      "metadata": {
        "id": "xzU0CxNkGZGu",
        "colab_type": "code",
        "colab": {
          "base_uri": "https://localhost:8080/"
        },
        "outputId": "0fda96a3-46d6-4ca0-8a19-54325b6aed00"
      },
      "source": [
        "pd.crosstab(data.age,data.target).plot(kind=\"bar\",figsize=(20,6))\n",
        "plt.title('Heart Disease Frequency for Ages')\n",
        "plt.xlabel('Age')\n",
        "plt.ylabel('Frequency')\n",
        "plt.show()"
      ],
      "execution_count": null,
      "outputs": [
        {
          "output_type": "display_data",
          "data": {
            "image/png": "[encoded data removed]",
            "text/plain": [
              "<Figure size 1440x432 with 1 Axes>"
            ]
          },
          "metadata": {
            "tags": [],
            "needs_background": "light"
          }
        }
      ]
    },
    {
      "cell_type": "markdown",
      "metadata": {
        "id": "QCB1mD_mGeFN",
        "colab_type": "text"
      },
      "source": [
        "A much more detailed view of the above distribution"
      ]
    },
    {
      "cell_type": "code",
      "metadata": {
        "id": "8WbZU3SxGcpt",
        "colab_type": "code",
        "colab": {}
      },
      "source": [
        ""
      ],
      "execution_count": null,
      "outputs": []
    },
    {
      "cell_type": "code",
      "metadata": {
        "id": "TGhNzKDxCojG",
        "colab_type": "code",
        "colab": {
          "base_uri": "https://localhost:8080/"
        },
        "outputId": "93cf23c0-a5b9-4695-b518-3c0c864f8850"
      },
      "source": [
        "\n",
        "sns.countplot(x='sex', data=data)\n",
        "plt.xlabel(\"Sex (0 = female, 1= male)\")\n",
        "plt.show()"
      ],
      "execution_count": null,
      "outputs": [
        {
          "output_type": "display_data",
          "data": {
            "image/png": "[encoded data removed]",
            "text/plain": [
              "<Figure size 720x360 with 1 Axes>"
            ]
          },
          "metadata": {
            "tags": [],
            "needs_background": "light"
          }
        }
      ]
    },
    {
      "cell_type": "markdown",
      "metadata": {
        "id": "220HerISH-Pv",
        "colab_type": "text"
      },
      "source": [
        "we see that no. of males is double that of females, meaning more no. of males took part in the study\n"
      ]
    },
    {
      "cell_type": "code",
      "metadata": {
        "id": "8NcKZhbfB8pt",
        "colab_type": "code",
        "colab": {}
      },
      "source": [
        ""
      ],
      "execution_count": null,
      "outputs": []
    },
    {
      "cell_type": "code",
      "metadata": {
        "id": "5EFnz654IVHp",
        "colab_type": "code",
        "colab": {
          "base_uri": "https://localhost:8080/"
        },
        "outputId": "4d3b90ed-0375-432a-9577-ad4e95ad3d69"
      },
      "source": [
        "countFemale = len(data[data.sex == 0])\n",
        "countMale = len(data[data.sex == 1])\n",
        "print(\"Percentage of Female Patients: {:.2f}%\".format((countFemale / (len(data.sex))*100)))\n",
        "print(\"Percentage of Male Patients: {:.2f}%\".format((countMale / (len(data.sex))*100)))\n"
      ],
      "execution_count": null,
      "outputs": [
        {
          "output_type": "stream",
          "text": [
            "Percentage of Female Patients: 31.79%\n",
            "Percentage of Male Patients: 68.21%\n"
          ],
          "name": "stdout"
        }
      ]
    },
    {
      "cell_type": "markdown",
      "metadata": {
        "id": "C4GkyLcDCF-b",
        "colab_type": "text"
      },
      "source": [
        "this can be because of double the no. of males taking part in the study"
      ]
    },
    {
      "cell_type": "code",
      "metadata": {
        "id": "ixO1vEU5Iphr",
        "colab_type": "code",
        "colab": {}
      },
      "source": [
        ""
      ],
      "execution_count": null,
      "outputs": []
    },
    {
      "cell_type": "code",
      "metadata": {
        "id": "CpZC-coyH7h-",
        "colab_type": "code",
        "colab": {
          "base_uri": "https://localhost:8080/"
        },
        "outputId": "0fdd4ac8-b6ec-4451-a210-c84a02e5716a"
      },
      "source": [
        "plt.figure(figsize = (10, 6))\n",
        "sns.catplot(x = 'sex', hue = 'target',kind=\"count\", data = data)\n",
        "plt.show()\n"
      ],
      "execution_count": null,
      "outputs": [
        {
          "output_type": "display_data",
          "data": {
            "text/plain": [
              "<Figure size 720x432 with 0 Axes>"
            ]
          },
          "metadata": {
            "tags": []
          }
        },
        {
          "output_type": "display_data",
          "data": {
            "image/png": "[encoded data removed]",
            "text/plain": [
              "<Figure size 402.375x360 with 1 Axes>"
            ]
          },
          "metadata": {
            "tags": [],
            "needs_background": "light"
          }
        }
      ]
    },
    {
      "cell_type": "code",
      "metadata": {
        "id": "L09sa2c4I2j6",
        "colab_type": "code",
        "colab": {}
      },
      "source": [
        ""
      ],
      "execution_count": null,
      "outputs": []
    },
    {
      "cell_type": "code",
      "metadata": {
        "id": "u0SpoGPEJLoW",
        "colab_type": "code",
        "colab": {
          "base_uri": "https://localhost:8080/"
        },
        "outputId": "4884f654-9421-405e-9a38-cb2250d686a5"
      },
      "source": [
        " data.groupby('target').mean()"
      ],
      "execution_count": null,
      "outputs": [
        {
          "output_type": "execute_result",
          "data": {
            "text/html": [
              "<div>\n",
              "<style scoped>\n",
              "    .dataframe tbody tr th:only-of-type {\n",
              "        vertical-align: middle;\n",
              "    }\n",
              "\n",
              "    .dataframe tbody tr th {\n",
              "        vertical-align: top;\n",
              "    }\n",
              "\n",
              "    .dataframe thead th {\n",
              "        text-align: right;\n",
              "    }\n",
              "</style>\n",
              "<table border=\"1\" class=\"dataframe\">\n",
              "  <thead>\n",
              "    <tr style=\"text-align: right;\">\n",
              "      <th></th>\n",
              "      <th>age</th>\n",
              "      <th>sex</th>\n",
              "      <th>cp</th>\n",
              "      <th>trestbps</th>\n",
              "      <th>chol</th>\n",
              "      <th>fbs</th>\n",
              "      <th>restecg</th>\n",
              "      <th>thalach</th>\n",
              "      <th>exang</th>\n",
              "      <th>oldpeak</th>\n",
              "      <th>slope</th>\n",
              "      <th>ca</th>\n",
              "      <th>thal</th>\n",
              "    </tr>\n",
              "    <tr>\n",
              "      <th>target</th>\n",
              "      <th></th>\n",
              "      <th></th>\n",
              "      <th></th>\n",
              "      <th></th>\n",
              "      <th></th>\n",
              "      <th></th>\n",
              "      <th></th>\n",
              "      <th></th>\n",
              "      <th></th>\n",
              "      <th></th>\n",
              "      <th></th>\n",
              "      <th></th>\n",
              "      <th></th>\n",
              "    </tr>\n",
              "  </thead>\n",
              "  <tbody>\n",
              "    <tr>\n",
              "      <th>0</th>\n",
              "      <td>56.601449</td>\n",
              "      <td>0.826087</td>\n",
              "      <td>0.478261</td>\n",
              "      <td>134.398551</td>\n",
              "      <td>251.086957</td>\n",
              "      <td>0.159420</td>\n",
              "      <td>0.449275</td>\n",
              "      <td>139.101449</td>\n",
              "      <td>0.550725</td>\n",
              "      <td>1.585507</td>\n",
              "      <td>1.166667</td>\n",
              "      <td>1.166667</td>\n",
              "      <td>2.543478</td>\n",
              "    </tr>\n",
              "    <tr>\n",
              "      <th>1</th>\n",
              "      <td>52.585366</td>\n",
              "      <td>0.560976</td>\n",
              "      <td>1.371951</td>\n",
              "      <td>129.250000</td>\n",
              "      <td>242.640244</td>\n",
              "      <td>0.140244</td>\n",
              "      <td>0.591463</td>\n",
              "      <td>158.378049</td>\n",
              "      <td>0.140244</td>\n",
              "      <td>0.586585</td>\n",
              "      <td>1.591463</td>\n",
              "      <td>0.341463</td>\n",
              "      <td>2.121951</td>\n",
              "    </tr>\n",
              "  </tbody>\n",
              "</table>\n",
              "</div>"
            ],
            "text/plain": [
              "              age       sex        cp  ...     slope        ca      thal\n",
              "target                                 ...                              \n",
              "0       56.601449  0.826087  0.478261  ...  1.166667  1.166667  2.543478\n",
              "1       52.585366  0.560976  1.371951  ...  1.591463  0.341463  2.121951\n",
              "\n",
              "[2 rows x 13 columns]"
            ]
          },
          "metadata": {
            "tags": []
          },
          "execution_count": 17
        }
      ]
    },
    {
      "cell_type": "code",
      "metadata": {
        "id": "Y8APeHyHCvgy",
        "colab_type": "code",
        "colab": {}
      },
      "source": [
        ""
      ],
      "execution_count": null,
      "outputs": []
    },
    {
      "cell_type": "markdown",
      "metadata": {
        "id": "A1xau1dWCi1A",
        "colab_type": "text"
      },
      "source": [
        "numerical variables: age, trestbps, chol, thalach, odlpeak\n",
        "\n",
        "Out of this numerical variables chol,thalach and oldpeak have significant differences in the mean value for patients vs non- patients so lets analyze them"
      ]
    },
    {
      "cell_type": "code",
      "metadata": {
        "id": "y0l2QjmmKVzu",
        "colab_type": "code",
        "colab": {}
      },
      "source": [
        ""
      ],
      "execution_count": null,
      "outputs": []
    },
    {
      "cell_type": "code",
      "metadata": {
        "id": "dfGVcky1wp39",
        "colab_type": "code",
        "colab": {
          "base_uri": "https://localhost:8080/"
        },
        "outputId": "d9dfb5b0-e658-47ad-c9e0-64773a09cced"
      },
      "source": [
        "# tresbps vs target\n",
        "plt.rcParams['figure.figsize'] = (10,5)\n",
        "sns.boxplot(data['target'],data['trestbps'])\n",
        "plt.title('Relation of tresbps with target', fontsize = 20)\n",
        "plt.show()\n",
        "\n"
      ],
      "execution_count": null,
      "outputs": [
        {
          "output_type": "display_data",
          "data": {
            "image/png": "[encoded data removed]",
            "text/plain": [
              "<Figure size 720x360 with 1 Axes>"
            ]
          },
          "metadata": {
            "tags": [],
            "needs_background": "light"
          }
        }
      ]
    },
    {
      "cell_type": "markdown",
      "metadata": {
        "id": "yrJ18iaEHHXa",
        "colab_type": "text"
      },
      "source": [
        "The plot clearly suggests that the patients who are most likely to not suffer from the disease have a slighly greater blood pressure than the patients who have heart diseases."
      ]
    },
    {
      "cell_type": "code",
      "metadata": {
        "id": "wFFcUUy3wgSz",
        "colab_type": "code",
        "colab": {}
      },
      "source": [
        ""
      ],
      "execution_count": null,
      "outputs": []
    },
    {
      "cell_type": "code",
      "metadata": {
        "id": "unqJxAhvHeK4",
        "colab_type": "code",
        "colab": {
          "base_uri": "https://localhost:8080/"
        },
        "outputId": "4e3b603a-fe78-4357-f2fc-4ed365790ec5"
      },
      "source": [
        "plt.rcParams['figure.figsize'] = (10, 5)\n",
        "sns.violinplot(data['target'], data['chol'], palette = 'colorblind')\n",
        "plt.title('Relation of Cholestrol with Target', fontsize = 20, fontweight = 30)\n",
        "plt.show()"
      ],
      "execution_count": null,
      "outputs": [
        {
          "output_type": "display_data",
          "data": {
            "image/png": "[encoded data removed]",
            "text/plain": [
              "<Figure size 720x360 with 1 Axes>"
            ]
          },
          "metadata": {
            "tags": [],
            "needs_background": "light"
          }
        }
      ]
    },
    {
      "cell_type": "markdown",
      "metadata": {
        "id": "VIfROK7LHqkf",
        "colab_type": "text"
      },
      "source": [
        "The above plot between cholestrol levels and target suggests that the Patients likely to suffer from heart diseases are having higher cholestrol levels in comparison to the patients with target 0(likely to not suffer from the heart diseases.\n",
        "\n",
        "Hence, we can infer from the above plot that the cholestrol levels plays an important role in determining heart diseases.\n",
        "\n"
      ]
    },
    {
      "cell_type": "code",
      "metadata": {
        "id": "znZ8qJFHHiY8",
        "colab_type": "code",
        "colab": {}
      },
      "source": [
        ""
      ],
      "execution_count": null,
      "outputs": []
    },
    {
      "cell_type": "code",
      "metadata": {
        "id": "do5BlhJ5H3IY",
        "colab_type": "code",
        "colab": {
          "base_uri": "https://localhost:8080/"
        },
        "outputId": "c7b5caa6-c546-4fef-8dba-964d265e43a6"
      },
      "source": [
        "plt.figure(figsize = (10, 6))\n",
        "sns.boxplot(data[\"target\"],data[\"thalach\"])\n",
        "plt.title(\"Relation of maximum heart rate achieved with target\")\n",
        "plt.ylabel(\"maximum heart rate\")\n",
        "plt.show()\n"
      ],
      "execution_count": null,
      "outputs": [
        {
          "output_type": "display_data",
          "data": {
            "image/png": "[encoded data removed]",
            "text/plain": [
              "<Figure size 720x432 with 1 Axes>"
            ]
          },
          "metadata": {
            "tags": [],
            "needs_background": "light"
          }
        }
      ]
    },
    {
      "cell_type": "markdown",
      "metadata": {
        "id": "NNhYOuwTIgFo",
        "colab_type": "text"
      },
      "source": [
        "maximum heart rate achieved for patients of heart disease is clearly more than maximum heart rate for non-patients so it will be a good dependent variable.\n"
      ]
    },
    {
      "cell_type": "code",
      "metadata": {
        "id": "2h8XsxejIdVg",
        "colab_type": "code",
        "colab": {}
      },
      "source": [
        ""
      ],
      "execution_count": null,
      "outputs": []
    },
    {
      "cell_type": "code",
      "metadata": {
        "id": "u3I4qMDmKm4L",
        "colab_type": "code",
        "colab": {
          "base_uri": "https://localhost:8080/"
        },
        "outputId": "0ec01581-a13b-4c41-80f9-b5260c3c84ae"
      },
      "source": [
        "plt.rcParams['figure.figsize'] = (10,5)\n",
        "sns.distplot(data['oldpeak'])\n",
        "plt.title('Distribution of Oldpeak', fontsize = 12)\n",
        "plt.show()"
      ],
      "execution_count": null,
      "outputs": [
        {
          "output_type": "display_data",
          "data": {
            "image/png": "[encoded data removed]",
            "text/plain": [
              "<Figure size 720x360 with 1 Axes>"
            ]
          },
          "metadata": {
            "tags": [],
            "needs_background": "light"
          }
        }
      ]
    },
    {
      "cell_type": "code",
      "metadata": {
        "id": "4u8Vi7EhIFFB",
        "colab_type": "code",
        "colab": {
          "base_uri": "https://localhost:8080/"
        },
        "outputId": "43cee93f-b73c-40a9-fc46-e82aaf2a0e47"
      },
      "source": [
        "plt.figure(figsize = (10, 6))\n",
        "sns.boxplot(data[\"target\"],data[\"oldpeak\"])\n",
        "plt.title(\"Relation of maximum heart rate achieved with target\")\n",
        "plt.show()"
      ],
      "execution_count": null,
      "outputs": [
        {
          "output_type": "display_data",
          "data": {
            "image/png": "[encoded data removed]",
            "text/plain": [
              "<Figure size 720x432 with 1 Axes>"
            ]
          },
          "metadata": {
            "tags": [],
            "needs_background": "light"
          }
        }
      ]
    },
    {
      "cell_type": "markdown",
      "metadata": {
        "id": "XPD4e9ajLJRt",
        "colab_type": "text"
      },
      "source": [
        "People with heart disease have lower old peak than that with no heart disease "
      ]
    },
    {
      "cell_type": "code",
      "metadata": {
        "id": "ZuJQNevcH86m",
        "colab_type": "code",
        "colab": {}
      },
      "source": [
        ""
      ],
      "execution_count": null,
      "outputs": []
    },
    {
      "cell_type": "markdown",
      "metadata": {
        "id": "RG1_IsbtMe3z",
        "colab_type": "text"
      },
      "source": [
        "## 3. VISUALIZING CATEGORICAL DATA"
      ]
    },
    {
      "cell_type": "code",
      "metadata": {
        "id": "clYkHEAjMeS9",
        "colab_type": "code",
        "colab": {
          "base_uri": "https://localhost:8080/"
        },
        "outputId": "e9ac1140-8720-482e-ba15-e6d4251227c4"
      },
      "source": [
        "# Resting electrocardiographic measurement vs target\n",
        "\n",
        "plt.figure(figsize = (10, 6))\n",
        "sns.catplot(x = 'target', hue = 'restecg',kind=\"count\", data = data)\n",
        "plt.show()"
      ],
      "execution_count": null,
      "outputs": [
        {
          "output_type": "display_data",
          "data": {
            "text/plain": [
              "<Figure size 720x432 with 0 Axes>"
            ]
          },
          "metadata": {
            "tags": []
          }
        },
        {
          "output_type": "display_data",
          "data": {
            "image/png": "[encoded data removed]",
            "text/plain": [
              "<Figure size 405.125x360 with 1 Axes>"
            ]
          },
          "metadata": {
            "tags": [],
            "needs_background": "light"
          }
        }
      ]
    },
    {
      "cell_type": "markdown",
      "metadata": {
        "id": "vjtyNcFUNchi",
        "colab_type": "text"
      },
      "source": [
        "The above plot shows that the more number of patients not likely to suffer from heart diseases are having restscg value 0 whereas more number of people have restecg value 1 in case of more likelihood of suffering from a heart disease."
      ]
    },
    {
      "cell_type": "code",
      "metadata": {
        "id": "AilSZCtPNNEa",
        "colab_type": "code",
        "colab": {}
      },
      "source": [
        ""
      ],
      "execution_count": null,
      "outputs": []
    },
    {
      "cell_type": "code",
      "metadata": {
        "id": "gMmecm97OL88",
        "colab_type": "code",
        "colab": {
          "base_uri": "https://localhost:8080/"
        },
        "outputId": "0c6d5dfe-9d3a-44f2-a938-ad124c21f222"
      },
      "source": [
        "# Peak Exercise(slope) measurement vs target\n",
        "plt.figure(figsize = (10, 6))\n",
        "sns.catplot(x = 'target', hue = 'slope',kind=\"count\", data = data)\n",
        "plt.title('Relation between Peak Exercise and Target', fontsize = 10)\n",
        "plt.show()"
      ],
      "execution_count": null,
      "outputs": [
        {
          "output_type": "display_data",
          "data": {
            "text/plain": [
              "<Figure size 720x432 with 0 Axes>"
            ]
          },
          "metadata": {
            "tags": []
          }
        },
        {
          "output_type": "display_data",
          "data": {
            "image/png": "[encoded data removed]",
            "text/plain": [
              "<Figure size 402.375x360 with 1 Axes>"
            ]
          },
          "metadata": {
            "tags": [],
            "needs_background": "light"
          }
        }
      ]
    },
    {
      "cell_type": "markdown",
      "metadata": {
        "id": "gfBktLeqOWtc",
        "colab_type": "text"
      },
      "source": [
        "slope = {Up(0), flat(1), down(2)}\n",
        "\n",
        "This plot clearly shows that the patients who are not likely to suffer from any heart diseases are mostly having value 1 means upsloping, whereas very few people suffering from heart diseases have upsloping pattern in exercises. Also, Flat Exercises are mostly seen in the cases of Patients who are more likely to suffer from heart diseases."
      ]
    },
    {
      "cell_type": "code",
      "metadata": {
        "id": "So27oGDKOPET",
        "colab_type": "code",
        "colab": {}
      },
      "source": [
        ""
      ],
      "execution_count": null,
      "outputs": []
    },
    {
      "cell_type": "code",
      "metadata": {
        "id": "fXzkXukVPaJy",
        "colab_type": "code",
        "colab": {
          "base_uri": "https://localhost:8080/"
        },
        "outputId": "db818d99-ea11-42d4-a74b-e6271e73bae5"
      },
      "source": [
        "# no.of major vessels(ca) vs target\n",
        "\n",
        "plt.figure(figsize = (10, 6))\n",
        "sns.catplot(x = 'target', hue = 'ca',kind=\"count\", data = data)\n",
        "plt.title(\"relation between no.of major vessels and disease\")\n",
        "plt.show()"
      ],
      "execution_count": null,
      "outputs": [
        {
          "output_type": "display_data",
          "data": {
            "text/plain": [
              "<Figure size 720x432 with 0 Axes>"
            ]
          },
          "metadata": {
            "tags": []
          }
        },
        {
          "output_type": "display_data",
          "data": {
            "image/png": "[encoded data removed]",
            "text/plain": [
              "<Figure size 402.375x360 with 1 Axes>"
            ]
          },
          "metadata": {
            "tags": [],
            "needs_background": "light"
          }
        }
      ]
    },
    {
      "cell_type": "markdown",
      "metadata": {
        "id": "pRSoHNSHQ9hB",
        "colab_type": "text"
      },
      "source": [
        "from the above graph, we can see that ca parameter = 0 for most of the peope suffering fom heart disease so it can be a good classifier"
      ]
    },
    {
      "cell_type": "code",
      "metadata": {
        "id": "WvMwS3rjRQJO",
        "colab_type": "code",
        "colab": {}
      },
      "source": [
        " "
      ],
      "execution_count": null,
      "outputs": []
    },
    {
      "cell_type": "code",
      "metadata": {
        "id": "b7UoAxBwWGjN",
        "colab_type": "code",
        "colab": {
          "base_uri": "https://localhost:8080/"
        },
        "outputId": "54dc4b8d-3da2-4248-dfbb-9d3dffa6649b"
      },
      "source": [
        "# no.of major vessels(ca) vs target\n",
        "\n",
        "plt.figure(figsize = (10, 6))\n",
        "sns.catplot(x = 'target', hue = 'cp',kind=\"count\", data = data)\n",
        "plt.title(\"relation between no.of major vessels and disease\")\n",
        "plt.show()"
      ],
      "execution_count": null,
      "outputs": [
        {
          "output_type": "display_data",
          "data": {
            "text/plain": [
              "<Figure size 720x432 with 0 Axes>"
            ]
          },
          "metadata": {
            "tags": []
          }
        },
        {
          "output_type": "display_data",
          "data": {
            "image/png": "[encoded data removed]",
            "text/plain": [
              "<Figure size 402.375x360 with 1 Axes>"
            ]
          },
          "metadata": {
            "tags": [],
            "needs_background": "light"
          }
        }
      ]
    },
    {
      "cell_type": "code",
      "metadata": {
        "id": "awbPketdXucY",
        "colab_type": "code",
        "colab": {
          "base_uri": "https://localhost:8080/"
        },
        "outputId": "99b04d5a-b717-4256-f3fa-59bd2ba23d66"
      },
      "source": [
        "plt.figure(figsize = (10, 6))\n",
        "sns.violinplot(data[\"target\"],data[\"cp\"])\n",
        "plt.title(\"relation chest pain type and disease\")\n",
        "plt.show()\n"
      ],
      "execution_count": null,
      "outputs": [
        {
          "output_type": "display_data",
          "data": {
            "image/png": "[encoded data removed]",
            "text/plain": [
              "<Figure size 720x432 with 1 Axes>"
            ]
          },
          "metadata": {
            "tags": [],
            "needs_background": "light"
          }
        }
      ]
    },
    {
      "cell_type": "markdown",
      "metadata": {
        "id": "Ff8jDrmRYQqr",
        "colab_type": "text"
      },
      "source": [
        "We see from the above two graphs that most of the people with type 0 chest pain are not patients whereas most of the people with type 2 and type 3 chestpain are patients"
      ]
    },
    {
      "cell_type": "code",
      "metadata": {
        "id": "hw0pooiYZXbX",
        "colab_type": "code",
        "colab": {}
      },
      "source": [
        ""
      ],
      "execution_count": null,
      "outputs": []
    },
    {
      "cell_type": "code",
      "metadata": {
        "id": "XA0qWVXWZXSj",
        "colab_type": "code",
        "colab": {
          "base_uri": "https://localhost:8080/"
        },
        "outputId": "84a5f271-4740-4616-813f-ecea28254d9c"
      },
      "source": [
        "# fbs - (fasting blood sugar > 120 mg/dl) (1 = true; 0 = false)\n",
        "\n",
        "pd.crosstab(data.fbs,data.target).plot(kind=\"bar\",figsize=(10,6))\n",
        "plt.title('Heart Disease Frequency According To FBS')\n",
        "plt.xlabel('FBS - (Fasting Blood Sugar > 120 mg/dl) (1 = true; 0 = false)')\n",
        "plt.xticks(rotation = 0)\n",
        "plt.legend([\"Do not Disease\", \"Have Disease\"])\n",
        "plt.ylabel('NO. of patients')\n",
        "plt.show()\n"
      ],
      "execution_count": null,
      "outputs": [
        {
          "output_type": "display_data",
          "data": {
            "image/png": "[encoded data removed]",
            "text/plain": [
              "<Figure size 720x432 with 1 Axes>"
            ]
          },
          "metadata": {
            "tags": [],
            "needs_background": "light"
          }
        }
      ]
    },
    {
      "cell_type": "markdown",
      "metadata": {
        "id": "onGH7XwmqYmo",
        "colab_type": "text"
      },
      "source": [
        "from the above graph, we can see that fbs does not give a good measure of classification"
      ]
    },
    {
      "cell_type": "code",
      "metadata": {
        "id": "kQQxQ5uoq4Jt",
        "colab_type": "code",
        "colab": {}
      },
      "source": [
        ""
      ],
      "execution_count": null,
      "outputs": []
    },
    {
      "cell_type": "code",
      "metadata": {
        "id": "jM9c-Q8fq37J",
        "colab_type": "code",
        "colab": {
          "base_uri": "https://localhost:8080/"
        },
        "outputId": "1f6bf4a8-7109-440b-a9b2-a46862470f7e"
      },
      "source": [
        "# exercise induced angina (0 - No, 1 - Yes)\n",
        "\n",
        "plt.figure(figsize = (10, 6))\n",
        "sns.catplot(x = 'target', hue = 'exang',kind=\"count\", data = data)\n",
        "plt.title(\"relation between no.of major vessels and disease\")\n",
        "plt.show()"
      ],
      "execution_count": null,
      "outputs": [
        {
          "output_type": "display_data",
          "data": {
            "text/plain": [
              "<Figure size 720x432 with 0 Axes>"
            ]
          },
          "metadata": {
            "tags": []
          }
        },
        {
          "output_type": "display_data",
          "data": {
            "image/png": "[encoded data removed]",
            "text/plain": [
              "<Figure size 402.375x360 with 1 Axes>"
            ]
          },
          "metadata": {
            "tags": [],
            "needs_background": "light"
          }
        }
      ]
    },
    {
      "cell_type": "code",
      "metadata": {
        "id": "oPCqqQuxslm9",
        "colab_type": "code",
        "colab": {}
      },
      "source": [
        ""
      ],
      "execution_count": null,
      "outputs": []
    },
    {
      "cell_type": "code",
      "metadata": {
        "id": "OrPgds6Ox46R",
        "colab_type": "code",
        "colab": {
          "base_uri": "https://localhost:8080/"
        },
        "outputId": "3a0c5f12-4726-4af5-b40a-e40e7de784da"
      },
      "source": [
        "data[data[\"thal\"] == 0]\n"
      ],
      "execution_count": null,
      "outputs": [
        {
          "output_type": "execute_result",
          "data": {
            "text/html": [
              "<div>\n",
              "<style scoped>\n",
              "    .dataframe tbody tr th:only-of-type {\n",
              "        vertical-align: middle;\n",
              "    }\n",
              "\n",
              "    .dataframe tbody tr th {\n",
              "        vertical-align: top;\n",
              "    }\n",
              "\n",
              "    .dataframe thead th {\n",
              "        text-align: right;\n",
              "    }\n",
              "</style>\n",
              "<table border=\"1\" class=\"dataframe\">\n",
              "  <thead>\n",
              "    <tr style=\"text-align: right;\">\n",
              "      <th></th>\n",
              "      <th>age</th>\n",
              "      <th>sex</th>\n",
              "      <th>cp</th>\n",
              "      <th>trestbps</th>\n",
              "      <th>chol</th>\n",
              "      <th>fbs</th>\n",
              "      <th>restecg</th>\n",
              "      <th>thalach</th>\n",
              "      <th>exang</th>\n",
              "      <th>oldpeak</th>\n",
              "      <th>slope</th>\n",
              "      <th>ca</th>\n",
              "      <th>thal</th>\n",
              "      <th>target</th>\n",
              "    </tr>\n",
              "  </thead>\n",
              "  <tbody>\n",
              "    <tr>\n",
              "      <th>48</th>\n",
              "      <td>53</td>\n",
              "      <td>0</td>\n",
              "      <td>2</td>\n",
              "      <td>128</td>\n",
              "      <td>216</td>\n",
              "      <td>0</td>\n",
              "      <td>0</td>\n",
              "      <td>115</td>\n",
              "      <td>0</td>\n",
              "      <td>0.0</td>\n",
              "      <td>2</td>\n",
              "      <td>0</td>\n",
              "      <td>0</td>\n",
              "      <td>1</td>\n",
              "    </tr>\n",
              "    <tr>\n",
              "      <th>281</th>\n",
              "      <td>52</td>\n",
              "      <td>1</td>\n",
              "      <td>0</td>\n",
              "      <td>128</td>\n",
              "      <td>204</td>\n",
              "      <td>1</td>\n",
              "      <td>1</td>\n",
              "      <td>156</td>\n",
              "      <td>1</td>\n",
              "      <td>1.0</td>\n",
              "      <td>1</td>\n",
              "      <td>0</td>\n",
              "      <td>0</td>\n",
              "      <td>0</td>\n",
              "    </tr>\n",
              "  </tbody>\n",
              "</table>\n",
              "</div>"
            ],
            "text/plain": [
              "     age  sex  cp  trestbps  chol  fbs  ...  exang  oldpeak  slope  ca  thal  target\n",
              "48    53    0   2       128   216    0  ...      0      0.0      2   0     0       1\n",
              "281   52    1   0       128   204    1  ...      1      1.0      1   0     0       0\n",
              "\n",
              "[2 rows x 14 columns]"
            ]
          },
          "metadata": {
            "tags": []
          },
          "execution_count": 30
        }
      ]
    },
    {
      "cell_type": "code",
      "metadata": {
        "id": "3ZXjlhRWx5Nv",
        "colab_type": "code",
        "colab": {}
      },
      "source": [
        ""
      ],
      "execution_count": null,
      "outputs": []
    },
    {
      "cell_type": "code",
      "metadata": {
        "id": "SPNUPk5js9rM",
        "colab_type": "code",
        "colab": {
          "base_uri": "https://localhost:8080/"
        },
        "outputId": "f3602dfb-dc52-4ba2-8fc2-7fe825ad7e34"
      },
      "source": [
        "# thal - 3 = normal; 6 = fixed defect; 7 = reversable defect\n",
        "plt.figure(figsize = (10, 6))\n",
        "sns.catplot(x = 'target', hue = 'thal',kind =\"count\", data = data, palette = \"bright\")\n",
        "plt.title(\"relation between no.of major vessels and disease\")\n",
        "plt.show()"
      ],
      "execution_count": null,
      "outputs": [
        {
          "output_type": "display_data",
          "data": {
            "text/plain": [
              "<Figure size 720x432 with 0 Axes>"
            ]
          },
          "metadata": {
            "tags": []
          }
        },
        {
          "output_type": "display_data",
          "data": {
            "image/png": "[encoded data removed]",
            "text/plain": [
              "<Figure size 402.375x360 with 1 Axes>"
            ]
          },
          "metadata": {
            "tags": [],
            "needs_background": "light"
          }
        }
      ]
    },
    {
      "cell_type": "markdown",
      "metadata": {
        "id": "TwE6Pr86vIWi",
        "colab_type": "text"
      },
      "source": [
        "In the above plot between Target and a Blood disorder called Thalessemia, It can be easily inferred that the patients suffering from heart diseases have low chances of also suffering from thalessemia in comparison to the patients who are less likely to suffer from the heart diseases. Hence, It is also a good feature to classify heart diseases."
      ]
    },
    {
      "cell_type": "code",
      "metadata": {
        "id": "3rPR1UW_t6bN",
        "colab_type": "code",
        "colab": {}
      },
      "source": [
        ""
      ],
      "execution_count": null,
      "outputs": []
    },
    {
      "cell_type": "markdown",
      "metadata": {
        "id": "jTCao0iACttA",
        "colab_type": "text"
      },
      "source": [
        "# ***LOGISTIC REGRESSION FROM SCRATCH***\n",
        "\n",
        "***using gradient descent algorithm to minimize loss function***"
      ]
    },
    {
      "cell_type": "markdown",
      "metadata": {
        "id": "pjvzgR4jCHOk",
        "colab_type": "text"
      },
      "source": [
        "## 1.PREPARING THE DATA"
      ]
    },
    {
      "cell_type": "markdown",
      "metadata": {
        "id": "npSmQ_VGCSBR",
        "colab_type": "text"
      },
      "source": [
        "ENCODING CATEGORICAL VARIABLES:\n",
        "\n",
        "Out of all the categorical variables, we only need to encode 'cp', 'thal' and 'slope' as rest are present in binary format(0 or 1)\n"
      ]
    },
    {
      "cell_type": "code",
      "metadata": {
        "id": "iUhwfyHZxJoi",
        "colab_type": "code",
        "colab": {
          "base_uri": "https://localhost:8080/",
          "height": 382
        },
        "outputId": "351ee392-fd4a-451c-ec9d-e37e6e506642"
      },
      "source": [
        "data.info()"
      ],
      "execution_count": null,
      "outputs": [
        {
          "output_type": "stream",
          "text": [
            "<class 'pandas.core.frame.DataFrame'>\n",
            "Int64Index: 302 entries, 0 to 302\n",
            "Data columns (total 14 columns):\n",
            " #   Column    Non-Null Count  Dtype  \n",
            "---  ------    --------------  -----  \n",
            " 0   age       302 non-null    int64  \n",
            " 1   sex       302 non-null    int64  \n",
            " 2   cp        302 non-null    int64  \n",
            " 3   trestbps  302 non-null    int64  \n",
            " 4   chol      302 non-null    int64  \n",
            " 5   fbs       302 non-null    int64  \n",
            " 6   restecg   302 non-null    int64  \n",
            " 7   thalach   302 non-null    int64  \n",
            " 8   exang     302 non-null    int64  \n",
            " 9   oldpeak   302 non-null    float64\n",
            " 10  slope     302 non-null    int64  \n",
            " 11  ca        302 non-null    int64  \n",
            " 12  thal      302 non-null    int64  \n",
            " 13  target    302 non-null    int64  \n",
            "dtypes: float64(1), int64(13)\n",
            "memory usage: 45.4 KB\n"
          ],
          "name": "stdout"
        }
      ]
    },
    {
      "cell_type": "code",
      "metadata": {
        "id": "IUTtWliYCJg6",
        "colab_type": "code",
        "colab": {}
      },
      "source": [
        "data['cp'] = data[\"cp\"].astype('object')\n",
        "data['thal'] = data[\"thal\"].astype('object')\n",
        "data['slope'] = data[\"slope\"].astype('object')"
      ],
      "execution_count": null,
      "outputs": []
    },
    {
      "cell_type": "code",
      "metadata": {
        "id": "UOQVS9fgCrRa",
        "colab_type": "code",
        "colab": {}
      },
      "source": [
        "data = pd.get_dummies(data,drop_first = True)"
      ],
      "execution_count": null,
      "outputs": []
    },
    {
      "cell_type": "code",
      "metadata": {
        "id": "ptiZ1RQz2rhb",
        "colab_type": "code",
        "colab": {
          "base_uri": "https://localhost:8080/",
          "height": 206
        },
        "outputId": "85495081-e7fd-4515-b6f3-b176d0b5ea59"
      },
      "source": [
        "data.head()"
      ],
      "execution_count": null,
      "outputs": [
        {
          "output_type": "execute_result",
          "data": {
            "text/html": [
              "<div>\n",
              "<style scoped>\n",
              "    .dataframe tbody tr th:only-of-type {\n",
              "        vertical-align: middle;\n",
              "    }\n",
              "\n",
              "    .dataframe tbody tr th {\n",
              "        vertical-align: top;\n",
              "    }\n",
              "\n",
              "    .dataframe thead th {\n",
              "        text-align: right;\n",
              "    }\n",
              "</style>\n",
              "<table border=\"1\" class=\"dataframe\">\n",
              "  <thead>\n",
              "    <tr style=\"text-align: right;\">\n",
              "      <th></th>\n",
              "      <th>age</th>\n",
              "      <th>sex</th>\n",
              "      <th>trestbps</th>\n",
              "      <th>chol</th>\n",
              "      <th>fbs</th>\n",
              "      <th>restecg</th>\n",
              "      <th>thalach</th>\n",
              "      <th>exang</th>\n",
              "      <th>oldpeak</th>\n",
              "      <th>ca</th>\n",
              "      <th>target</th>\n",
              "      <th>cp_1</th>\n",
              "      <th>cp_2</th>\n",
              "      <th>cp_3</th>\n",
              "      <th>slope_1</th>\n",
              "      <th>slope_2</th>\n",
              "      <th>thal_1</th>\n",
              "      <th>thal_2</th>\n",
              "      <th>thal_3</th>\n",
              "    </tr>\n",
              "  </thead>\n",
              "  <tbody>\n",
              "    <tr>\n",
              "      <th>0</th>\n",
              "      <td>63</td>\n",
              "      <td>1</td>\n",
              "      <td>145</td>\n",
              "      <td>233</td>\n",
              "      <td>1</td>\n",
              "      <td>0</td>\n",
              "      <td>150</td>\n",
              "      <td>0</td>\n",
              "      <td>2.3</td>\n",
              "      <td>0</td>\n",
              "      <td>1</td>\n",
              "      <td>0</td>\n",
              "      <td>0</td>\n",
              "      <td>1</td>\n",
              "      <td>0</td>\n",
              "      <td>0</td>\n",
              "      <td>1</td>\n",
              "      <td>0</td>\n",
              "      <td>0</td>\n",
              "    </tr>\n",
              "    <tr>\n",
              "      <th>1</th>\n",
              "      <td>37</td>\n",
              "      <td>1</td>\n",
              "      <td>130</td>\n",
              "      <td>250</td>\n",
              "      <td>0</td>\n",
              "      <td>1</td>\n",
              "      <td>187</td>\n",
              "      <td>0</td>\n",
              "      <td>3.5</td>\n",
              "      <td>0</td>\n",
              "      <td>1</td>\n",
              "      <td>0</td>\n",
              "      <td>1</td>\n",
              "      <td>0</td>\n",
              "      <td>0</td>\n",
              "      <td>0</td>\n",
              "      <td>0</td>\n",
              "      <td>1</td>\n",
              "      <td>0</td>\n",
              "    </tr>\n",
              "    <tr>\n",
              "      <th>2</th>\n",
              "      <td>41</td>\n",
              "      <td>0</td>\n",
              "      <td>130</td>\n",
              "      <td>204</td>\n",
              "      <td>0</td>\n",
              "      <td>0</td>\n",
              "      <td>172</td>\n",
              "      <td>0</td>\n",
              "      <td>1.4</td>\n",
              "      <td>0</td>\n",
              "      <td>1</td>\n",
              "      <td>1</td>\n",
              "      <td>0</td>\n",
              "      <td>0</td>\n",
              "      <td>0</td>\n",
              "      <td>1</td>\n",
              "      <td>0</td>\n",
              "      <td>1</td>\n",
              "      <td>0</td>\n",
              "    </tr>\n",
              "    <tr>\n",
              "      <th>3</th>\n",
              "      <td>56</td>\n",
              "      <td>1</td>\n",
              "      <td>120</td>\n",
              "      <td>236</td>\n",
              "      <td>0</td>\n",
              "      <td>1</td>\n",
              "      <td>178</td>\n",
              "      <td>0</td>\n",
              "      <td>0.8</td>\n",
              "      <td>0</td>\n",
              "      <td>1</td>\n",
              "      <td>1</td>\n",
              "      <td>0</td>\n",
              "      <td>0</td>\n",
              "      <td>0</td>\n",
              "      <td>1</td>\n",
              "      <td>0</td>\n",
              "      <td>1</td>\n",
              "      <td>0</td>\n",
              "    </tr>\n",
              "    <tr>\n",
              "      <th>4</th>\n",
              "      <td>57</td>\n",
              "      <td>0</td>\n",
              "      <td>120</td>\n",
              "      <td>354</td>\n",
              "      <td>0</td>\n",
              "      <td>1</td>\n",
              "      <td>163</td>\n",
              "      <td>1</td>\n",
              "      <td>0.6</td>\n",
              "      <td>0</td>\n",
              "      <td>1</td>\n",
              "      <td>0</td>\n",
              "      <td>0</td>\n",
              "      <td>0</td>\n",
              "      <td>0</td>\n",
              "      <td>1</td>\n",
              "      <td>0</td>\n",
              "      <td>1</td>\n",
              "      <td>0</td>\n",
              "    </tr>\n",
              "  </tbody>\n",
              "</table>\n",
              "</div>"
            ],
            "text/plain": [
              "   age  sex  trestbps  chol  fbs  ...  slope_1  slope_2  thal_1  thal_2  thal_3\n",
              "0   63    1       145   233    1  ...        0        0       1       0       0\n",
              "1   37    1       130   250    0  ...        0        0       0       1       0\n",
              "2   41    0       130   204    0  ...        0        1       0       1       0\n",
              "3   56    1       120   236    0  ...        0        1       0       1       0\n",
              "4   57    0       120   354    0  ...        0        1       0       1       0\n",
              "\n",
              "[5 rows x 19 columns]"
            ]
          },
          "metadata": {
            "tags": []
          },
          "execution_count": 35
        }
      ]
    },
    {
      "cell_type": "code",
      "metadata": {
        "id": "IwF4ugZtAGNr",
        "colab_type": "code",
        "colab": {}
      },
      "source": [
        ""
      ],
      "execution_count": null,
      "outputs": []
    },
    {
      "cell_type": "code",
      "metadata": {
        "id": "gkNhh5vq7VfG",
        "colab_type": "code",
        "colab": {}
      },
      "source": [
        "new_data = data"
      ],
      "execution_count": null,
      "outputs": []
    },
    {
      "cell_type": "code",
      "metadata": {
        "id": "ADHZOJ6Q6E6N",
        "colab_type": "code",
        "colab": {
          "base_uri": "https://localhost:8080/",
          "height": 34
        },
        "outputId": "9a756677-0a40-45d4-dc07-78b136a1eae6"
      },
      "source": [
        "# splitting the data into x and y \n",
        "\n",
        "x = data.iloc[:,:-1].values\n",
        "y = data.iloc[:,-1].values\n",
        "new_data = new_data.drop('target', axis = 1)\n",
        "print(x.shape,y.shape)"
      ],
      "execution_count": null,
      "outputs": [
        {
          "output_type": "stream",
          "text": [
            "(302, 18) (302,)\n"
          ],
          "name": "stdout"
        }
      ]
    },
    {
      "cell_type": "code",
      "metadata": {
        "id": "Mq5dMHhu6And",
        "colab_type": "code",
        "colab": {}
      },
      "source": [
        "# Normalize\n",
        "#x = (x - np.min(x)) / (np.max(x) - np.min(x))\n"
      ],
      "execution_count": null,
      "outputs": []
    },
    {
      "cell_type": "code",
      "metadata": {
        "id": "illVfohi8MtZ",
        "colab_type": "code",
        "colab": {
          "base_uri": "https://localhost:8080/",
          "height": 121
        },
        "outputId": "cae74502-c4bb-4df2-e086-078dd3af7e35"
      },
      "source": [
        "# splitting the data into test set and train set\n",
        "\n",
        "from sklearn.model_selection import train_test_split\n",
        "x_train, x_test, y_train, y_test = train_test_split(x, y, test_size = 0.2, random_state = 0)\n",
        "print(x_train.shape, y_train.shape, x_test.shape, y_test.shape)\n",
        "\n",
        "print(x_train[1])\n",
        "from sklearn.preprocessing import StandardScaler\n",
        "sc = StandardScaler()\n",
        "\n",
        "x_train[:,[0,2,3,6]] = sc.fit_transform(x_train[:,[0,2,3,6]])\n",
        "x_test[:,[0,2,3,6]] = sc.transform(x_test[:,[0,2,3,6]])\n",
        "print(x_train[1])"
      ],
      "execution_count": null,
      "outputs": [
        {
          "output_type": "stream",
          "text": [
            "(241, 18) (241,) (61, 18) (61,)\n",
            "[ 66.   0. 146. 278.   0.   0. 152.   0.   0.   1.   1.   0.   1.   0.\n",
            "   1.   0.   0.   1.]\n",
            "[1.25925059 0.         0.81698091 0.59425361 0.         0.\n",
            " 0.10822916 0.         0.         1.         1.         0.\n",
            " 1.         0.         1.         0.         0.         1.        ]\n"
          ],
          "name": "stdout"
        }
      ]
    },
    {
      "cell_type": "code",
      "metadata": {
        "id": "S2lEam-C9lQm",
        "colab_type": "code",
        "colab": {
          "base_uri": "https://localhost:8080/",
          "height": 34
        },
        "outputId": "29f6379d-82a1-42a6-df85-b4e9bb1d51f8"
      },
      "source": [
        "# reshaping the y variable\n",
        "\n",
        "y_train = y_train.reshape(len(y_train),1)\n",
        "y_test = y_test.reshape(len(y_test),1)\n",
        "print(y_train.shape,y_test.shape)"
      ],
      "execution_count": null,
      "outputs": [
        {
          "output_type": "stream",
          "text": [
            "(241, 1) (61, 1)\n"
          ],
          "name": "stdout"
        }
      ]
    },
    {
      "cell_type": "code",
      "metadata": {
        "id": "TbhcHkDlI7gb",
        "colab_type": "code",
        "colab": {
          "base_uri": "https://localhost:8080/",
          "height": 86
        },
        "outputId": "764b7cde-815f-4ee9-9abf-6bb2f4e3407b"
      },
      "source": [
        "# adding the bias variable\n",
        "\n",
        "x_new = np.concatenate((np.ones((len(x_train),1),dtype = int),x_train),axis = 1)\n",
        "x_new[1]"
      ],
      "execution_count": null,
      "outputs": [
        {
          "output_type": "execute_result",
          "data": {
            "text/plain": [
              "array([1.        , 1.25925059, 0.        , 0.81698091, 0.59425361,\n",
              "       0.        , 0.        , 0.10822916, 0.        , 0.        ,\n",
              "       1.        , 1.        , 0.        , 1.        , 0.        ,\n",
              "       1.        , 0.        , 0.        , 1.        ])"
            ]
          },
          "metadata": {
            "tags": []
          },
          "execution_count": 226
        }
      ]
    },
    {
      "cell_type": "markdown",
      "metadata": {
        "id": "rj6w3CueBxX7",
        "colab_type": "text"
      },
      "source": [
        "## 2. MODEL"
      ]
    },
    {
      "cell_type": "code",
      "metadata": {
        "id": "svkaXtpRBwX0",
        "colab_type": "code",
        "colab": {}
      },
      "source": [
        "import math\n",
        "def sigmoid(x,theta):\n",
        "     return 1 / (1 + np.exp(-np.matmul(x,theta)))"
      ],
      "execution_count": null,
      "outputs": []
    },
    {
      "cell_type": "code",
      "metadata": {
        "id": "id2iUPBMBv3a",
        "colab_type": "code",
        "colab": {}
      },
      "source": [
        "def costfunc(h,y,m):\n",
        "    #return (-y * np.log(h) - ((1 - y) * np.log(1 - h))).mean()\n",
        "\n",
        "    J = (-1/m)*(np.sum((y * np.log(h)) + ((1 - y) * (np.log(1 - h)))) )\n",
        "\n",
        "    return J"
      ],
      "execution_count": null,
      "outputs": []
    },
    {
      "cell_type": "code",
      "metadata": {
        "id": "0pTJQOthFvb6",
        "colab_type": "code",
        "colab": {}
      },
      "source": [
        "def gradient_descent(alpha,x, h,y,m,theta):\n",
        "    # return np.matmul(x.T, (h - y)) / m\n",
        "\n",
        "    theta = theta - ((alpha/m) * (np.matmul((h - y).T, x))).T\n",
        "    return theta"
      ],
      "execution_count": null,
      "outputs": []
    },
    {
      "cell_type": "code",
      "metadata": {
        "id": "p2k7440lFzXq",
        "colab_type": "code",
        "colab": {}
      },
      "source": [
        "# def update_theta_loss(theta, learning_rate, gradient):\n",
        "#     return theta - learning_rate * gradient"
      ],
      "execution_count": null,
      "outputs": []
    },
    {
      "cell_type": "code",
      "metadata": {
        "id": "ErVWE_ApB26Q",
        "colab_type": "code",
        "colab": {}
      },
      "source": [
        "def logistic_regression():\n",
        "\n",
        "  alpha = 0.03\n",
        "  epochs = 5000\n",
        "  m = len(x_new)\n",
        "  \n",
        "  # weights initialization\n",
        "  #\n",
        "  theta = np.full((x_new.shape[1],1),0.01)\n",
        "  #theta = np.zeros((x_new.shape[1], 1),dtype=float)\n",
        "  #theta = np.random.normal(size=(x_new.shape[1],1))\n",
        "\n",
        "  cost = []\n",
        "  for i in range(epochs):\n",
        "\n",
        "    h = sigmoid(x_new,theta)\n",
        "   \n",
        "    j = costfunc(h,y_train,m)\n",
        "    cost.append(j)\n",
        "    \n",
        "    theta = gradient_descent(alpha,x_new,h,y_train,m,theta)\n",
        "    # grad = gradient_descent(x_train,h,y_train)\n",
        "    # theta = update_theta_loss(theta,alpha,grad)\n",
        "\n",
        "  #Plotting cost function vs epochs\n",
        "  plt.plot(list(range(epochs)), cost)\n",
        "  plt.title(\"Cost function vs epochs\")\n",
        "  plt.xlabel(\"epochs\")\n",
        "  plt.ylabel(\"J - cost function\")\n",
        "  plt.show()\n",
        "  print(cost)\n",
        "  return theta\n"
      ],
      "execution_count": null,
      "outputs": []
    },
    {
      "cell_type": "code",
      "metadata": {
        "id": "Mcd3C5c9RZMC",
        "colab_type": "code",
        "colab": {
          "base_uri": "https://localhost:8080/",
          "height": 387
        },
        "outputId": "5528f75c-1243-4a1f-fc83-dd72a443fec7"
      },
      "source": [
        "theta = logistic_regression()"
      ],
      "execution_count": null,
      "outputs": [
        {
          "output_type": "display_data",
          "data": {
            "image/png": "[encoded data removed]",
            "text/plain": [
              "<Figure size 720x360 with 1 Axes>"
            ]
          },
          "metadata": {
            "tags": [],
            "needs_background": "light"
          }
        },
        {
          "output_type": "stream",
          "text": [
            "[0.7027753051806146, 0.6971423907984041, 0.6916948350772939, 0.6864236907034699, 0.6813204925977593, 0.6763772345502581, 0.6715863463261468, 0.666940671346039, 0.662433445023095, 0.658058273820444, 0.6538091150761093, 0.6496802576284002, 0.6456663032624786, 0.6417621489883456, 0.6379629701516424, 0.6342642043712682, 0.6306615362917072, 0.6271508831329978, 0.6237283810173173, 0.6203903720480612, 0.617133392114971, 0.6139541593971791, 0.6108495635349157, 0.6078166554399542, 0.6048526377146228, 0.6019548556492526, 0.599120788768277, 0.596348042895731, 0.5936343427116244, 0.5909775247715122, 0.5883755309625393, 0.5858264023702665, 0.5833282735316596, 0.5808793670507377, 0.5784779885544895, 0.5761225219678064, 0.5738114250872753, 0.571543225434784, 0.5693165163729509, 0.5671299534654282, 0.5649822510661326, 0.5628721791224102, 0.560798560178072, 0.558760266563109, 0.5567562177577323, 0.5547853779191804, 0.5528467535604803, 0.5509393913710672, 0.5490623761698248, 0.547214828981751, 0.5453959052300325, 0.5436047930358768, 0.5418407116189653, 0.5401029097918796, 0.538390664542309, 0.5367032796972733, 0.5350400846639912, 0.5334004332423956, 0.5317837025046454, 0.5301892917372993, 0.5286166214421255, 0.5270651323917912, 0.525534284736941, 0.5240235571614147, 0.5225324460825755, 0.5210604648939329, 0.519607143247432, 0.5181720263729693, 0.5167546744328547, 0.5153546619090968, 0.5139715770215358, 0.5126050211749776, 0.5112546084336087, 0.5099199650210887, 0.5086007288448207, 0.5072965490430008, 0.5060070855531443, 0.5047320087008615, 0.5034709988077491, 0.502223745817326, 0.5009899489380173, 0.499769316302251, 0.4985615646407952, 0.49736641897151257, 0.49618361230176733, 0.49501288534376203, 0.4938539862421301, 0.49270667031314785, 0.4915706997949715, 0.4904458436083388, 0.4893318771272085, 0.4882285819588429, 0.4871357457328667, 0.4860531618988648, 0.4849806295321028, 0.48391795314698327, 0.48286494251786827, 0.48182141250692145, 0.480787182898643, 0.4797620782407858, 0.4787459276913635, 0.47773856487146993, 0.47673982772365225, 0.4757495583755859, 0.4747676030088198, 0.47379381173236773, 0.4728280384609359, 0.47187014079758544, 0.47091997992064094, 0.4699774204746651, 0.4690423304653272, 0.4681145811580026, 0.46719404697995054, 0.4662806054259194, 0.46537413696704377, 0.4644745249628953, 0.4635816555765647, 0.46269541769265, 0.4618157028380386, 0.4609424051053706, 0.460075421079081, 0.45921464976391796, 0.4583599925158427, 0.4575113529752202, 0.45666863700221205, 0.4558317526142883, 0.45500060992577973, 0.4541751210893919, 0.45335520023961, 0.4525407634379242, 0.45173172861980637, 0.45092801554337736, 0.45012954573970126, 0.4493362424646481, 0.44854803065226906, 0.4477648368696291, 0.44698658927304646, 0.4462132175656883, 0.4454446529564747, 0.4446808281202449, 0.4439216771591431, 0.4431671355651797, 0.44241714018392886, 0.4416716291793215, 0.4409305419994989, 0.44019381934368784, 0.43946140313006515, 0.43873323646457596, 0.43800926361067566, 0.437289429959964, 0.4365736820036799, 0.4358619673050315, 0.43515423447233154, 0.4344504331329119, 0.4337505139077931, 0.43305442838708247, 0.4323621291060779, 0.43167356952205516, 0.4309887039917153, 0.43030748774927224, 0.42962987688515963, 0.428955828325336, 0.42828529981117197, 0.42761824987989877, 0.4269546378456005, 0.426294423780735, 0.4256375684981647, 0.4249840335336824, 0.4243337811290169, 0.42368677421530293, 0.42304297639700267, 0.422402351936262, 0.4217648657376914, 0.4211304833335569, 0.4204991708693687, 0.41987089508985564, 0.41924562332531407, 0.4186233234783193, 0.41800396401079015, 0.41738751393139367, 0.41677394278328217, 0.4161632206321516, 0.41555531805461243, 0.41495020612686273, 0.4143478564136557, 0.4137482409575527, 0.41315133226845335, 0.4125571033133941, 0.41196552750660903, 0.4113765786998436, 0.4107902311729153, 0.410206459624513, 0.4096252391632297, 0.40904654529882034, 0.40847035393367975, 0.40789664135453313, 0.40732538422433445, 0.4067565595743657, 0.40619014479653237, 0.40562611763584877, 0.40506445618310827, 0.40450513886773426, 0.4039481444508046, 0.4033934520182472, 0.4028410409742004, 0.40229089103453397, 0.40174298222052746, 0.4011972948526992, 0.4006538095447849, 0.4001125071978587, 0.3995733689945954, 0.39903637639366907, 0.3985015111242828, 0.3979687551808297, 0.3974380908176776, 0.39690950054407764, 0.39638296711919063, 0.39585847354723, 0.39533600307271777, 0.3948155391758493, 0.3942970655679665, 0.3937805661871344, 0.39326602519381876, 0.3927534269666635, 0.39224275609836406, 0.39173399739163384, 0.39122713585526286, 0.3907221567002652, 0.39021904533611307, 0.38971778736705504, 0.3892183685885174, 0.388720774983585, 0.3882249927195609, 0.387731008144602, 0.3872388077844286, 0.3867483783391076, 0.38625970667990467, 0.385772779846207, 0.38528758504251165, 0.3848041096354807, 0.3843223411510593, 0.3838422672716567, 0.38336387583338744, 0.38288715482337216, 0.38241209237709606, 0.3819386767758244, 0.3814668964440712, 0.38099673994712435, 0.38052819598862, 0.38006125340817126, 0.37959590117904385, 0.37913212840588273, 0.3786699243224845, 0.37820927828961765, 0.37775017979288644, 0.3772926184406412, 0.3768365839619293, 0.37638206620449005, 0.3759290551327898, 0.3754775408260979, 0.37502751347660107, 0.37457896338755664, 0.3741318809714834, 0.373686256748388, 0.3732420813440283, 0.3727993454882105, 0.372358040013121, 0.37191815585169163, 0.37147968403599635, 0.3710426156956813, 0.3706069420564246, 0.37017265443842656, 0.36973974425493117, 0.3693082030107738, 0.36887802230095984, 0.36844919380926927, 0.3680217093068891, 0.36759556065107235, 0.36717073978382214, 0.366747238730602, 0.3663250495990701, 0.36590416457783803, 0.36548457593525363, 0.36506627601820585, 0.3646492572509531, 0.36423351213397365, 0.3638190332428374, 0.3634058132270985, 0.36299384480920943, 0.3625831207834549, 0.3621736340149054, 0.3617653774383904, 0.36135834405749045, 0.3609525269435475, 0.3605479192346945, 0.36014451413490045, 0.3597423049130359, 0.35934128490195294, 0.3589414474975829, 0.3585427861580505, 0.35814529440280357, 0.3577489658117582, 0.35735379402445994, 0.3569597727392594, 0.35656689571250255, 0.35617515675773537, 0.3557845497449229, 0.35539506859968156, 0.35500670730252526, 0.35461945988812466, 0.3542333204445794, 0.35384828311270283, 0.3534643420853192, 0.3530814916065731, 0.3526997259712508, 0.352319039524113, 0.3519394266592396, 0.3515608818193847, 0.3511833994953436, 0.35080697422532997, 0.3504316005943635, 0.3500572732336682, 0.3496839868200806, 0.34931173607546784, 0.34894051576615565, 0.3485703207023658, 0.34820114573766264, 0.3478329857684092, 0.347465835733232, 0.34709969061249457, 0.34673454542778, 0.3463703952413814, 0.3460072351558012, 0.345645060313258, 0.34528386589520216, 0.3449236471218383, 0.3445643992516564, 0.34420611758096925, 0.34384879744345875, 0.3434924342097284, 0.3431370232868628, 0.34278256011799485, 0.3424290401818795, 0.34207645899247396, 0.34172481209852434, 0.3413740950831598, 0.34102430356349134, 0.34067543319021854, 0.34032747964724097, 0.33998043865127653, 0.3396343059514857, 0.33928907732910024, 0.33894474859705914, 0.33860131559964973, 0.3382587742121532, 0.33791712034049703, 0.33757634992091107, 0.33723645891959075, 0.33689744333236304, 0.3365592991843593, 0.33622202252969197, 0.3358856094511365, 0.3355500560598176, 0.33521535849490036, 0.33488151292328633, 0.3345485155393131, 0.334216362564459, 0.3338850502470518, 0.3335545748619819, 0.3332249327104192, 0.33289612011953446, 0.33256813344222474, 0.33224096905684203, 0.3319146233669271, 0.33158909280094534, 0.3312643738120281, 0.3309404628777167, 0.33061735649970997, 0.3302950512036161, 0.32997354353870706, 0.3296528300776772, 0.3293329074164047, 0.32901377217371647, 0.3286954209911567, 0.3283778505327575, 0.3280610574848142, 0.3277450385556626, 0.3274297904754596, 0.3271153099959668, 0.326801593890337, 0.326488638952904, 0.3261764419989743, 0.3258649998646226, 0.32555430940648944, 0.3252443675015817, 0.3249351710470754, 0.3246267169601222, 0.3243190021776572, 0.3240120236562098, 0.3237057783717168, 0.3234002633193389, 0.3230954755132782, 0.32279141198659883, 0.3224880697910498, 0.32218544599689064, 0.3218835376927178, 0.3215823419852952, 0.32128185599938514, 0.32098207687758334, 0.3206830017801537, 0.3203846278848671, 0.3200869523868416, 0.3197899724983843, 0.3194936854488356, 0.31919808848441533, 0.3189031788680705, 0.3186089538793255, 0.31831541081413384, 0.31802254698473126, 0.31773035971949165, 0.3174388463627839, 0.3171480042748308, 0.3168578308315697, 0.3165683234245149, 0.31627947946062146, 0.3159912963621507, 0.3157037715665378, 0.31541690252626015, 0.31513068670870825, 0.31484512159605704, 0.31456020468513973, 0.31427593348732297, 0.3139923055283823, 0.31370931834838117, 0.31342696950154963, 0.3131452565561649, 0.3128641770944339, 0.3125837287123765, 0.31230390901971034, 0.31202471563973666, 0.3117461462092286, 0.31146819837831885, 0.3111908698103908, 0.3109141581819686, 0.3106380611826107, 0.3103625765148029, 0.31008770189385365, 0.30981343504778985, 0.3095397737172544, 0.3092667156554042, 0.3089942586278104, 0.3087224004123582, 0.30845113879914904, 0.3081804715904036, 0.3079103966003655, 0.30764091165520613, 0.3073720145929308, 0.30710370326328584, 0.3068359755276666, 0.3065688292590265, 0.3063022623417866, 0.3060362726717475, 0.30577085815600036, 0.30550601671284033, 0.30524174627168027, 0.3049780447729652, 0.30471491016808827, 0.3044523404193071, 0.30419033349966124, 0.3039288873928904, 0.3036680000933539, 0.3034076696059498, 0.3031478939460365, 0.3028886711393542, 0.30262999922194733, 0.30237187624008727, 0.3021143002501973, 0.3018572693187765, 0.30160078152232606, 0.30134483494727515, 0.30108942768990776, 0.30083455785629165, 0.3005802235622055, 0.30032642293306905, 0.3000731541038727, 0.2998204152191087, 0.29956820443270143, 0.299316519907941, 0.29906535981741444, 0.29881472234294026, 0.29856460567550175, 0.298315008015182, 0.2980659275710993, 0.29781736256134295, 0.29756931121290986, 0.2973217717616419, 0.2970747424521635, 0.2968282215378201, 0.29658220728061757, 0.29633669795116135, 0.29609169182859685, 0.2958471872005496, 0.29560318236306776, 0.2953596756205631, 0.2951166652857534, 0.294874149679606, 0.2946321271312806, 0.2943905959780739, 0.2941495545653637, 0.29390900124655434, 0.29366893438302194, 0.2934293523440609, 0.29319025350683, 0.29295163625629983, 0.2927134989852003, 0.29247584009396865, 0.292238657990698, 0.29200195109108606, 0.2917657178183853, 0.2915299566033521, 0.2912946658841976, 0.2910598441065382, 0.29082548972334715, 0.2905916011949061, 0.29035817698875704, 0.2901252155796553, 0.289892715449522, 0.289660675087398, 0.2894290929893973, 0.28919796765866135, 0.2889672976053138, 0.28873708134641557, 0.28850731740591984, 0.2882780043146286, 0.28804914061014786, 0.2878207248368453, 0.2875927555458064, 0.287365231294792, 0.28713815064819637, 0.28691151217700456, 0.28668531445875145, 0.28645955607748014, 0.28623423562370104, 0.286009351694352, 0.2857849028927569, 0.2855608878285871, 0.28533730511782107, 0.28511415338270557, 0.2848914312517166, 0.2846691373595212, 0.28444727034693873, 0.2842258288609037, 0.2840048115544274, 0.28378421708656143, 0.2835640441223601, 0.2833442913328439, 0.28312495739496385, 0.28290604099156463, 0.2826875408113489, 0.2824694555488425, 0.2822517839043584, 0.28203452458396266, 0.2818176762994392, 0.2816012377682559, 0.28138520771353015, 0.2811695848639955, 0.2809543679539681, 0.28073955572331294, 0.28052514691741154, 0.2803111402871292, 0.280097534588782, 0.27988432858410517, 0.27967152104022097, 0.2794591107296071, 0.2792470964300651, 0.2790354769246891, 0.2788242510018354, 0.27861341745509105, 0.2784029750832442, 0.2781929226902531, 0.2779832590852165, 0.27777398308234413, 0.2775650935009267, 0.2773565891653068, 0.27714846890485, 0.2769407315539158, 0.2767333759518291, 0.2765264009428516, 0.276319805376154, 0.27611358810578784, 0.27590774799065737, 0.27570228389449264, 0.2754971946858217, 0.2752924792379434, 0.27508813642890134, 0.27488416514145564, 0.2746805642630577, 0.2744773326858232, 0.27427446930650623, 0.2740719730264734, 0.2738698427516776, 0.273668077392633, 0.27346667586438955, 0.27326563708650753, 0.27306495998303304, 0.2728646434824723, 0.2726646865177681, 0.27246508802627456, 0.2722658469497334, 0.27206696223424925, 0.2718684328302661, 0.2716702576925437, 0.27147243578013347, 0.2712749660563555, 0.2710778474887752, 0.27088107904918013, 0.2706846597135573, 0.27048858846207013, 0.27029286427903604, 0.270097486152904, 0.2699024530762324, 0.2697077640456666, 0.26951341806191736, 0.26931941412973875, 0.26912575125790666, 0.2689324284591973, 0.26873944475036565, 0.26854679915212487, 0.2683544906891242, 0.2681625183899294, 0.2679708812870007, 0.26777957841667305, 0.26758860881913543, 0.26739797153841044, 0.267207665622334, 0.2670176901225358, 0.2668280440944188, 0.26663872659713966, 0.26644973669358946, 0.2662610734503737, 0.2660727359377931, 0.2658847232298245, 0.2656970344041016, 0.2655096685418961, 0.2653226247280987, 0.2651359020512006, 0.2649494996032746, 0.2647634164799567, 0.26457765178042836, 0.26439220460739715, 0.26420707406707983, 0.2640222592691833, 0.26383775932688763, 0.2636535733568277, 0.263469700479076, 0.2632861398171247, 0.2631028904978686, 0.262919951651588, 0.2627373224119308, 0.2625550019158962, 0.2623729893038176, 0.2621912837193453, 0.2620098843094305, 0.26182879022430816, 0.2616480006174807, 0.26146751464570145, 0.26128733146895866, 0.26110745025045906, 0.26092787015661195, 0.260748590357013, 0.26056961002442863, 0.26039092833478006, 0.2602125444671277, 0.26003445760365584, 0.2598566669296565, 0.2596791716335148, 0.2595019709066933, 0.2593250639437169, 0.25914844994215774, 0.2589721281026204, 0.2587960976287267, 0.258620357727101, 0.2584449076073558, 0.2582697464820766, 0.258094873566808, 0.2579202880800386, 0.25774598924318737, 0.2575719762805887, 0.25739824841947884, 0.25722480488998156, 0.25705164492509397, 0.25687876776067303, 0.25670617263542167, 0.2565338587908747, 0.2563618254713854, 0.25619007192411225, 0.25601859739900507, 0.25584740114879156, 0.25567648242896457, 0.2555058404977682, 0.255335474616185, 0.2551653840479229, 0.25499556805940216, 0.2548260259197425, 0.2546567569007503, 0.2544877602769056, 0.25431903532534994, 0.2541505813258732, 0.2539823975609015, 0.2538144833154845, 0.2536468378772832, 0.2534794605365574, 0.25331235058615376, 0.25314550732149366, 0.2529789300405608, 0.2528126180438895, 0.2526465706345526, 0.25248078711814964, 0.2523152668027952, 0.2521500089991069, 0.25198501302019416, 0.25182027818164604, 0.2516558038015203, 0.2514915892003317, 0.25132763370104044, 0.25116393662904124, 0.2510004973121518, 0.25083731508060164, 0.2506743892670211, 0.2505117192064303, 0.25034930423622803, 0.25018714369618084, 0.2500252369284122, 0.24986358327739197, 0.24970218208992523, 0.2495410327151417, 0.24938013450448543, 0.249219486811704, 0.24905908899283813, 0.24889894040621105, 0.24873904041241843, 0.24857938837431795, 0.24841998365701884, 0.24826082562787208, 0.24810191365645995, 0.24794324711458612, 0.2477848253762656, 0.2476266478177147, 0.24746871381734117, 0.24731102275573447, 0.24715357401565577, 0.24699636698202831, 0.24683940104192778, 0.2466826755845726, 0.24652619000131432, 0.24636994368562837, 0.24621393603310407, 0.2460581664414357, 0.24590263431041295, 0.24574733904191165, 0.24559228003988445, 0.2454374567103516, 0.24528286846139188, 0.24512851470313346, 0.24497439484774486, 0.24482050830942598, 0.24466685450439893, 0.2445134328508994, 0.2443602427691678, 0.2442072836814402, 0.24405455501193982, 0.243902056186868, 0.24374978663439612, 0.2435977457846564, 0.24344593306973356, 0.2432943479236564, 0.24314298978238905, 0.2429918580838229, 0.24284095226776795, 0.24269027177594454, 0.24253981605197508, 0.24238958454137577, 0.24223957669154852, 0.2420897919517726, 0.24194022977319662, 0.24179088960883047, 0.2416417709135373, 0.24149287314402557, 0.24134419575884092, 0.2411957382183586, 0.24104749998477518, 0.24089948052210122, 0.24075167929615304, 0.24060409577454533, 0.2404567294266834, 0.2403095797237553, 0.24016264613872443, 0.24001592814632197, 0.23986942522303936, 0.2397231368471205, 0.2395770624985548, 0.23943120165906945, 0.23928555381212208, 0.23914011844289354, 0.2389948950382805, 0.23884988308688823, 0.23870508207902336, 0.23856049150668687, 0.23841611086356662, 0.23827193964503054, 0.23812797734811947, 0.23798422347154005, 0.2378406775156578, 0.23769733898249018, 0.23755420737569974, 0.23741128220058696, 0.23726856296408372, 0.23712604917474628, 0.23698374034274858, 0.23684163597987543, 0.23669973559951601, 0.23655803871665684, 0.23641654484787547, 0.23627525351133377, 0.23613416422677122, 0.23599327651549853, 0.23585258990039115, 0.2357121039058826, 0.2355718180579583, 0.23543173188414895, 0.23529184491352426, 0.23515215667668668, 0.23501266670576473, 0.23487337453440738, 0.234734279697777, 0.2345953817325439, 0.23445668017687962, 0.23431817457045107, 0.23417986445441416, 0.23404174937140812, 0.23390382886554892, 0.2337661024824237, 0.2336285697690844, 0.2334912302740421, 0.23335408354726092, 0.2332171291401522, 0.23308036660556847, 0.23294379549779767, 0.23280741537255756, 0.23267122578698954, 0.23253522629965315, 0.23239941647052023, 0.2322637958609693, 0.2321283640337797, 0.23199312055312635, 0.2318580649845736, 0.2317231968950699, 0.23158851585294238, 0.2314540214278911, 0.2313197131909835, 0.23118559071464911, 0.23105165357267402, 0.23091790134019544, 0.23078433359369616, 0.23065094991099935, 0.23051774987126333, 0.2303847330549758, 0.23025189904394913, 0.23011924742131448, 0.22998677777151705, 0.22985448968031053, 0.2297223827347522, 0.2295904565231975, 0.22945871063529497, 0.22932714466198106, 0.22919575819547533, 0.22906455082927504, 0.22893352215815022, 0.22880267177813873, 0.22867199928654108, 0.2285415042819157, 0.22841118636407373, 0.22828104513407432, 0.22815108019421962, 0.2280212911480499, 0.22789167760033865, 0.2277622391570879, 0.22763297542552324, 0.22750388601408922, 0.22737497053244438, 0.22724622859145663, 0.22711765980319848, 0.2269892637809425, 0.22686104013915637, 0.22673298849349852, 0.2266051084608132, 0.2264773996591263, 0.2263498617076402, 0.22622249422672971, 0.2260952968379373, 0.2259682691639686, 0.22584141082868778, 0.22571472145711344, 0.22558820067541374, 0.22546184811090217, 0.2253356633920332, 0.22520964614839764, 0.22508379601071857, 0.2249581126108467, 0.22483259558175633, 0.22470724455754068, 0.22458205917340796, 0.22445703906567693, 0.22433218387177253, 0.2242074932302219, 0.22408296678065004, 0.22395860416377542, 0.22383440502140628, 0.223710368996436, 0.22358649573283926, 0.22346278487566776, 0.22333923607104628, 0.2232158489661684, 0.2230926232092926, 0.22296955844973826, 0.2228466543378814, 0.2227239105251509, 0.22260132666402446, 0.22247890240802456, 0.22235663741171469, 0.22223453133069504, 0.2221125838215992, 0.2219907945420896, 0.22186916315085406, 0.2217476893076019, 0.22162637267305982, 0.22150521290896846, 0.22138420967807823, 0.22126336264414587, 0.22114267147193034, 0.22102213582718938, 0.22090175537667545, 0.2207815297881323, 0.22066145873029114, 0.22054154187286684, 0.2204217788865546, 0.22030216944302577, 0.22018271321492483, 0.22006340987586523, 0.2199442591004261, 0.21982526056414853, 0.21970641394353208, 0.2195877189160312, 0.21946917516005154, 0.21935078235494673, 0.21923254018101462, 0.21911444831949387, 0.21899650645256047, 0.21887871426332423, 0.21876107143582554, 0.21864357765503156, 0.21852623260683318, 0.2184090359780414, 0.218291987456384, 0.2181750867305023, 0.21805833348994746, 0.2179417274251775, 0.21782526822755394, 0.2177089555893382, 0.2175927892036885, 0.21747676876465663, 0.21736089396718475, 0.21724516450710177, 0.2171295800811205, 0.21701414038683417, 0.21689884512271346, 0.21678369398810307, 0.21666868668321862, 0.21655382290914363, 0.2164391023678261, 0.21632452476207556, 0.21621008979555986, 0.21609579717280222, 0.2159816465991778, 0.21586763778091092, 0.21575377042507188, 0.2156400442395739, 0.21552645893317, 0.21541301421545025, 0.21529970979683827, 0.21518654538858875, 0.21507352070278396, 0.21496063545233132, 0.21484788935095986, 0.21473528211321763, 0.2146228134544687, 0.2145104830908902, 0.21439829073946937, 0.2142862361180007, 0.21417431894508301, 0.21406253894011662, 0.21395089582330046, 0.21383938931562912, 0.2137280191388902, 0.21361678501566145, 0.21350568666930766, 0.21339472382397826, 0.21328389620460422, 0.21317320353689553, 0.21306264554733825, 0.21295222196319177, 0.2128419325124861, 0.21273177692401904, 0.21262175492735383, 0.21251186625281582, 0.21240211063149034, 0.2122924877952197, 0.2121829974766006, 0.21207363940898147, 0.21196441332645985, 0.21185531896387955, 0.21174635605682837, 0.2116375243416352, 0.21152882355536753, 0.2114202534358287, 0.21131181372155566, 0.211203504151816, 0.21109532446660553, 0.21098727440664589, 0.2108793537133818, 0.21077156212897855, 0.21066389939631955, 0.21055636525900387, 0.21044895946134354, 0.21034168174836126, 0.21023453186578778, 0.21012750956005957, 0.21002061457831625, 0.20991384666839816, 0.20980720557884397, 0.20970069105888817, 0.20959430285845868, 0.20948804072817453, 0.20938190441934343, 0.2092758936839592, 0.20917000827469967, 0.20906424794492412, 0.20895861244867092, 0.20885310154065542, 0.20874771497626723, 0.20864245251156827, 0.20853731390329014, 0.20843229890883197, 0.2083274072862582, 0.20822263879429603, 0.20811799319233337, 0.20801347024041658, 0.20790906969924786, 0.20780479133018354, 0.20770063489523133, 0.20759660015704848, 0.2074926868789392, 0.20738889482485284, 0.2072852237593812, 0.2071816734477569, 0.2070782436558506, 0.2069749341501692, 0.20687174469785377, 0.2067686750666769, 0.20666572502504096, 0.20656289434197583, 0.2064601827871369, 0.2063575901308026, 0.20625511614387254, 0.2061527605978655, 0.20605052326491696, 0.20594840391777738, 0.2058464023298099, 0.20574451827498833, 0.2056427515278951, 0.20554110186371918, 0.20543956905825395, 0.2053381528878954, 0.20523685312963968, 0.20513566956108162, 0.20503460196041212, 0.20493365010641668, 0.20483281377847304, 0.20473209275654924, 0.20463148682120183, 0.20453099575357367, 0.2044306193353921, 0.20433035734896682, 0.20423020957718818, 0.204130175803525, 0.20403025581202275, 0.20393044938730154, 0.20383075631455447, 0.20373117637954521, 0.2036317093686065, 0.2035323550686382, 0.20343311326710523, 0.20333398375203585, 0.20323496631201965, 0.20313606073620585, 0.20303726681430112, 0.20293858433656825, 0.2028400130938237, 0.2027415528774362, 0.20264320347932485, 0.2025449646919569, 0.20244683630834667, 0.20234881812205296, 0.20225090992717776, 0.20215311151836424, 0.20205542269079504, 0.20195784324019048, 0.20186037296280676, 0.20176301165543406, 0.2016657591153952, 0.20156861514054328, 0.20147157952926043, 0.20137465208045588, 0.20127783259356422, 0.20118112086854362, 0.2010845167058743, 0.2009880199065566, 0.20089163027210938, 0.20079534760456835, 0.20069917170648433, 0.2006031023809215, 0.20050713943145587, 0.20041128266217342, 0.20031553187766862, 0.2002198868830427, 0.20012434748390187, 0.20002891348635593, 0.19993358469701636, 0.19983836092299476, 0.1997432419719014, 0.1996482276518435, 0.19955331777142335, 0.19945851213973717, 0.1993638105663731, 0.19926921286140983, 0.1991747188354149, 0.19908032829944325, 0.19898604106503545, 0.19889185694421632, 0.19879777574949323, 0.19870379729385457, 0.19860992139076816, 0.19851614785417981, 0.1984224764985118, 0.19832890713866108, 0.19823543958999795, 0.19814207366836467, 0.19804880919007356, 0.19795564597190585, 0.1978625838311099, 0.19776962258539996, 0.19767676205295437, 0.1975840020524144, 0.1974913424028825, 0.1973987829239209, 0.1973063234355502, 0.19721396375824798, 0.19712170371294693, 0.19702954312103402, 0.19693748180434834, 0.1968455195851804, 0.1967536562862701, 0.19666189173080548, 0.1965702257424215, 0.1964786581451983, 0.19638718876365988, 0.1962958174227729, 0.19620454394794498, 0.19611336816502348, 0.19602228990029397, 0.19593130898047897, 0.19584042523273645, 0.19574963848465862, 0.19565894856427035, 0.1955683553000279, 0.19547785852081745, 0.19538745805595406, 0.1952971537351799, 0.19520694538866315, 0.1951168328469966, 0.19502681594119636, 0.1949368945027003, 0.19484706836336707, 0.19475733735547449, 0.19466770131171846, 0.19457816006521128, 0.19448871344948088, 0.19439936129846896, 0.19431010344653016, 0.19422093972843035, 0.1941318699793457, 0.1940428940348612, 0.19395401173096935, 0.19386522290406896, 0.193776527390964, 0.19368792502886203, 0.19359941565537317, 0.19351099910850886, 0.19342267522668044, 0.193334443848698, 0.1932463048137692, 0.19315825796149788, 0.1930703031318829, 0.19298244016531702, 0.19289466890258547, 0.192806989184865, 0.19271940085372224, 0.19263190375111294, 0.19254449771938056, 0.192457182601255, 0.19236995823985142, 0.19228282447866946, 0.19219578116159117, 0.1921088281328808, 0.19202196523718298, 0.1919351923195217, 0.1918485092252993, 0.19176191580029514, 0.1916754118906644, 0.1915889973429371, 0.1915026720040168, 0.19141643572117945, 0.19133028834207236, 0.191244229714713, 0.1911582596874878, 0.19107237810915106, 0.19098658482882389, 0.19090087969599284, 0.19081526256050926, 0.19072973327258763, 0.19064429168280486, 0.1905589376420989, 0.1904736710017678, 0.19038849161346863, 0.19030339932921625, 0.19021839400138227, 0.19013347548269413, 0.1900486436262336, 0.18996389828543622, 0.1898792393140899, 0.1897946665663338, 0.18971017989665745, 0.18962577915989967, 0.18954146421124735, 0.18945723490623445, 0.1893730911007413, 0.18928903265099278, 0.18920505941355806, 0.18912117124534908, 0.18903736800361975, 0.1889536495459648, 0.18887001573031867, 0.1887864664149548, 0.1887030014584842, 0.18861962071985472, 0.18853632405834989, 0.18845311133358794, 0.18836998240552097, 0.18828693713443354, 0.188203975380942, 0.18812109700599355, 0.18803830187086487, 0.1879555898371615, 0.18787296076681667, 0.18779041452209033, 0.18770795096556817, 0.18762556996016075, 0.18754327136910243, 0.18746105505595037, 0.1873789208845836, 0.18729686871920206, 0.18721489842432576, 0.18713300986479353, 0.18705120290576246, 0.18696947741270642, 0.18688783325141575, 0.18680627028799582, 0.18672478838886636, 0.1866433874207603, 0.18656206725072316, 0.18648082774611172, 0.18639966877459346, 0.18631859020414548, 0.18623759190305347, 0.18615667373991102, 0.1860758355836184, 0.18599507730338216, 0.18591439876871363, 0.18583379984942838, 0.18575328041564532, 0.18567284033778556, 0.18559247948657176, 0.18551219773302718, 0.1854319949484747, 0.185351871004536, 0.18527182577313075, 0.1851918591264756, 0.18511197093708331, 0.18503216107776205, 0.18495242942161436, 0.18487277584203632, 0.18479320021271675, 0.1847137024076362, 0.18463428230106635, 0.1845549397675689, 0.18447567468199477, 0.18439648691948354, 0.18431737635546203, 0.1842383428656441, 0.18415938632602938, 0.18408050661290248, 0.1840017036028324, 0.18392297717267148, 0.18384432719955457, 0.1837657535608983, 0.18368725613440023, 0.1836088347980381, 0.18353048943006883, 0.18345221990902788, 0.18337402611372836, 0.18329590792326012, 0.18321786521698938, 0.18313989787455723, 0.18306200577587947, 0.18298418880114545, 0.18290644683081744, 0.18282877974562972, 0.18275118742658789, 0.18267366975496804, 0.182596226612316, 0.18251885788044656, 0.1824415634414425, 0.18236434317765418, 0.18228719697169846, 0.18221012470645812, 0.18213312626508094, 0.18205620153097904, 0.18197935038782811, 0.18190257271956653, 0.1818258684103949, 0.18174923734477494, 0.18167267940742898, 0.18159619448333902, 0.18151978245774633, 0.18144344321615022, 0.18136717664430763, 0.18129098262823237, 0.1812148610541943, 0.18113881180871855, 0.181062834778585, 0.18098692985082734, 0.18091109691273236, 0.18083533585183934, 0.18075964655593932, 0.18068402891307425, 0.18060848281153644, 0.18053300813986772, 0.1804576047868587, 0.18038227264154832, 0.18030701159322285, 0.18023182153141523, 0.18015670234590456, 0.18008165392671519, 0.18000667616411617, 0.1799317689486205, 0.1798569321709843, 0.17978216572220646, 0.17970746949352753, 0.17963284337642943, 0.17955828726263454, 0.1794838010441049, 0.17940938461304196, 0.1793350378618855, 0.17926076068331318, 0.17918655297023958, 0.17911241461581598, 0.17903834551342934, 0.17896434555670176, 0.1788904146394899, 0.178816552655884, 0.17874275950020765, 0.17866903506701692, 0.17859537925109953, 0.17852179194747464, 0.1784482730513918, 0.17837482245833045, 0.17830144006399934, 0.17822812576433578, 0.17815487945550507, 0.17808170103389975, 0.1780085903961392, 0.17793554743906873, 0.17786257205975906, 0.17778966415550584, 0.17771682362382882, 0.1776440503624712, 0.17757134426939916, 0.1774987052428012, 0.17742613318108755, 0.17735362798288928, 0.17728118954705815, 0.17720881777266562, 0.17713651255900237, 0.17706427380557774, 0.176992101412119, 0.17691999527857086, 0.17684795530509487, 0.17677598139206865, 0.1767040734400856, 0.17663223134995387, 0.17656045502269618, 0.17648874435954906, 0.17641709926196217, 0.1763455196315979, 0.17627400537033053, 0.17620255638024587, 0.17613117256364072, 0.17605985382302206, 0.17598860006110645, 0.17591741118081974, 0.17584628708529643, 0.17577522767787873, 0.17570423286211648, 0.17563330254176626, 0.17556243662079096, 0.17549163500335913, 0.17542089759384447, 0.17535022429682537, 0.17527961501708403, 0.17520906965960623, 0.1751385881295807, 0.17506817033239835, 0.17499781617365207, 0.17492752555913582, 0.1748572983948444, 0.17478713458697256, 0.1747170340419149, 0.17464699666626482, 0.17457702236681436, 0.17450711105055344, 0.17443726262466958, 0.17436747699654703, 0.17429775407376635, 0.17422809376410406, 0.1741584959755319, 0.1740889606162164, 0.1740194875945182, 0.17395007681899183, 0.17388072819838482, 0.1738114416416374, 0.17374221705788195, 0.1736730543564425, 0.17360395344683419, 0.17353491423876244, 0.17346593664212315, 0.17339702056700146, 0.17332816592367162, 0.1732593726225965, 0.17319064057442685, 0.1731219696900009, 0.1730533598803441, 0.17298481105666816, 0.17291632313037086, 0.17284789601303555, 0.17277952961643042, 0.1727112238525083, 0.17264297863340594, 0.17257479387144356, 0.17250666947912446, 0.17243860536913458, 0.1723706014543416, 0.17230265764779495, 0.17223477386272507, 0.17216695001254304, 0.1720991860108399, 0.17203148177138636, 0.1719638372081323, 0.17189625223520613, 0.17182872676691463, 0.17176126071774206, 0.17169385400235007, 0.171626506535577, 0.17155921823243744, 0.17149198900812182, 0.17142481877799587, 0.17135770745760032, 0.17129065496265014, 0.17122366120903434, 0.17115672611281546, 0.17108984959022897, 0.17102303155768292, 0.17095627193175755, 0.17088957062920465, 0.1708229275669473, 0.17075634266207923, 0.1706898158318645, 0.17062334699373702, 0.1705569360653001, 0.170490582964326, 0.1704242876087554, 0.17035804991669712, 0.17029186980642758, 0.1702257471963903, 0.1701596820051957, 0.17009367415162016, 0.1700277235546063, 0.16996183013326185, 0.16989599380685974, 0.1698302144948372, 0.16976449211679584, 0.1696988265925008, 0.1696332178418804, 0.16956766578502602, 0.16950217034219117, 0.16943673143379154, 0.16937134898040426, 0.1693060229027676, 0.16924075312178052, 0.16917553955850237, 0.16911038213415217, 0.1690452807701085, 0.168980235387909, 0.1689152459092499, 0.16885031225598557, 0.16878543435012822, 0.16872061211384742, 0.1686558454694697, 0.16859113433947825, 0.16852647864651224, 0.16846187831336668, 0.16839733326299186, 0.1683328434184932, 0.16826840870313037, 0.16820402904031737, 0.16813970435362185, 0.1680754345667648, 0.1680112196036202, 0.16794705938821458, 0.16788295384472646, 0.16781890289748636, 0.16775490647097596, 0.1676909644898279, 0.16762707687882564, 0.16756324356290256, 0.16749946446714198, 0.16743573951677657, 0.16737206863718815, 0.16730845175390702, 0.16724488879261187, 0.16718137967912927, 0.16711792433943318, 0.16705452269964483, 0.16699117468603206, 0.1669278802250092, 0.16686463924313655, 0.1668014516671199, 0.16673831742381048, 0.16667523644020418, 0.16661220864344162, 0.16654923396080737, 0.16648631231972982, 0.16642344364778083, 0.16636062787267517, 0.16629786492227033, 0.16623515472456604, 0.16617249720770416, 0.16610989229996784, 0.16604733992978168, 0.16598484002571093, 0.16592239251646154, 0.16585999733087944, 0.16579765439795047, 0.16573536364679967, 0.16567312500669137, 0.1656109384070286, 0.16554880377735257, 0.16548672104734272, 0.16542469014681596, 0.16536271100572672, 0.16530078355416622, 0.16523890772236238, 0.16517708344067936, 0.1651153106396172, 0.16505358924981167, 0.1649919192020337, 0.16493030042718904, 0.1648687328563181, 0.16480721642059548, 0.1647457510513296, 0.16468433667996257, 0.16462297323806954, 0.16456166065735867, 0.1645003988696705, 0.16443918780697792, 0.16437802740138557, 0.16431691758512976, 0.1642558582905779, 0.16419484945022828, 0.16413389099670977, 0.16407298286278155, 0.16401212498133247, 0.1639513172853812, 0.16389055970807548, 0.16382985218269203, 0.16376919464263617, 0.1637085870214415, 0.16364802925276958, 0.1635875212704096, 0.16352706300827802, 0.1634666544004184, 0.1634062953810009, 0.16334598588432206, 0.16328572584480458, 0.16322551519699666, 0.16316535387557216, 0.16310524181532993, 0.1630451789511937, 0.16298516521821155, 0.16292520055155593, 0.16286528488652302, 0.1628054181585327, 0.16274560030312787, 0.16268583125597466, 0.16262611095286175, 0.1625664393297, 0.1625068163225226, 0.16244724186748424, 0.16238771590086115, 0.16232823835905077, 0.16226880917857128, 0.16220942829606133, 0.16215009564828, 0.16209081117210622, 0.16203157480453853, 0.16197238648269482, 0.16191324614381225, 0.16185415372524645, 0.1617951091644717, 0.16173611239908042, 0.16167716336678295, 0.16161826200540724, 0.1615594082528985, 0.161500602047319, 0.1614418433268478, 0.16138313202978033, 0.16132446809452813, 0.16126585145961894, 0.1612072820636956, 0.1611487598455168, 0.1610902847439558, 0.16103185669800096, 0.160973475646755, 0.1609151415294347, 0.16085685428537086, 0.160798613854008, 0.1607404201749039, 0.16068227318772943, 0.16062417283226824, 0.16056611904841664, 0.16050811177618307, 0.16045015095568796, 0.16039223652716356, 0.16033436843095342, 0.1602765466075124, 0.1602187709974062, 0.16016104154131106, 0.16010335818001378, 0.16004572085441107, 0.15998812950550959, 0.1599305840744255, 0.15987308450238424, 0.1598156307307204, 0.15975822270087722, 0.1597008603544065, 0.15964354363296823, 0.1595862724783305, 0.1595290468323689, 0.1594718666370669, 0.1594147318345146, 0.15935764236690958, 0.15930059817655576, 0.15924359920586362, 0.1591866453973498, 0.15912973669363692, 0.15907287303745313, 0.1590160543716321, 0.15895928063911263, 0.15890255178293844, 0.1588458677462578, 0.15878922847232355, 0.15873263390449252, 0.15867608398622562, 0.1586195786610872, 0.1585631178727452, 0.15850670156497063, 0.1584503296816374, 0.15839400216672214, 0.15833771896430388, 0.15828148001856382, 0.15822528527378507, 0.15816913467435245, 0.15811302816475223, 0.15805696568957187, 0.15800094719349986, 0.15794497262132526, 0.15788904191793776, 0.1578331550283273, 0.1577773118975837, 0.15772151247089664, 0.15766575669355531, 0.15761004451094823, 0.1575543758685629, 0.1574987507119857, 0.15744316898690167, 0.15738763063909403, 0.15733213561444429, 0.15727668385893176, 0.15722127531863345, 0.1571659099397238, 0.15711058766847444, 0.15705530845125393, 0.15700007223452764, 0.15694487896485745, 0.15688972858890146, 0.15683462105341392, 0.15677955630524476, 0.1567245342913397, 0.15666955495873977, 0.15661461825458112, 0.15655972412609484, 0.15650487252060677, 0.15645006338553716, 0.1563952966684007, 0.1563405723168059, 0.1562858902784553, 0.15623125050114484, 0.15617665293276403, 0.1561220975212954, 0.15606758421481456, 0.15601311296148979, 0.1559586837095818, 0.15590429640744374, 0.15584995100352075, 0.1557956474463499, 0.15574138568455986, 0.1556871656668708, 0.15563298734209394, 0.15557885065913182, 0.15552475556697745, 0.15547070201471472, 0.1554166899515177, 0.15536271932665066, 0.15530879008946794, 0.1552549021894134, 0.1552010555760208, 0.15514725019891287, 0.15509348600780168, 0.15503976295248817, 0.15498608098286196, 0.1549324400489012, 0.15487884010067232, 0.15482528108832996, 0.1547717629621165, 0.15471828567236204, 0.15466484916948428, 0.15461145340398813, 0.1545580983264656, 0.15450478388759548, 0.15445151003814342, 0.15439827672896145, 0.1543450839109879, 0.15429193153524717, 0.15423881955284963, 0.15418574791499118, 0.15413271657295335, 0.154079725478103, 0.15402677458189193, 0.15397386383585696, 0.15392099319161953, 0.15386816260088576, 0.15381537201544593, 0.15376262138717453, 0.15370991066802997, 0.1536572398100543, 0.15360460876537335, 0.1535520174861961, 0.15349946592481478, 0.15344695403360464, 0.15339448176502365, 0.1533420490716124, 0.1532896559059939, 0.15323730222087342, 0.15318498796903823, 0.15313271310335735, 0.15308047757678178, 0.1530282813423436, 0.1529761243531564, 0.15292400656241495, 0.15287192792339477, 0.15281988838945218, 0.15276788791402407, 0.15271592645062773, 0.1526640039528606, 0.1526121203744001, 0.15256027566900354, 0.15250846979050794, 0.15245670269282957, 0.15240497432996422, 0.15235328465598663, 0.15230163362505053, 0.15225002119138836, 0.15219844730931126, 0.15214691193320862, 0.15209541501754803, 0.15204395651687536, 0.15199253638581403, 0.1519411545790653, 0.15188981105140803, 0.15183850575769828, 0.1517872386528693, 0.15173600969193138, 0.15168481882997167, 0.15163366602215386, 0.1515825512237181, 0.15153147438998102, 0.1514804354763352, 0.15142943443824924, 0.1513784712312676, 0.15132754581101027, 0.15127665813317268, 0.15122580815352568, 0.15117499582791508, 0.1511242211122617, 0.15107348396256118, 0.15102278433488367, 0.15097212218537384, 0.15092149747025066, 0.15087091014580714, 0.15082036016841033, 0.15076984749450098, 0.15071937208059347, 0.15066893388327565, 0.15061853285920873, 0.15056816896512695, 0.1505178421578375, 0.15046755239422052, 0.15041729963122863, 0.15036708382588704, 0.15031690493529323, 0.15026676291661686, 0.15021665772709958, 0.1501665893240548, 0.15011655766486784, 0.15006656270699528, 0.15001660440796524, 0.14996668272537697, 0.1499167976169008, 0.14986694904027786, 0.1498171369533202, 0.14976736131391027, 0.14971762208000103, 0.14966791920961575, 0.1496182526608477, 0.14956862239186017, 0.1495190283608863, 0.14946947052622883, 0.1494199488462599, 0.14937046327942122, 0.14932101378422355, 0.14927160031924666, 0.1492222228431393, 0.14917288131461892, 0.14912357569247156, 0.14907430593555168, 0.14902507200278206, 0.1489758738531536, 0.14892671144572517, 0.14887758473962348, 0.14882849369404305, 0.14877943826824575, 0.14873041842156093, 0.1486814341133852, 0.14863248530318232, 0.14858357195048294, 0.14853469401488453, 0.14848585145605123, 0.14843704423371368, 0.1483882723076689, 0.14833953563778016, 0.1482908341839768, 0.1482421679062541, 0.14819353676467317, 0.1481449407193607, 0.148096379730509, 0.1480478537583756, 0.14799936276328346, 0.14795090670562042, 0.14790248554583937, 0.14785409924445803, 0.1478057477620587, 0.14775743105928837, 0.14770914909685817, 0.1476609018355437, 0.14761268923618448, 0.14756451125968417, 0.1475163678670101, 0.1474682590191935, 0.1474201846773289, 0.14737214480257446, 0.14732413935615152, 0.14727616829934456, 0.1472282315935011, 0.14718032920003157, 0.14713246108040903, 0.1470846271961693, 0.14703682750891048, 0.14698906198029316, 0.1469413305720401, 0.14689363324593602, 0.1468459699638278, 0.1467983406876238, 0.14675074537929433, 0.14670318400087118, 0.14665565651444737, 0.14660816288217746, 0.1465607030662769, 0.1465132770290224, 0.14646588473275132, 0.14641852613986192, 0.14637120121281302, 0.14632390991412395, 0.1462766522063744, 0.14622942805220435, 0.14618223741431374, 0.14613508025546265, 0.14608795653847095, 0.1460408662262182, 0.14599380928164368, 0.14594678566774588, 0.1458997953475829, 0.14585283828427195, 0.14580591444098936, 0.1457590237809704, 0.14571216626750919, 0.1456653418639585, 0.14561855053372982, 0.14557179224029304, 0.14552506694717646, 0.1454783746179664, 0.14543171521630752, 0.14538508870590236, 0.14533849505051127, 0.1452919342139524, 0.14524540616010145, 0.1451989108528917, 0.14515244825631365, 0.1451060183344152, 0.14505962105130127, 0.1450132563711338, 0.14496692425813162, 0.14492062467657038, 0.14487435759078235, 0.14482812296515624, 0.1447819207641373, 0.1447357509522269, 0.14468961349398285, 0.1446435083540187, 0.14459743549700418, 0.14455139488766466, 0.1445053864907814, 0.14445941027119102, 0.14441346619378584, 0.14436755422351333, 0.14432167432537635, 0.14427582646443282, 0.14423001060579566, 0.14418422671463263, 0.1441384747561663, 0.14409275469567406, 0.14404706649848767, 0.1440014101299933, 0.1439557855556316, 0.14391019274089728, 0.14386463165133914, 0.1438191022525602, 0.14377360451021706, 0.14372813839002024, 0.14368270385773382, 0.14363730087917556, 0.14359192942021645, 0.14354658944678095, 0.14350128092484662, 0.14345600382044418, 0.14341075809965728, 0.14336554372862254, 0.14332036067352924, 0.14327520890061937, 0.14323008837618742, 0.1431849990665804, 0.14313994093819754, 0.14309491395749036, 0.1430499180909625, 0.1430049533051696, 0.1429600195667192, 0.14291511684227054, 0.1428702450985347, 0.14282540430227425, 0.14278059442030328, 0.14273581541948713, 0.1426910672667425, 0.14264634992903732, 0.14260166337339042, 0.14255700756687162, 0.1425123824766016, 0.14246778806975183, 0.1424232243135443, 0.14237869117525162, 0.14233418862219677, 0.14228971662175313, 0.14224527514134422, 0.1422008641484437, 0.14215648361057528, 0.1421121334953125, 0.1420678137702788, 0.14202352440314728, 0.14197926536164068, 0.1419350366135312, 0.14189083812664047, 0.14184666986883948, 0.14180253180804828, 0.1417584239122362, 0.14171434614942144, 0.14167029848767118, 0.14162628089510135, 0.14158229333987665, 0.1415383357902103, 0.14149440821436413, 0.14145051058064834, 0.1414066428574214, 0.14136280501309, 0.14131899701610906, 0.14127521883498134, 0.14123147043825768, 0.1411877517945366, 0.14114406287246453, 0.14110040364073534, 0.14105677406809053, 0.1410131741233191, 0.14096960377525725, 0.14092606299278856, 0.1408825517448436, 0.14083907000040025, 0.1407956177284831, 0.14075219489816376, 0.14070880147856052, 0.14066543743883844, 0.1406221027482091, 0.14057879737593068, 0.14053552129130753, 0.14049227446369056, 0.14044905686247666, 0.1404058684571091, 0.14036270921707694, 0.14031957911191534, 0.14027647811120525, 0.14023340618457322, 0.14019036330169177, 0.1401473494322787, 0.14010436454609745, 0.1400614086129568, 0.1400184816027108, 0.13997558348525876, 0.13993271423054507, 0.13988987380855913, 0.1398470621893353, 0.1398042793429528, 0.13976152523953558, 0.13971879984925223, 0.13967610314231596, 0.13963343508898454, 0.13959079565955995, 0.13954818482438866, 0.1395056025538613, 0.1394630488184126, 0.1394205235885214, 0.13937802683471046, 0.13933555852754642, 0.13929311863763974, 0.13925070713564458, 0.13920832399225863, 0.13916596917822321, 0.1391236426643231, 0.13908134442138625, 0.1390390744202841, 0.13899683263193116, 0.1389546190272851, 0.13891243357734648, 0.1388702762531589, 0.1388281470258088, 0.13878604586642543, 0.13874397274618053, 0.13870192763628864, 0.1386599105080066, 0.1386179213326339, 0.13857596008151224, 0.13853402672602558, 0.13849212123760005, 0.13845024358770391, 0.13840839374784747, 0.13836657168958283, 0.13832477738450408, 0.13828301080424693, 0.13824127192048893, 0.13819956070494907, 0.138157877129388, 0.1381162211656077, 0.1380745927854516, 0.13803299196080426, 0.1379914186635916, 0.13794987286578056, 0.13790835453937905, 0.1378668636564361, 0.13782540018904155, 0.13778396410932592, 0.13774255538946056, 0.13770117400165746, 0.1376598199181691, 0.1376184931112885, 0.137577193553349, 0.1375359212167243, 0.1374946760738284, 0.13745345809711537, 0.1374122672590794, 0.1373711035322547, 0.1373299668892154, 0.13728885730257542, 0.13724777474498862, 0.13720671918914834, 0.13716569060778774, 0.13712468897367938, 0.13708371425963534, 0.1370427664385071, 0.1370018454831855, 0.13696095136660053, 0.13692008406172135, 0.13687924354155623, 0.13683842977915248, 0.13679764274759634, 0.1367568824200129, 0.13671614876956603, 0.1366754417694583, 0.13663476139293093, 0.13659410761326368, 0.1365534804037749, 0.13651287973782122, 0.13647230558879772, 0.13643175793013762, 0.1363912367353125, 0.13635074197783192, 0.1363102736312436, 0.13626983166913312, 0.136229416065124, 0.1361890267928777, 0.13614866382609328, 0.13610832713850754, 0.13606801670389493, 0.13602773249606737, 0.1359874744888744, 0.13594724265620273, 0.1359070369719766, 0.13586685741015742, 0.13582670394474364, 0.13578657654977114, 0.1357464751993126, 0.1357063998674778, 0.13566635052841322, 0.1356263271563024, 0.13558632972536563, 0.1355463582098597, 0.1355064125840782, 0.13546649282235118, 0.13542659889904518, 0.13538673078856323, 0.1353468884653446, 0.13530707190386487, 0.1352672810786359, 0.1352275159642056, 0.13518777653515793, 0.13514806276611294, 0.13510837463172656, 0.1350687121066906, 0.13502907516573265, 0.134989463783616, 0.13494987793513977, 0.13491031759513838, 0.13487078273848205, 0.13483127334007633, 0.13479178937486216, 0.13475233081781587, 0.13471289764394903, 0.13467348982830835, 0.13463410734597567, 0.134594750172068, 0.13455541828173728, 0.1345161116501703, 0.1344768302525888, 0.1344375740642494, 0.1343983430604433, 0.1343591372164964, 0.1343199565077692, 0.13428080090965686, 0.1342416703975889, 0.13420256494702923, 0.13416348453347623, 0.13412442913246242, 0.1340853987195546, 0.13404639327035373, 0.13400741276049485, 0.13396845716564704, 0.13392952646151327, 0.1338906206238305, 0.13385173962836946, 0.13381288345093473, 0.1337740520673645, 0.1337352454535307, 0.1336964635853387, 0.13365770643872762, 0.13361897398966985, 0.1335802662141712, 0.1335415830882709, 0.1335029245880414, 0.1334642906895883, 0.13342568136905045, 0.13338709660259981, 0.13334853636644126, 0.13331000063681264, 0.1332714893899848, 0.13323300260226137, 0.13319454024997884, 0.13315610230950617, 0.13311768875724533, 0.13307929956963063, 0.13304093472312914, 0.13300259419424013, 0.13296427795949553, 0.13292598599545957, 0.13288771827872872, 0.13284947478593176, 0.13281125549372957, 0.13277306037881526, 0.1327348894179139, 0.13269674258778266, 0.13265861986521058, 0.13262052122701862, 0.13258244665005958, 0.13254439611121802, 0.1325063695874102, 0.132468367055584, 0.13243038849271904, 0.1323924338758263, 0.13235450318194833, 0.13231659638815907, 0.13227871347156386, 0.13224085440929934, 0.1322030191785334, 0.13216520775646504, 0.13212742012032452, 0.13208965624737315, 0.13205191611490322, 0.13201419970023795, 0.13197650698073163, 0.13193883793376923, 0.1319011925367666, 0.13186357076717029, 0.1318259726024576, 0.1317883980201364, 0.1317508469977451, 0.13171331951285278, 0.1316758155430588, 0.131638335065993, 0.13160087805931567, 0.1315634445007172, 0.13152603436791835, 0.13148864763867005, 0.13145128429075337, 0.13141394430197942, 0.13137662765018934, 0.13133933431325429, 0.13130206426907526, 0.13126481749558314, 0.1312275939707387, 0.13119039367253232, 0.13115321657898416, 0.13111606266814402, 0.13107893191809128, 0.13104182430693487, 0.13100473981281324, 0.13096767841389415, 0.13093064008837482, 0.13089362481448186, 0.130856632570471, 0.13081966333462736, 0.13078271708526512, 0.13074579380072754, 0.13070889345938702, 0.13067201603964498, 0.13063516151993176, 0.1305983298787066, 0.1305615210944576, 0.13052473514570168, 0.13048797201098453, 0.13045123166888045, 0.1304145140979925, 0.13037781927695224, 0.1303411471844199, 0.130304497799084, 0.13026787109966173, 0.1302312670648986, 0.13019468567356834, 0.1301581269044731, 0.13012159073644328, 0.1300850771483374, 0.1300485861190421, 0.13001211762747222, 0.1299756716525706, 0.12993924817330796, 0.12990284716868314, 0.12986646861772272, 0.12983011249948126, 0.12979377879304096, 0.12975746747751188, 0.12972117853203174, 0.1296849119357658, 0.12964866766790714, 0.12961244570767616, 0.1295762460343209, 0.12954006862711684, 0.12950391346536672, 0.12946778052840077, 0.12943166979557655, 0.12939558124627873, 0.12935951485991934, 0.1293234706159374, 0.12928744849379925, 0.12925144847299808, 0.12921547053305427, 0.12917951465351504, 0.12914358081395463, 0.12910766899397405, 0.1290717791732012, 0.12903591133129078, 0.12900006544792414, 0.12896424150280938, 0.12892843947568122, 0.12889265934630098, 0.12885690109445652, 0.12882116469996216, 0.12878545014265866, 0.1287497574024133, 0.12871408645911953, 0.12867843729269732, 0.12864280988309276, 0.1286072042102782, 0.12857162025425217, 0.12853605799503934, 0.1285005174126904, 0.1284649984872821, 0.12842950119891733, 0.12839402552772464, 0.12835857145385873, 0.1283231389575, 0.12828772801885474, 0.12825233861815502, 0.12821697073565855, 0.12818162435164873, 0.12814629944643469, 0.128110996000351, 0.1280757139937579, 0.128040453407041, 0.12800521422061148, 0.1279699964149059, 0.12793479997038606, 0.12789962486753934, 0.1278644710868781, 0.12782933860894005, 0.12779422741428825, 0.12775913748351064, 0.12772406879722042, 0.1276890213360558, 0.1276539950806801, 0.12761899001178137, 0.12758400611007284, 0.1275490433562925, 0.12751410173120323, 0.12747918121559265, 0.12744428179027317, 0.12740940343608192, 0.12737454613388072, 0.12733970986455598, 0.1273048946090187, 0.12727010034820443, 0.1272353270630732, 0.12720057473460955, 0.12716584334382242, 0.12713113287174505, 0.12709644329943512, 0.12706177460797452, 0.12702712677846945, 0.12699249979205032, 0.12695789362987162, 0.12692330827311205, 0.12688874370297434, 0.12685419990068528, 0.12681967684749568, 0.12678517452468033, 0.12675069291353785, 0.12671623199539084, 0.12668179175158564, 0.12664737216349242, 0.12661297321250517, 0.1265785948800415, 0.12654423714754282, 0.12650989999647397, 0.1264755834083236, 0.12644128736460375, 0.1264070118468501, 0.12637275683662172, 0.12633852231550113, 0.12630430826509426, 0.12627011466703036, 0.12623594150296208, 0.12620178875456523, 0.1261676564035389, 0.1261335444316054, 0.1260994528205102, 0.1260653815520218, 0.12603133060793192, 0.12599729997005518, 0.1259632896202293, 0.12592929954031484, 0.12589532971219547, 0.12586138011777756, 0.1258274507389904, 0.1257935415577861, 0.1257596525561395, 0.1257257837160482, 0.12569193501953246, 0.1256581064486352, 0.12562429798542205, 0.12559050961198095, 0.12555674131042271, 0.12552299306288037, 0.12548926485150963, 0.12545555665848845, 0.1254218684660173, 0.12538820025631892, 0.1253545520116384, 0.12532092371424303, 0.12528731534642254, 0.12525372689048858, 0.12522015832877514, 0.12518660964363829, 0.12515308081745616, 0.12511957183262903, 0.125086082671579, 0.12505261331675036, 0.1250191637506092, 0.12498573395564355, 0.12495232391436331, 0.12491893360930022, 0.12488556302300778, 0.12485221213806127, 0.12481888093705772, 0.12478556940261572, 0.12475227751737569, 0.1247190052639995, 0.12468575262517072, 0.1246525195835943, 0.12461930612199693, 0.12458611222312649, 0.12455293786975255, 0.12451978304466586, 0.12448664773067875, 0.12445353191062462, 0.12442043556735838, 0.12438735868375608, 0.124354301242715, 0.12432126322715366, 0.12428824462001162, 0.12425524540424965, 0.1242222655628496, 0.12418930507881432, 0.12415636393516767, 0.1241234421149545, 0.12409053960124057, 0.1240576563771126, 0.12402479242567815, 0.12399194773006561, 0.12395912227342415, 0.12392631603892375, 0.12389352900975509, 0.1238607611691296, 0.12382801250027928, 0.12379528298645687, 0.12376257261093564, 0.1237298813570094, 0.12369720920799258, 0.12366455614721995, 0.12363192215804696, 0.1235993072238493, 0.12356671132802312, 0.12353413445398495, 0.1235015765851716, 0.12346903770504018, 0.12343651779706813, 0.12340401684475301, 0.12337153483161269, 0.12333907174118511, 0.12330662755702834, 0.12327420226272062, 0.12324179584186014, 0.12320940827806527, 0.12317703955497422, 0.12314468965624525, 0.12311235856555651, 0.12308004626660611, 0.12304775274311197, 0.12301547797881189, 0.12298322195746339, 0.1229509846628438, 0.12291876607875023, 0.12288656618899947, 0.12285438497742791, 0.12282222242789173, 0.12279007852426657, 0.12275795325044772, 0.12272584659035002, 0.12269375852790776, 0.12266168904707482, 0.12262963813182441, 0.12259760576614925, 0.12256559193406139, 0.12253359661959227, 0.12250161980679261, 0.12246966147973246, 0.12243772162250113, 0.12240580021920716, 0.12237389725397828, 0.12234201271096135, 0.12231014657432245, 0.1222782988282467, 0.12224646945693833, 0.12221465844462055, 0.12218286577553572, 0.12215109143394501, 0.12211933540412868, 0.12208759767038586, 0.12205587821703456, 0.12202417702841167, 0.12199249408887287, 0.12196082938279271, 0.12192918289456443, 0.12189755460860009, 0.12186594450933042, 0.12183435258120484, 0.12180277880869136, 0.12177122317627671, 0.12173968566846612, 0.12170816626978347, 0.12167666496477106, 0.12164518173798981, 0.121613716574019, 0.12158226945745644, 0.12155084037291827, 0.12151942930503908, 0.12148803623847182, 0.12145666115788764, 0.12142530404797619, 0.12139396489344521, 0.12136264367902072, 0.12133134038944701, 0.12130005500948644, 0.12126878752391967, 0.12123753791754534, 0.12120630617518022, 0.12117509228165918, 0.12114389622183504, 0.12111271798057872, 0.12108155754277912, 0.12105041489334295, 0.12101929001719498, 0.12098818289927785, 0.12095709352455199, 0.12092602187799577, 0.12089496794460523, 0.1208639317093943, 0.12083291315739465, 0.12080191227365561, 0.12077092904324423, 0.12073996345124524, 0.12070901548276093, 0.1206780851229114, 0.12064717235683409, 0.12061627716968414, 0.12058539954663414, 0.12055453947287427, 0.12052369693361208, 0.12049287191407258, 0.12046206439949832, 0.12043127437514907, 0.120400501826302, 0.12036974673825168, 0.12033900909630997, 0.12030828888580598, 0.12027758609208603, 0.1202469007005137, 0.12021623269646987, 0.1201855820653524, 0.12015494879257649, 0.12012433286357425, 0.12009373426379506, 0.12006315297870528, 0.12003258899378833, 0.12000204229454454, 0.11997151286649137, 0.11994100069516316, 0.11991050576611122, 0.11988002806490368, 0.11984956757712563, 0.11981912428837899, 0.11978869818428248, 0.11975828925047162, 0.11972789747259871, 0.11969752283633281, 0.11966716532735971, 0.11963682493138182, 0.11960650163411825, 0.11957619542130479, 0.11954590627869385, 0.11951563419205435, 0.11948537914717187, 0.11945514112984841, 0.11942492012590258, 0.11939471612116945, 0.11936452910150057, 0.11933435905276386, 0.1193042059608437, 0.11927406981164083, 0.11924395059107241, 0.11921384828507182, 0.1191837628795888, 0.11915369436058951, 0.11912364271405608, 0.1190936079259871, 0.1190635899823973, 0.11903358886931763, 0.11900360457279505, 0.11897363707889284, 0.11894368637369031, 0.11891375244328278, 0.11888383527378174, 0.11885393485131468, 0.11882405116202505, 0.11879418419207229, 0.11876433392763187, 0.11873450035489518, 0.11870468346006939, 0.11867488322937772, 0.11864509964905916, 0.11861533270536856, 0.11858558238457657, 0.11855584867296966, 0.11852613155684996, 0.1184964310225355, 0.11846674705635991, 0.11843707964467252, 0.11840742877383836, 0.11837779443023813, 0.11834817660026806, 0.11831857527033998, 0.11828899042688142, 0.11825942205633531, 0.11822987014516019, 0.11820033467983004, 0.11817081564683436, 0.1181413130326781, 0.11811182682388155, 0.11808235700698058, 0.11805290356852631, 0.1180234664950852, 0.11799404577323913, 0.11796464138958526, 0.11793525333073597, 0.11790588158331904, 0.11787652613397738, 0.11784718696936909, 0.11781786407616762, 0.11778855744106144, 0.11775926705075425, 0.11772999289196481, 0.11770073495142706, 0.11767149321589, 0.11764226767211765, 0.11761305830688908, 0.11758386510699834, 0.11755468805925454, 0.11752552715048167, 0.11749638236751875, 0.11746725369721965, 0.1174381411264532, 0.11740904464210304, 0.11737996423106771, 0.11735089988026053, 0.1173218515766097, 0.11729281930705815, 0.11726380305856357, 0.11723480281809841, 0.11720581857264985, 0.11717685030921977, 0.11714789801482467, 0.11711896167649577, 0.11709004128127887, 0.11706113681623435, 0.11703224826843732, 0.11700337562497727, 0.11697451887295837, 0.11694567799949926, 0.116916852991733, 0.11688804383680725, 0.11685925052188409, 0.11683047303413999, 0.11680171136076588, 0.11677296548896705, 0.11674423540596315, 0.11671552109898826, 0.11668682255529063, 0.11665813976213293, 0.11662947270679215, 0.1166008213765594, 0.11657218575874013, 0.11654356584065396, 0.1165149616096348, 0.11648637305303056, 0.1164578001582035, 0.11642924291252989, 0.11640070130340012, 0.11637217531821872, 0.11634366494440429, 0.11631517016938944, 0.11628669098062086, 0.11625822736555913, 0.11622977931167898, 0.11620134680646899, 0.11617292983743169, 0.11614452839208364, 0.11611614245795515, 0.11608777202259056, 0.11605941707354796, 0.11603107759839934, 0.11600275358473049, 0.11597444502014101, 0.1159461518922443, 0.11591787418866746, 0.1158896118970514, 0.11586136500505068, 0.11583313350033363, 0.1158049173705822, 0.11577671660349206, 0.1157485311867724, 0.11572036110814621, 0.11569220635534991, 0.1156640669161336, 0.11563594277826085, 0.11560783392950885, 0.11557974035766831, 0.11555166205054336, 0.11552359899595166, 0.11549555118172426, 0.11546751859570586, 0.11543950122575432, 0.11541149905974105, 0.11538351208555071, 0.11535554029108153, 0.11532758366424485, 0.1152996421929655, 0.11527171586518148, 0.11524380466884421, 0.11521590859191823, 0.11518802762238145, 0.11516016174822488, 0.11513231095745285, 0.1151044752380828, 0.11507665457814534, 0.11504884896568425, 0.11502105838875638, 0.11499328283543184, 0.11496552229379364, 0.11493777675193793, 0.11491004619797394, 0.11488233062002393, 0.11485463000622312, 0.11482694434471977, 0.11479927362367509, 0.1147716178312632, 0.11474397695567126, 0.1147163509850993, 0.11468873990776018, 0.11466114371187977, 0.11463356238569673, 0.1146059959174625, 0.11457844429544145, 0.11455090750791068, 0.1145233855431601, 0.11449587838949242, 0.11446838603522308, 0.11444090846868023, 0.11441344567820472, 0.11438599765215013, 0.1143585643788827, 0.11433114584678135, 0.11430374204423756, 0.11427635295965552, 0.11424897858145197, 0.11422161889805629, 0.11419427389791038, 0.11416694356946866, 0.11413962790119811, 0.11411232688157825, 0.11408504049910102, 0.11405776874227097, 0.11403051159960491, 0.11400326905963226, 0.11397604111089477, 0.11394882774194663, 0.11392162894135438, 0.11389444469769697, 0.11386727499956568, 0.11384011983556414, 0.1138129791943082, 0.11378585306442618, 0.11375874143455854, 0.113731644293358, 0.1137045616294896, 0.11367749343163058, 0.11365043968847036, 0.11362340038871056, 0.11359637552106501, 0.11356936507425963, 0.11354236903703252, 0.11351538739813392, 0.11348842014632612, 0.11346146727038355, 0.11343452875909268, 0.11340760460125202, 0.11338069478567214, 0.11335379930117565, 0.11332691813659701, 0.1133000512807829, 0.1132731987225918, 0.11324636045089415, 0.11321953645457243, 0.1131927267225209, 0.11316593124364581, 0.11313915000686521, 0.11311238300110915, 0.11308563021531935, 0.1130588916384495, 0.11303216725946501, 0.11300545706734316, 0.11297876105107298, 0.11295207919965522, 0.11292541150210247, 0.11289875794743896, 0.11287211852470067, 0.11284549322293529, 0.11281888203120215, 0.11279228493857231, 0.11276570193412834, 0.11273913300696467, 0.11271257814618713, 0.1126860373409132, 0.11265951058027197, 0.11263299785340414, 0.11260649914946189, 0.11258001445760893, 0.1125535437670205, 0.11252708706688336, 0.11250064434639574, 0.11247421559476731, 0.1124478008012192, 0.11242139995498406, 0.1123950130453058, 0.11236864006143985, 0.11234228099265299, 0.11231593582822338, 0.11228960455744053, 0.11226328716960528, 0.11223698365402977, 0.11221069400003751, 0.11218441819696326, 0.11215815623415305, 0.11213190810096417, 0.11210567378676514, 0.11207945328093577, 0.11205324657286701, 0.11202705365196104, 0.11200087450763124, 0.11197470912930207, 0.11194855750640921, 0.11192241962839948, 0.11189629548473079, 0.11187018506487216, 0.11184408835830369, 0.11181800535451653, 0.11179193604301292, 0.11176588041330615, 0.1117398384549205, 0.11171381015739128, 0.11168779551026478, 0.11166179450309827, 0.11163580712545995, 0.11160983336692909, 0.11158387321709573, 0.11155792666556096, 0.11153199370193671, 0.11150607431584574, 0.11148016849692183, 0.11145427623480945, 0.11142839751916406, 0.11140253233965186, 0.11137668068594987, 0.11135084254774592, 0.11132501791473864, 0.11129920677663739, 0.11127340912316229, 0.11124762494404422, 0.11122185422902475, 0.11119609696785616, 0.11117035315030149, 0.11114462276613435, 0.11111890580513904, 0.11109320225711061, 0.11106751211185464, 0.11104183535918731, 0.11101617198893547, 0.11099052199093654, 0.11096488535503853, 0.11093926207109993, 0.11091365212898992, 0.11088805551858803, 0.11086247222978447, 0.1108369022524799, 0.11081134557658538, 0.11078580219202254, 0.11076027208872347, 0.11073475525663067, 0.11070925168569704, 0.11068376136588595, 0.11065828428717116, 0.11063282043953679, 0.11060736981297738, 0.11058193239749776, 0.11055650818311316, 0.11053109715984914, 0.11050569931774153, 0.11048031464683651, 0.11045494313719051, 0.11042958477887026, 0.11040423956195271, 0.11037890747652512, 0.11035358851268492, 0.1103282826605398, 0.11030298991020761, 0.11027771025181646, 0.11025244367550453, 0.11022719017142028, 0.11020194972972217, 0.11017672234057897, 0.11015150799416944, 0.11012630668068252, 0.11010111839031712, 0.11007594311328243, 0.11005078083979755, 0.11002563156009162, 0.11000049526440395, 0.10997537194298376, 0.10995026158609028, 0.10992516418399281, 0.10990007972697059, 0.10987500820531282, 0.1098499496093187, 0.10982490392929731, 0.10979987115556768, 0.10977485127845878, 0.10974984428830944, 0.10972485017546846, 0.10969986893029442, 0.10967490054315579, 0.10964994500443095, 0.109625002304508, 0.10960007243378495, 0.10957515538266961, 0.10955025114157953, 0.10952535970094214, 0.10950048105119452, 0.1094756151827836, 0.10945076208616598, 0.10942592175180807, 0.1094010941701859, 0.1093762793317853, 0.10935147722710171, 0.10932668784664032, 0.10930191118091588, 0.10927714722045294, 0.10925239595578556, 0.10922765737745743, 0.1092029314760219, 0.10917821824204195, 0.10915351766609008, 0.1091288297387484, 0.10910415445060852, 0.10907949179227167, 0.10905484175434858, 0.10903020432745952, 0.10900557950223427, 0.10898096726931206, 0.10895636761934163, 0.10893178054298126, 0.1089072060308986, 0.10888264407377073, 0.10885809466228423, 0.10883355778713508, 0.10880903343902865, 0.10878452160867973, 0.10876002228681245, 0.10873553546416038, 0.10871106113146638, 0.10868659927948267, 0.10866214989897083, 0.10863771298070173, 0.10861328851545557, 0.10858887649402182, 0.10856447690719928, 0.10854008974579593, 0.10851571500062915, 0.1084913526625254, 0.10846700272232047, 0.10844266517085939, 0.10841833999899635, 0.10839402719759472, 0.1083697267575271, 0.10834543866967525, 0.1083211629249301, 0.10829689951419166, 0.1082726484283692, 0.10824840965838105, 0.10822418319515457, 0.10819996902962632, 0.10817576715274192, 0.10815157755545611, 0.1081274002287326, 0.10810323516354423, 0.10807908235087284, 0.10805494178170928, 0.10803081344705347, 0.10800669733791428, 0.10798259344530962, 0.10795850176026636, 0.10793442227382033, 0.10791035497701629, 0.107886299860908, 0.10786225691655811, 0.10783822613503824, 0.10781420750742889, 0.1077902010248194, 0.10776620667830804, 0.10774222445900204, 0.10771825435801735, 0.10769429636647886, 0.10767035047552025, 0.10764641667628407, 0.10762249495992166, 0.10759858531759317, 0.10757468774046751, 0.10755080221972242, 0.10752692874654442, 0.10750306731212872, 0.10747921790767932, 0.10745538052440896, 0.1074315551535391, 0.10740774178629987, 0.10738394041393017, 0.10736015102767754, 0.1073363736187982, 0.10731260817855708, 0.10728885469822767, 0.10726511316909224, 0.10724138358244156, 0.10721766592957511, 0.10719396020180094, 0.1071702663904357, 0.10714658448680467, 0.10712291448224162, 0.10709925636808898, 0.10707561013569769, 0.10705197577642718, 0.10702835328164553, 0.10700474264272923, 0.10698114385106335, 0.10695755689804144, 0.10693398177506547, 0.106910418473546, 0.10688686698490199, 0.10686332730056088, 0.10683979941195852, 0.1068162833105392, 0.10679277898775567, 0.10676928643506906, 0.10674580564394888, 0.10672233660587306, 0.1066988793123279, 0.10667543375480802, 0.10665199992481654, 0.10662857781386474, 0.10660516741347237, 0.10658176871516742, 0.10655838171048627, 0.10653500639097355, 0.10651164274818212, 0.10648829077367326, 0.10646495045901644, 0.10644162179578937, 0.10641830477557808, 0.10639499938997678, 0.10637170563058794, 0.10634842348902217, 0.10632515295689843, 0.10630189402584371, 0.10627864668749333, 0.10625541093349072, 0.10623218675548744, 0.10620897414514326, 0.10618577309412608, 0.1061625835941119, 0.10613940563678488, 0.10611623921383727, 0.10609308431696945, 0.10606994093788984, 0.10604680906831498, 0.1060236886999695, 0.10600057982458604, 0.10597748243390528, 0.10595439651967602, 0.105931322073655, 0.10590825908760704, 0.10588520755330488, 0.1058621674625294, 0.10583913880706938, 0.10581612157872154, 0.10579311576929065, 0.10577012137058943, 0.10574713837443846, 0.10572416677266634, 0.10570120655710957, 0.10567825771961256, 0.10565532025202762, 0.10563239414621498, 0.10560947939404278, 0.10558657598738698, 0.1055636839181314, 0.10554080317816779, 0.10551793375939568, 0.10549507565372246, 0.10547222885306333, 0.10544939334934136, 0.10542656913448735, 0.10540375620043999, 0.10538095453914556, 0.10535816414255841, 0.1053353850026404, 0.10531261711136132, 0.10528986046069856, 0.1052671150426374, 0.10524438084917077, 0.10522165787229924, 0.10519894610403119, 0.10517624553638275, 0.10515355616137756, 0.10513087797104707, 0.10510821095743043, 0.10508555511257432, 0.10506291042853318, 0.10504027689736901, 0.10501765451115148, 0.10499504326195795, 0.10497244314187322, 0.10494985414298985, 0.10492727625740791, 0.10490470947723508, 0.10488215379458661, 0.1048596092015853, 0.1048370756903615, 0.10481455325305315, 0.10479204188180566, 0.10476954156877202, 0.1047470523061127, 0.10472457408599566, 0.10470210690059645, 0.104679650742098, 0.10465720560269073, 0.10463477147457259, 0.10461234834994897, 0.10458993622103269, 0.10456753508004395, 0.10454514491921055, 0.10452276573076756, 0.10450039750695748, 0.10447804024003031, 0.10445569392224331, 0.10443335854586121, 0.1044110341031561, 0.10438872058640747, 0.10436641798790211, 0.10434412629993413, 0.10432184551480506, 0.10429957562482373, 0.10427731662230628, 0.10425506849957618, 0.10423283124896417, 0.10421060486280828, 0.10418838933345387, 0.10416618465325353, 0.10414399081456716, 0.10412180780976185, 0.10409963563121201, 0.10407747427129924, 0.10405532372241237, 0.1040331839769475, 0.1040110550273079, 0.103988936865904, 0.10396682948515351, 0.1039447328774813, 0.10392264703531932, 0.1039005719511069, 0.1038785076172903, 0.10385645402632303, 0.10383441117066575, 0.10381237904278623, 0.10379035763515938, 0.10376834694026717, 0.10374634695059877, 0.10372435765865036, 0.10370237905692524, 0.10368041113793379, 0.10365845389419344, 0.10363650731822871, 0.10361457140257116, 0.10359264613975938, 0.103570731522339, 0.10354882754286267, 0.10352693419389009, 0.10350505146798797, 0.10348317935772992, 0.10346131785569669, 0.10343946695447591, 0.10341762664666221, 0.10339579692485722, 0.10337397778166943, 0.1033521692097144, 0.10333037120161455, 0.1033085837499993, 0.10328680684750485, 0.10326504048677453, 0.10324328466045832, 0.10322153936121334, 0.10319980458170346, 0.10317808031459945, 0.10315636655257898, 0.10313466328832656, 0.10311297051453357, 0.10309128822389822, 0.10306961640912556, 0.10304795506292745, 0.10302630417802265, 0.10300466374713665, 0.10298303376300177, 0.10296141421835711, 0.10293980510594865, 0.10291820641852904, 0.10289661814885771, 0.1028750402897009, 0.1028534728338316, 0.1028319157740295, 0.10281036910308111, 0.10278883281377957, 0.10276730689892483, 0.10274579135132346, 0.10272428616378888, 0.10270279132914104, 0.10268130684020664, 0.10265983268981918, 0.10263836887081866, 0.10261691537605185, 0.10259547219837208, 0.10257403933063945, 0.10255261676572063, 0.10253120449648888, 0.10250980251582423, 0.10248841081661313, 0.1024670293917488, 0.10244565823413102, 0.1024242973366661, 0.10240294669226697, 0.10238160629385318, 0.1023602761343508, 0.10233895620669246, 0.10231764650381733, 0.1022963470186712, 0.10227505774420628, 0.10225377867338145, 0.10223250979916194, 0.10221125111451965, 0.10219000261243291, 0.10216876428588653, 0.10214753612787186, 0.10212631813138669, 0.10210511028943532, 0.10208391259502841, 0.1020627250411833, 0.10204154762092353, 0.10202038032727923, 0.10199922315328692, 0.10197807609198956, 0.10195693913643653, 0.1019358122796836, 0.10191469551479297, 0.10189358883483321, 0.10187249223287927, 0.10185140570201252, 0.10183032923532069, 0.10180926282589786, 0.10178820646684446, 0.10176716015126736, 0.10174612387227953, 0.10172509762300061, 0.1017040813965563, 0.10168307518607876, 0.1016620789847064, 0.10164109278558393, 0.1016201165818624, 0.10159915036669914, 0.10157819413325775, 0.10155724787470802, 0.10153631158422617, 0.10151538525499457, 0.10149446888020183, 0.1014735624530429, 0.10145266596671887, 0.10143177941443714, 0.10141090278941121, 0.10139003608486094, 0.10136917929401228, 0.10134833241009744, 0.10132749542635482, 0.101306668336029, 0.10128585113237067, 0.10126504380863681, 0.10124424635809046, 0.10122345877400085, 0.1012026810496434, 0.10118191317829962, 0.10116115515325717, 0.1011404069678098, 0.10111966861525744, 0.10109894008890606, 0.1010782213820678, 0.10105751248806087, 0.10103681340020959, 0.1010161241118443, 0.10099544461630147, 0.10097477490692362, 0.10095411497705932, 0.10093346482006324, 0.10091282442929601, 0.1008921937981244, 0.10087157291992117, 0.10085096178806503, 0.10083036039594083, 0.10080976873693936, 0.10078918680445743, 0.10076861459189784, 0.10074805209266936, 0.10072749930018676, 0.10070695620787082, 0.10068642280914827, 0.10066589909745172, 0.10064538506621985, 0.10062488070889723, 0.10060438601893436, 0.10058390098978769, 0.10056342561491959, 0.10054295988779836, 0.10052250380189821, 0.10050205735069923, 0.10048162052768746, 0.10046119332635475, 0.10044077574019888, 0.10042036776272353, 0.1003999693874382, 0.1003795806078583, 0.1003592014175051, 0.10033883180990563, 0.10031847177859289, 0.10029812131710561, 0.10027778041898837, 0.10025744907779163, 0.10023712728707161, 0.10021681504039034, 0.10019651233131571, 0.10017621915342131, 0.10015593550028658, 0.10013566136549676, 0.10011539674264279, 0.10009514162532142, 0.1000748960071352, 0.10005465988169233, 0.1000344332426069, 0.10001421608349857, 0.0999940083979929, 0.09997381017972105, 0.09995362142231999, 0.0999334421194323, 0.09991327226470641, 0.09989311185179632, 0.09987296087436177, 0.09985281932606824, 0.09983268720058679, 0.09981256449159424, 0.09979245119277304, 0.09977234729781126, 0.09975225280040269, 0.09973216769424675, 0.0997120919730485, 0.09969202563051864, 0.09967196866037345, 0.09965192105633489, 0.09963188281213049, 0.09961185392149341, 0.09959183437816244, 0.0995718241758819, 0.09955182330840173, 0.09953183176947751, 0.09951184955287028, 0.09949187665234673, 0.09947191306167909, 0.09945195877464512, 0.09943201378502824, 0.09941207808661721, 0.09939215167320657, 0.09937223453859617, 0.09935232667659151, 0.09933242808100361, 0.0993125387456489, 0.09929265866434946, 0.09927278783093273, 0.09925292623923175, 0.09923307388308497, 0.09921323075633638, 0.09919339685283536, 0.09917357216643685, 0.09915375669100121, 0.09913395042039422, 0.09911415334848717, 0.09909436546915673, 0.09907458677628508, 0.09905481726375978, 0.09903505692547375, 0.09901530575532548, 0.09899556374721871, 0.09897583089506273, 0.09895610719277212, 0.09893639263426689, 0.09891668721347242, 0.09889699092431951, 0.09887730376074429, 0.09885762571668827, 0.09883795678609833, 0.09881829696292667, 0.0987986462411309, 0.09877900461467391, 0.09875937207752399, 0.09873974862365467, 0.09872013424704489, 0.09870052894167888, 0.0986809327015462, 0.0986613455206416, 0.09864176739296528, 0.09862219831252265, 0.09860263827332451, 0.09858308726938678, 0.09856354529473074, 0.09854401234338295, 0.09852448840937524, 0.09850497348674465, 0.09848546756953351, 0.09846597065178939, 0.09844648272756508, 0.09842700379091862, 0.09840753383591327, 0.09838807285661753, 0.09836862084710506, 0.0983491778014548, 0.09832974371375086, 0.09831031857808252, 0.09829090238854431, 0.0982714951392359, 0.09825209682426218, 0.09823270743773313, 0.09821332697376403, 0.09819395542647523, 0.09817459278999219, 0.09815523905844566, 0.09813589422597145, 0.09811655828671047, 0.09809723123480889, 0.09807791306441786, 0.09805860376969375, 0.098039303344798, 0.09802001178389716, 0.09800072908116296, 0.09798145523077209, 0.09796219022690644, 0.09794293406375298, 0.0979236867355037, 0.09790444823635572, 0.09788521856051115, 0.09786599770217733, 0.09784678565556644, 0.09782758241489588, 0.09780838797438805, 0.09778920232827035, 0.09777002547077525, 0.09775085739614024, 0.09773169809860784, 0.09771254757242556, 0.09769340581184596, 0.09767427281112662, 0.09765514856453006, 0.09763603306632383, 0.09761692631078049, 0.09759782829217752, 0.09757873900479747, 0.09755965844292776, 0.0975405866008609, 0.09752152347289421, 0.09750246905333008, 0.09748342333647585, 0.09746438631664373, 0.0974453579881509, 0.09742633834531954, 0.09740732738247665, 0.09738832509395427, 0.0973693314740892, 0.09735034651722332, 0.09733137021770331, 0.0973124025698808, 0.09729344356811225, 0.09727449320675911, 0.09725555148018761, 0.09723661838276892, 0.09721769390887913, 0.09719877805289907, 0.09717987080921454, 0.09716097217221611, 0.09714208213629931, 0.09712320069586441, 0.09710432784531658, 0.0970854635790658, 0.09706660789152693, 0.09704776077711959, 0.09702892223026821, 0.0970100922454021, 0.09699127081695536, 0.09697245793936683, 0.09695365360708025, 0.09693485781454404, 0.09691607055621153, 0.09689729182654072, 0.09687852161999443, 0.09685975993104026, 0.0968410067541506, 0.09682226208380254, 0.09680352591447794, 0.09678479824066341, 0.09676607905685038, 0.0967473683575349, 0.09672866613721785, 0.09670997239040474, 0.09669128711160595, 0.09667261029533639, 0.09665394193611584, 0.09663528202846873, 0.09661663056692417, 0.09659798754601598, 0.09657935296028271, 0.09656072680426754, 0.09654210907251838, 0.09652349975958781, 0.09650489886003301, 0.0964863063684159, 0.0964677222793031, 0.09644914658726575, 0.09643057928687977, 0.09641202037272566, 0.09639346983938854, 0.09637492768145825, 0.09635639389352922, 0.09633786847020043, 0.09631935140607557, 0.09630084269576292, 0.09628234233387539, 0.09626385031503044, 0.09624536663385018, 0.09622689128496129, 0.09620842426299503, 0.09618996556258728, 0.09617151517837848, 0.09615307310501361, 0.09613463933714228, 0.09611621386941863, 0.09609779669650136, 0.09607938781305371, 0.09606098721374354, 0.09604259489324314, 0.09602421084622942, 0.09600583506738383, 0.09598746755139229, 0.09596910829294528, 0.09595075728673778, 0.09593241452746933, 0.09591408000984394, 0.09589575372857015, 0.09587743567836095, 0.09585912585393386, 0.0958408242500109, 0.09582253086131856, 0.09580424568258779, 0.09578596870855408, 0.09576769993395728, 0.0957494393535418, 0.0957311869620565, 0.09571294275425464, 0.09569470672489395, 0.09567647886873665, 0.0956582591805494, 0.09564004765510319, 0.09562184428717355, 0.09560364907154043, 0.09558546200298812, 0.09556728307630538, 0.09554911228628545, 0.09553094962772586, 0.09551279509542858, 0.09549464868420002, 0.0954765103888509, 0.0954583802041964, 0.09544025812505605, 0.0954221441462538, 0.0954040382626179, 0.09538594046898102, 0.0953678507601802, 0.0953497691310568, 0.09533169557645654, 0.09531363009122953, 0.09529557267023019, 0.09527752330831728, 0.09525948200035392, 0.09524144874120752, 0.09522342352574988, 0.09520540634885703, 0.0951873972054094, 0.09516939609029171, 0.0951514029983929, 0.09513341792460644, 0.09511544086382978, 0.0950974718109649, 0.09507951076091806, 0.09506155770859966, 0.09504361264892446, 0.09502567557681156, 0.09500774648718417, 0.09498982537496997, 0.09497191223510071, 0.09495400706251247, 0.09493610985214568, 0.09491822059894486, 0.09490033929785885, 0.09488246594384067, 0.09486460053184771, 0.09484674305684142, 0.0948288935137876, 0.09481105189765618, 0.09479321820342138, 0.0947753924260616, 0.09475757456055939, 0.09473976460190163, 0.09472196254507927, 0.09470416838508751, 0.09468638211692575, 0.09466860373559753, 0.09465083323611057, 0.09463307061347684, 0.0946153158627124, 0.0945975689788375, 0.0945798299568766, 0.0945620987918582, 0.09454437547881503, 0.094526660012784, 0.09450895238880605, 0.09449125260192641, 0.09447356064719435, 0.09445587651966322, 0.09443820021439062, 0.09442053172643819, 0.0944028710508717, 0.09438521818276105, 0.0943675731171802, 0.09434993584920733, 0.09433230637392455, 0.09431468468641818, 0.09429707078177861, 0.09427946465510029, 0.09426186630148181, 0.09424427571602577, 0.09422669289383882, 0.09420911783003182, 0.09419155051971956, 0.09417399095802088, 0.09415643914005879, 0.09413889506096024, 0.09412135871585631, 0.09410383009988203, 0.09408630920817662, 0.09406879603588315, 0.0940512905781488, 0.09403379283012483, 0.09401630278696642, 0.0939988204438329, 0.09398134579588745, 0.09396387883829738, 0.0939464195662339, 0.09392896797487237, 0.09391152405939199, 0.09389408781497605, 0.09387665923681178, 0.09385923832009038, 0.0938418250600071, 0.09382441945176108, 0.09380702149055549, 0.09378963117159743, 0.09377224849009799, 0.09375487344127219, 0.09373750602033898, 0.09372014622252137, 0.09370279404304617, 0.09368544947714426, 0.09366811252005029, 0.09365078316700307, 0.09363346141324515, 0.09361614725402302, 0.09359884068458725, 0.09358154170019213, 0.09356425029609597, 0.09354696646756096, 0.09352969020985315, 0.0935124215182426, 0.09349516038800318, 0.09347790681441265, 0.09346066079275268, 0.09344342231830885, 0.09342619138637052, 0.09340896799223104, 0.09339175213118756, 0.0933745437985411, 0.0933573429895966, 0.09334014969966278, 0.09332296392405226, 0.09330578565808152, 0.09328861489707085, 0.0932714516363444, 0.09325429587123014, 0.0932371475970599, 0.09322000680916931, 0.09320287350289785, 0.09318574767358885, 0.09316862931658941, 0.09315151842725042, 0.09313441500092665, 0.09311731903297661, 0.09310023051876266, 0.09308314945365098, 0.09306607583301144, 0.09304900965221778, 0.09303195090664752, 0.09301489959168195, 0.09299785570270613, 0.09298081923510895, 0.09296379018428295, 0.09294676854562456, 0.09292975431453385, 0.0929127474864148, 0.09289574805667503, 0.09287875602072596, 0.09286177137398267, 0.0928447941118641, 0.0928278242297929, 0.09281086172319539, 0.09279390658750165, 0.09277695881814556, 0.09276001841056467, 0.09274308536020015, 0.09272615966249703, 0.092709241312904, 0.09269233030687347, 0.09267542663986152, 0.09265853030732794, 0.09264164130473626, 0.0926247596275536, 0.09260788527125087, 0.09259101823130264, 0.09257415850318715, 0.09255730608238626, 0.0925404609643856, 0.09252362314467442, 0.09250679261874566, 0.09248996938209587, 0.0924731534302253, 0.0924563447586378, 0.09243954336284102, 0.09242274923834606, 0.09240596238066774, 0.09238918278532458, 0.09237241044783867, 0.09235564536373574, 0.09233888752854512, 0.09232213693779986, 0.09230539358703652, 0.09228865747179531, 0.09227192858762011, 0.0922552069300583, 0.092238492494661, 0.09222178527698277, 0.09220508527258191, 0.09218839247702022, 0.0921717068858632, 0.09215502849467977, 0.0921383572990426, 0.09212169329452778, 0.09210503647671515, 0.09208838684118799, 0.09207174438353317, 0.09205510909934116, 0.09203848098420596, 0.09202186003372513, 0.09200524624349983, 0.0919886396091347, 0.09197204012623796, 0.09195544779042138, 0.0919388625973002, 0.09192228454249333, 0.09190571362162307, 0.09188914983031535, 0.09187259316419955, 0.09185604361890862, 0.09183950119007897, 0.0918229658733506, 0.09180643766436698, 0.09178991655877508, 0.09177340255222537, 0.09175689564037182, 0.09174039581887193, 0.09172390308338664, 0.09170741742958037, 0.09169093885312112, 0.09167446734968024, 0.09165800291493266, 0.09164154554455674, 0.09162509523423429, 0.09160865197965064, 0.09159221577649453, 0.09157578662045819, 0.09155936450723731, 0.09154294943253097, 0.09152654139204182, 0.09151014038147584, 0.09149374639654248, 0.09147735943295468, 0.09146097948642874, 0.09144460655268445, 0.09142824062744502, 0.09141188170643703, 0.09139552978539055, 0.091379184860039, 0.09136284692611929, 0.09134651597937168, 0.09133019201553984, 0.09131387503037088, 0.09129756501961525, 0.09128126197902689, 0.09126496590436305, 0.09124867679138438, 0.09123239463585497, 0.09121611943354223, 0.09119985118021694, 0.09118358987165331, 0.09116733550362893, 0.09115108807192471, 0.09113484757232493, 0.09111861400061723, 0.09110238735259267, 0.09108616762404557, 0.09106995481077368, 0.09105374890857805, 0.0910375499132631, 0.09102135782063654, 0.09100517262650953, 0.09098899432669645, 0.09097282291701506, 0.09095665839328644, 0.090940500751335, 0.09092434998698846, 0.09090820609607789, 0.09089206907443764, 0.09087593891790535, 0.09085981562232204, 0.09084369918353194, 0.0908275895973827, 0.09081148685972515, 0.09079539096641348, 0.09077930191330515, 0.0907632196962609, 0.09074714431114478, 0.09073107575382411, 0.09071501402016947, 0.09069895910605473, 0.09068291100735705, 0.0906668697199568, 0.09065083523973769, 0.09063480756258663, 0.09061878668439377, 0.09060277260105262, 0.09058676530845984, 0.09057076480251539, 0.09055477107912244, 0.09053878413418741, 0.09052280396361997, 0.09050683056333306, 0.09049086392924274, 0.09047490405726845, 0.0904589509433327, 0.09044300458336134, 0.09042706497328339, 0.09041113210903105, 0.09039520598653987, 0.09037928660174838, 0.09036337395059858, 0.09034746802903541, 0.09033156883300725, 0.09031567635846548, 0.09029979060136478, 0.09028391155766304, 0.09026803922332124, 0.09025217359430361, 0.09023631466657757, 0.09022046243611366, 0.09020461689888562, 0.0901887780508704, 0.09017294588804801, 0.09015712040640178, 0.09014130160191813, 0.09012548947058653, 0.09010968400839976, 0.0900938852113537, 0.09007809307544731, 0.09006230759668281, 0.0900465287710655, 0.09003075659460383, 0.09001499106330935, 0.08999923217319677, 0.08998347992028397, 0.08996773430059189, 0.08995199531014461, 0.0899362629449694, 0.08992053720109652, 0.08990481807455944, 0.08988910556139472, 0.08987339965764202, 0.08985770035934407, 0.08984200766254678, 0.08982632156329913, 0.08981064205765311, 0.08979496914166389, 0.08977930281138975, 0.08976364306289199, 0.08974798989223504, 0.08973234329548632, 0.08971670326871649, 0.08970106980799913, 0.08968544290941097, 0.08966982256903179, 0.08965420878294444, 0.08963860154723478, 0.08962300085799181, 0.08960740671130756, 0.08959181910327704, 0.08957623802999844, 0.08956066348757287, 0.0895450954721046, 0.08952953397970079, 0.08951397900647179, 0.0894984305485309, 0.0894828886019945, 0.08946735316298196, 0.08945182422761568, 0.08943630179202107, 0.08942078585232656, 0.08940527640466368, 0.08938977344516684, 0.08937427696997356, 0.08935878697522434, 0.08934330345706266, 0.08932782641163502, 0.08931235583509094, 0.08929689172358288, 0.08928143407326634, 0.0892659828802998, 0.08925053814084474, 0.08923509985106555, 0.0892196680071297, 0.0892042426052076, 0.08918882364147261, 0.08917341111210111, 0.08915800501327235, 0.0891426053411687, 0.08912721209197537, 0.08911182526188055, 0.0890964448470754, 0.08908107084375413, 0.08906570324811372, 0.08905034205635422, 0.0890349872646786, 0.08901963886929277, 0.08900429686640556, 0.08898896125222877, 0.0889736320229771, 0.08895830917486826, 0.08894299270412277, 0.08892768260696417, 0.08891237887961884, 0.08889708151831618, 0.08888179051928843, 0.08886650587877079, 0.08885122759300132, 0.08883595565822101, 0.08882069007067382, 0.08880543082660647, 0.08879017792226873, 0.0887749313539132, 0.08875969111779534, 0.08874445721017356, 0.08872922962730911, 0.0887140083654662, 0.08869879342091182, 0.08868358478991595, 0.08866838246875136, 0.0886531864536937, 0.08863799674102155, 0.08862281332701631, 0.08860763620796228, 0.08859246538014656, 0.08857730083985921, 0.08856214258339305, 0.08854699060704385, 0.0885318449071101, 0.08851670547989327, 0.08850157232169761, 0.08848644542883023, 0.08847132479760109, 0.08845621042432295, 0.08844110230531144, 0.088426000436885, 0.08841090481536494, 0.08839581543707538, 0.08838073229834321, 0.08836565539549823, 0.08835058472487299, 0.08833552028280289, 0.08832046206562612, 0.0883054100696837, 0.08829036429131945, 0.08827532472688, 0.08826029137271478, 0.08824526422517605, 0.08823024328061875, 0.0882152285354008, 0.08820021998588275, 0.08818521762842803, 0.08817022145940281, 0.08815523147517605, 0.08814024767211952, 0.08812527004660775, 0.08811029859501801, 0.0880953333137304, 0.08808037419912776, 0.08806542124759575, 0.08805047445552268, 0.08803553381929972, 0.08802059933532076, 0.08800567099998244, 0.0879907488096842, 0.08797583276082818, 0.08796092284981927, 0.08794601907306517, 0.08793112142697623, 0.08791622990796563, 0.0879013445124492, 0.08788646523684561, 0.08787159207757617, 0.08785672503106494, 0.08784186409373873, 0.08782700926202702, 0.08781216053236217, 0.08779731790117906, 0.08778248136491539, 0.08776765092001157, 0.08775282656291068, 0.08773800829005857, 0.08772319609790377, 0.08770838998289746, 0.08769358994149362, 0.08767879597014885, 0.08766400806532247, 0.0876492262234765, 0.08763445044107568, 0.08761968071458737, 0.08760491704048168, 0.08759015941523131, 0.08757540783531177, 0.08756066229720116, 0.08754592279738031, 0.08753118933233263, 0.0875164618985443, 0.08750174049250414, 0.08748702511070358, 0.08747231574963679, 0.08745761240580056, 0.08744291507569432, 0.08742822375582023, 0.08741353844268294, 0.08739885913279002, 0.0873841858226514, 0.0873695185087798, 0.08735485718769065, 0.08734020185590181, 0.08732555250993396, 0.08731090914631039, 0.08729627176155691, 0.0872816403522021, 0.08726701491477706, 0.08725239544581558, 0.08723778194185407, 0.08722317439943147, 0.08720857281508948, 0.0871939771853723, 0.0871793875068268, 0.08716480377600241, 0.08715022598945124, 0.08713565414372794, 0.08712108823538978, 0.08710652826099666, 0.08709197421711101, 0.08707742610029792, 0.08706288390712506, 0.08704834763416266, 0.08703381727798357, 0.08701929283516317, 0.08700477430227954, 0.08699026167591316, 0.08697575495264727, 0.08696125412906756, 0.08694675920176236, 0.08693227016732248, 0.08691778702234149, 0.08690330976341529, 0.0868888383871425, 0.08687437289012419, 0.08685991326896414, 0.08684545952026854, 0.08683101164064619, 0.08681656962670842, 0.08680213347506918, 0.08678770318234488, 0.08677327874515449, 0.08675886016011955, 0.0867444474238641, 0.08673004053301478, 0.0867156394842007, 0.08670124427405353, 0.08668685489920742, 0.08667247135629919, 0.08665809364196798, 0.08664372175285562, 0.08662935568560634, 0.08661499543686699, 0.08660064100328684, 0.08658629238151774, 0.08657194956821407, 0.08655761256003258, 0.08654328135363272, 0.08652895594567626, 0.08651463633282759, 0.08650032251175356, 0.08648601447912349, 0.08647171223160925, 0.08645741576588514, 0.08644312507862802, 0.08642884016651715, 0.08641456102623433, 0.08640028765446385, 0.08638602004789245, 0.0863717582032093, 0.08635750211710617, 0.08634325178627719, 0.08632900720741903, 0.08631476837723076, 0.08630053529241398, 0.08628630794967272, 0.08627208634571347, 0.0862578704772452, 0.08624366034097929, 0.08622945593362963, 0.08621525725191252, 0.08620106429254673, 0.08618687705225347, 0.0861726955277564, 0.08615851971578163, 0.08614434961305767, 0.08613018521631546, 0.08611602652228847, 0.08610187352771252, 0.0860877262293259, 0.08607358462386924, 0.08605944870808575, 0.08604531847872093, 0.08603119393252276, 0.08601707506624166, 0.0860029618766304, 0.08598885436044419, 0.08597475251444071, 0.08596065633537998, 0.08594656582002445, 0.08593248096513899, 0.08591840176749083, 0.08590432822384968, 0.08589026033098753, 0.0858761980856789, 0.08586214148470063, 0.08584809052483196, 0.08583404520285452, 0.08582000551555231, 0.08580597145971178, 0.08579194303212168, 0.0857779202295732, 0.08576390304885989, 0.08574989148677768, 0.08573588554012487, 0.08572188520570212, 0.08570789048031245, 0.08569390136076131, 0.08567991784385647, 0.08566593992640806, 0.08565196760522858, 0.08563800087713289, 0.08562403973893819, 0.08561008418746408, 0.08559613421953244, 0.08558218983196761, 0.08556825102159614, 0.08555431778524702, 0.08554039011975158, 0.08552646802194344, 0.0855125514886586, 0.08549864051673538, 0.08548473510301446, 0.08547083524433881, 0.08545694093755374, 0.08544305217950696, 0.08542916896704841, 0.0854152912970304, 0.08540141916630757, 0.08538755257173683, 0.08537369151017747, 0.08535983597849106, 0.08534598597354145, 0.08533214149219495, 0.08531830253131995, 0.0853044690877873, 0.08529064115847017, 0.08527681874024391, 0.08526300182998632, 0.08524919042457739, 0.08523538452089943, 0.08522158411583707, 0.0852077892062772, 0.08519399978910902, 0.08518021586122401, 0.08516643741951595, 0.08515266446088086, 0.08513889698221712, 0.08512513498042532, 0.08511137845240829, 0.0850976273950713, 0.08508388180532174, 0.08507014168006927, 0.08505640701622591, 0.08504267781070593, 0.08502895406042578, 0.08501523576230428, 0.08500152291326245, 0.08498781551022355, 0.0849741135501131, 0.08496041702985899, 0.08494672594639119, 0.08493304029664203, 0.08491936007754608, 0.0849056852860401, 0.08489201591906313, 0.08487835197355646, 0.08486469344646362, 0.08485104033473033, 0.08483739263530463, 0.0848237503451367, 0.08481011346117902, 0.08479648198038627, 0.08478285589971536, 0.08476923521612548, 0.08475561992657789, 0.08474201002803625, 0.08472840551746633, 0.08471480639183616, 0.08470121264811596, 0.08468762428327822, 0.08467404129429756, 0.08466046367815085, 0.08464689143181717, 0.0846333245522778, 0.0846197630365162, 0.08460620688151808, 0.0845926560842713, 0.08457911064176596, 0.0845655705509943, 0.08455203580895085, 0.0845385064126322, 0.0845249823590372, 0.08451146364516691, 0.08449795026802454, 0.08448444222461547, 0.0844709395119473, 0.0844574421270298, 0.08444395006687484, 0.08443046332849664, 0.08441698190891136, 0.08440350580513756, 0.0843900350141958, 0.08437656953310889, 0.08436310935890177, 0.08434965448860159, 0.08433620491923757, 0.08432276064784122, 0.08430932167144607, 0.08429588798708788, 0.08428245959180461, 0.08426903648263627, 0.08425561865662505, 0.08424220611081533, 0.08422879884225357, 0.08421539684798844, 0.08420200012507069, 0.08418860867055326, 0.08417522248149122, 0.0841618415549417, 0.08414846588796412, 0.0841350954776199, 0.08412173032097253, 0.08410837041508787, 0.08409501575703368, 0.08408166634387994, 0.08406832217269872, 0.08405498324056426, 0.08404164954455284, 0.08402832108174296, 0.08401499784921511, 0.08400167984405199, 0.08398836706333837, 0.08397505950416113, 0.08396175716360928, 0.08394846003877389, 0.08393516812674819, 0.08392188142462745, 0.08390859992950907, 0.08389532363849257, 0.08388205254867953, 0.08386878665717362, 0.08385552596108063, 0.08384227045750844, 0.08382902014356697, 0.08381577501636829, 0.08380253507302647, 0.08378930031065776, 0.08377607072638045, 0.08376284631731488, 0.08374962708058348, 0.08373641301331079, 0.08372320411262338, 0.08371000037564988, 0.08369680179952106, 0.08368360838136968, 0.08367042011833063, 0.08365723700754081, 0.08364405904613915, 0.08363088623126679, 0.08361771856006674, 0.08360455602968421, 0.08359139863726639, 0.08357824637996251, 0.08356509925492393, 0.08355195725930396, 0.08353882039025803, 0.08352568864494357, 0.08351256202052011, 0.08349944051414918, 0.08348632412299427, 0.08347321284422111, 0.08346010667499726, 0.0834470056124924, 0.08343390965387827, 0.08342081879632861, 0.08340773303701918, 0.08339465237312775, 0.08338157680183418, 0.08336850632032027, 0.0833554409257699, 0.08334238061536897, 0.08332932538630537, 0.08331627523576901, 0.08330323016095181, 0.08329019015904769, 0.08327715522725265, 0.0832641253627646, 0.08325110056278354, 0.0832380808245114, 0.08322506614515217, 0.08321205652191183, 0.08319905195199835, 0.08318605243262167, 0.08317305796099377, 0.08316006853432864, 0.08314708414984219, 0.08313410480475239, 0.08312113049627914, 0.08310816122164437, 0.08309519697807198, 0.08308223776278782, 0.08306928357301985, 0.0830563344059978, 0.08304339025895356, 0.08303045112912089, 0.08301751701373561, 0.08300458791003543, 0.08299166381526009, 0.08297874472665123, 0.08296583064145255, 0.08295292155690964, 0.0829400174702701, 0.08292711837878346, 0.08291422427970122, 0.08290133517027684, 0.08288845104776577, 0.08287557190942535, 0.08286269775251492, 0.08284982857429574, 0.08283696437203107, 0.08282410514298608, 0.08281125088442787, 0.08279840159362552, 0.08278555726785009, 0.0827727179043744, 0.08275988350047347, 0.08274705405342409, 0.082734229560505, 0.08272141001899691, 0.08270859542618249, 0.08269578577934623, 0.0826829810757747, 0.08267018131275623, 0.08265738648758124, 0.08264459659754196, 0.08263181163993258, 0.08261903161204924, 0.08260625651118993, 0.08259348633465463, 0.08258072107974518, 0.08256796074376536, 0.08255520532402087, 0.08254245481781929, 0.08252970922247012, 0.08251696853528478, 0.08250423275357661, 0.08249150187466082, 0.08247877589585455, 0.08246605481447677, 0.08245333862784847, 0.08244062733329242, 0.08242792092813336, 0.08241521940969791, 0.08240252277531451, 0.08238983102231363, 0.08237714414802749, 0.08236446214979028, 0.08235178502493805, 0.08233911277080871, 0.08232644538474211, 0.08231378286407992, 0.08230112520616575, 0.08228847240834501, 0.08227582446796504, 0.08226318138237505, 0.0822505431489261, 0.08223790976497114, 0.08222528122786496, 0.08221265753496426, 0.08220003868362755, 0.0821874246712153, 0.0821748154950897, 0.08216221115261496, 0.08214961164115701, 0.08213701695808368, 0.0821244271007647, 0.08211184206657163, 0.08209926185287787, 0.08208668645705866, 0.08207411587649112, 0.08206155010855418, 0.08204898915062868, 0.08203643300009719, 0.08202388165434427, 0.08201133511075619, 0.08199879336672114, 0.08198625641962913, 0.08197372426687198, 0.08196119690584336, 0.08194867433393876, 0.08193615654855556, 0.0819236435470929, 0.08191113532695175, 0.08189863188553495, 0.08188613322024715, 0.0818736393284948, 0.08186115020768622, 0.08184866585523147, 0.08183618626854251, 0.08182371144503306, 0.0818112413821187, 0.08179877607721678, 0.0817863155277465, 0.08177385973112884, 0.08176140868478662, 0.08174896238614443, 0.08173652083262868, 0.0817240840216676, 0.08171165195069123, 0.08169922461713139, 0.08168680201842166, 0.08167438415199749, 0.08166197101529608, 0.08164956260575645, 0.08163715892081942, 0.08162475995792755, 0.08161236571452525, 0.08159997618805868, 0.08158759137597577, 0.08157521127572633, 0.08156283588476185, 0.0815504652005356, 0.08153809922050273, 0.08152573794212013, 0.08151338136284633, 0.08150102948014189, 0.08148868229146893, 0.08147633979429142, 0.0814640019860751, 0.08145166886428751, 0.08143934042639792, 0.08142701666987734, 0.0814146975921986, 0.0814023831908363, 0.08139007346326675, 0.08137776840696805, 0.08136546801942005, 0.08135317229810435, 0.08134088124050434, 0.08132859484410514, 0.08131631310639362, 0.08130403602485839, 0.08129176359698985, 0.0812794958202801, 0.08126723269222304, 0.08125497421031426, 0.08124272037205116, 0.08123047117493275, 0.08121822661645996, 0.08120598669413535, 0.08119375140546324, 0.08118152074794971, 0.08116929471910246, 0.0811570733164311, 0.08114485653744681, 0.08113264437966267, 0.08112043684059332, 0.08110823391775523, 0.08109603560866656, 0.08108384191084718, 0.08107165282181872, 0.08105946833910455, 0.08104728846022966, 0.08103511318272086, 0.08102294250410662, 0.08101077642191715, 0.08099861493368436, 0.08098645803694189, 0.08097430572922507, 0.08096215800807095, 0.08095001487101831, 0.08093787631560759, 0.08092574233938098, 0.0809136129398823, 0.08090148811465717, 0.08088936786125286, 0.08087725217721832, 0.08086514106010423, 0.08085303450746298, 0.08084093251684858, 0.08082883508581684, 0.08081674221192518, 0.08080465389273273, 0.08079257012580031, 0.08078049090869044, 0.08076841623896734, 0.08075634611419684, 0.08074428053194654, 0.08073221948978569, 0.08072016298528521, 0.08070811101601767, 0.08069606357955743, 0.08068402067348038, 0.08067198229536414, 0.08065994844278808, 0.08064791911333312, 0.08063589430458193, 0.08062387401411883, 0.08061185823952978, 0.08059984697840245, 0.08058784022832613, 0.08057583798689179, 0.08056384025169211, 0.08055184702032132, 0.08053985829037541, 0.080527874059452, 0.08051589432515033, 0.08050391908507136, 0.08049194833681761, 0.08047998207799334, 0.0804680203062044, 0.08045606301905835, 0.08044411021416431, 0.08043216188913316, 0.08042021804157728, 0.08040827866911086, 0.08039634376934955, 0.08038441333991081, 0.08037248737841364, 0.08036056588247868, 0.08034864884972827, 0.08033673627778631, 0.08032482816427836, 0.08031292450683163, 0.08030102530307492, 0.08028913055063872, 0.0802772402471551, 0.08026535439025775, 0.08025347297758204, 0.08024159600676488, 0.08022972347544488, 0.08021785538126223, 0.08020599172185876, 0.0801941324948779, 0.08018227769796467, 0.08017042732876577, 0.08015858138492948, 0.08014673986410568, 0.0801349027639459, 0.08012307008210323, 0.08011124181623241, 0.08009941796398973, 0.08008759852303317, 0.08007578349102222, 0.08006397286561807, 0.08005216664448343, 0.08004036482528266, 0.0800285674056817, 0.08001677438334807, 0.08000498575595091, 0.07999320152116095, 0.07998142167665052, 0.0799696462200935, 0.07995787514916546, 0.07994610846154343, 0.0799343461549061, 0.07992258822693377, 0.07991083467530825, 0.079899085497713, 0.07988734069183304, 0.07987560025535496, 0.07986386418596693, 0.07985213248135872, 0.07984040513922165, 0.07982868215724866, 0.0798169635331342, 0.07980524926457433, 0.07979353934926672, 0.07978183378491051, 0.0797701325692065, 0.07975843569985702, 0.07974674317456598, 0.07973505499103883, 0.0797233711469826, 0.07971169164010589, 0.07970001646811885, 0.07968834562873321, 0.0796766791196622, 0.07966501693862069, 0.07965335908332506, 0.07964170555149322, 0.07963005634084468, 0.07961841144910049, 0.07960677087398324, 0.07959513461321707, 0.07958350266452766, 0.07957187502564225, 0.07956025169428967, 0.07954863266820018, 0.07953701794510569, 0.0795254075227396, 0.07951380139883688, 0.07950219957113398, 0.07949060203736895, 0.07947900879528133, 0.07946741984261227, 0.07945583517710433, 0.07944425479650175, 0.07943267869855017, 0.07942110688099684, 0.0794095393415905, 0.07939797607808141, 0.07938641708822143, 0.07937486236976385, 0.07936331192046354, 0.07935176573807685, 0.07934022382036171, 0.07932868616507753, 0.0793171527699852, 0.07930562363284721, 0.07929409875142751, 0.0792825781234916, 0.07927106174680645, 0.07925954961914061, 0.07924804173826402, 0.07923653810194825, 0.07922503870796636, 0.07921354355409282, 0.07920205263810373, 0.07919056595777661, 0.07917908351089052, 0.07916760529522603, 0.07915613130856515, 0.07914466154869149, 0.07913319601339004, 0.07912173470044741, 0.07911027760765159, 0.07909882473279212, 0.07908737607366005, 0.07907593162804788, 0.07906449139374964, 0.07905305536856085, 0.07904162355027845, 0.07903019593670094, 0.07901877252562826, 0.07900735331486189, 0.0789959383022047, 0.07898452748546117, 0.07897312086243713, 0.07896171843093998, 0.07895032018877852, 0.07893892613376313, 0.07892753626370558, 0.07891615057641914, 0.07890476906971856, 0.07889339174142006, 0.0788820185893413, 0.07887064961130145, 0.07885928480512118, 0.07884792416862249, 0.07883656769962902, 0.07882521539596575, 0.07881386725545915, 0.0788025232759372, 0.07879118345522929, 0.07877984779116627, 0.07876851628158052, 0.07875718892430572, 0.07874586571717723, 0.07873454665803163, 0.07872323174470713, 0.07871192097504331, 0.07870061434688123, 0.07868931185806337, 0.07867801350643368, 0.07866671928983754, 0.07865542920612181, 0.07864414325313479, 0.07863286142872615, 0.07862158373074711, 0.07861031015705024, 0.07859904070548965, 0.07858777537392078, 0.0785765141602006, 0.07856525706218744, 0.0785540040777411, 0.07854275520472286, 0.07853151044099536, 0.07852026978442268, 0.07850903323287034, 0.07849780078420536, 0.07848657243629609, 0.07847534818701234, 0.07846412803422535, 0.0784529119758078, 0.07844170000963374, 0.07843049213357874, 0.07841928834551971, 0.07840808864333497, 0.07839689302490432, 0.07838570148810897, 0.07837451403083147, 0.07836333065095588, 0.0783521513463676, 0.0783409761149535, 0.07832980495460183, 0.07831863786320224, 0.07830747483864588, 0.07829631587882514, 0.078285160981634, 0.07827401014496771, 0.07826286336672296, 0.07825172064479792, 0.07824058197709204, 0.07822944736150622, 0.07821831679594285, 0.07820719027830557, 0.07819606780649951, 0.07818494937843118, 0.07817383499200846, 0.07816272464514068, 0.07815161833573846, 0.07814051606171397, 0.0781294178209806, 0.0781183236114533, 0.07810723343104821, 0.078096147277683, 0.07808506514927675, 0.07807398704374982, 0.078062912959024, 0.07805184289302246, 0.07804077684366978, 0.07802971480889188, 0.07801865678661607, 0.07800760277477106, 0.07799655277128688, 0.07798550677409505, 0.07797446478112831, 0.07796342679032094, 0.07795239279960842, 0.07794136280692776, 0.07793033681021722, 0.07791931480741648, 0.07790829679646666, 0.07789728277531008, 0.07788627274189057, 0.07787526669415328, 0.07786426463004469, 0.07785326654751266, 0.07784227244450649, 0.07783128231897672, 0.07782029616887529, 0.07780931399215552, 0.0777983357867721, 0.07778736155068106, 0.07777639128183973, 0.07776542497820685, 0.07775446263774254, 0.07774350425840819, 0.07773254983816662, 0.07772159937498195, 0.07771065286681965, 0.07769971031164653, 0.07768877170743083, 0.07767783705214203, 0.07766690634375097, 0.07765597958022988, 0.07764505675955229, 0.0776341378796931, 0.07762322293862854, 0.07761231193433618, 0.07760140486479489, 0.07759050172798491, 0.07757960252188785, 0.07756870724448658, 0.07755781589376536, 0.07754692846770973, 0.07753604496430663, 0.07752516538154426, 0.07751428971741219, 0.0775034179699013, 0.07749255013700376, 0.0774816862167132, 0.07747082620702436, 0.07745997010593353, 0.07744911791143816, 0.0774382696215371, 0.07742742523423043, 0.07741658474751972, 0.07740574815940766, 0.0773949154678984, 0.07738408667099732, 0.07737326176671117, 0.07736244075304798, 0.07735162362801708, 0.07734081038962916, 0.07733000103589621, 0.07731919556483147, 0.07730839397444955, 0.07729759626276633, 0.07728680242779905, 0.07727601246756619, 0.07726522638008755, 0.07725444416338424, 0.0772436658154787, 0.07723289133439465, 0.0772221207181571, 0.07721135396479231, 0.07720059107232793, 0.0771898320387929, 0.07717907686221735, 0.07716832554063284, 0.07715757807207212, 0.07714683445456925, 0.07713609468615965, 0.07712535876487997, 0.07711462668876813, 0.07710389845586339, 0.07709317406420627, 0.0770824535118386, 0.07707173679680342, 0.07706102391714516, 0.07705031487090944, 0.07703960965614323, 0.07702890827089476, 0.07701821071321353, 0.07700751698115026, 0.07699682707275708]\n"
          ],
          "name": "stdout"
        }
      ]
    },
    {
      "cell_type": "code",
      "metadata": {
        "id": "ob2VlKikRZPk",
        "colab_type": "code",
        "colab": {
          "base_uri": "https://localhost:8080/",
          "height": 1000
        },
        "outputId": "bdfa61c6-f4ee-41c5-e17e-99fb467279e3"
      },
      "source": [
        "#adding bias variable\n",
        "xtest_new = np.concatenate((np.ones((len(x_test), 1), dtype=int), x_test), axis=1)\n",
        "\n",
        "def predict(theta,x_test):\n",
        "    y_head = 1 / (1 + np.exp(-np.matmul(x_test,theta)))\n",
        "    print(y_head)\n",
        "    y_prediction = np.zeros((x_test.shape[0],1))\n",
        "  \n",
        "    \n",
        "    for i in range(y_head.shape[0]):\n",
        "        if y_head[i,0] <= 0.3:\n",
        "            y_prediction[i,0] = 0\n",
        "        else:\n",
        "            y_prediction[i,0] = 1\n",
        "        \n",
        "    plt.plot(y_head)\n",
        "    print(y_prediction.shape)\n",
        "    return y_prediction\n",
        "\n",
        "  \n",
        "y_prediction = predict(theta,xtest_new)\n",
        "# print(y_prediction)\n",
        "print(\"Manual Test Accuracy: {:.2f}%\".format((100 - np.mean(np.abs(y_prediction - y_test))*100)))\n",
        "\n"
      ],
      "execution_count": null,
      "outputs": [
        {
          "output_type": "stream",
          "text": [
            "[[0.924468  ]\n",
            " [0.89984744]\n",
            " [0.95778476]\n",
            " [0.92368725]\n",
            " [0.94201151]\n",
            " [0.93159766]\n",
            " [0.92424379]\n",
            " [0.81600476]\n",
            " [0.94822921]\n",
            " [0.94069379]\n",
            " [0.77252919]\n",
            " [0.00843267]\n",
            " [0.87662439]\n",
            " [0.03375694]\n",
            " [0.00771424]\n",
            " [0.02420008]\n",
            " [0.81341711]\n",
            " [0.01714175]\n",
            " [0.34785835]\n",
            " [0.68057056]\n",
            " [0.02388549]\n",
            " [0.86418428]\n",
            " [0.89886633]\n",
            " [0.03965881]\n",
            " [0.01850539]\n",
            " [0.94154053]\n",
            " [0.93332298]\n",
            " [0.08795153]\n",
            " [0.00589753]\n",
            " [0.03310115]\n",
            " [0.95194132]\n",
            " [0.95936413]\n",
            " [0.00945142]\n",
            " [0.7893919 ]\n",
            " [0.01827775]\n",
            " [0.38485252]\n",
            " [0.02662403]\n",
            " [0.02515385]\n",
            " [0.71825727]\n",
            " [0.93591664]\n",
            " [0.1994471 ]\n",
            " [0.00963529]\n",
            " [0.05552044]\n",
            " [0.94511428]\n",
            " [0.02350138]\n",
            " [0.03125391]\n",
            " [0.01826044]\n",
            " [0.81373026]\n",
            " [0.61238276]\n",
            " [0.88161995]\n",
            " [0.03920561]\n",
            " [0.01288853]\n",
            " [0.00643745]\n",
            " [0.15653967]\n",
            " [0.00439293]\n",
            " [0.94363911]\n",
            " [0.00744097]\n",
            " [0.01733183]\n",
            " [0.01492936]\n",
            " [0.00940401]\n",
            " [0.00472618]]\n",
            "(61, 1)\n",
            "Manual Test Accuracy: 95.08%\n"
          ],
          "name": "stdout"
        },
        {
          "output_type": "display_data",
          "data": {
            "image/png": "[encoded data removed]",
            "text/plain": [
              "<Figure size 720x360 with 1 Axes>"
            ]
          },
          "metadata": {
            "tags": [],
            "needs_background": "light"
          }
        }
      ]
    },
    {
      "cell_type": "code",
      "metadata": {
        "id": "sknyppUrpFN5",
        "colab_type": "code",
        "colab": {
          "base_uri": "https://localhost:8080/",
          "height": 337
        },
        "outputId": "1bfbdf9d-47cd-448b-b012-8db11c112d71"
      },
      "source": [
        "#Confusion matrix visualized:\n",
        "from sklearn.metrics import confusion_matrix\n",
        "cf_matrix = confusion_matrix(y_test, y_prediction)\n",
        "\n",
        "sns.heatmap(cf_matrix, annot=True)"
      ],
      "execution_count": null,
      "outputs": [
        {
          "output_type": "execute_result",
          "data": {
            "text/plain": [
              "<matplotlib.axes._subplots.AxesSubplot at 0x7f5280914dd8>"
            ]
          },
          "metadata": {
            "tags": []
          },
          "execution_count": 253
        },
        {
          "output_type": "display_data",
          "data": {
            "image/png": "[encoded data removed]",
            "text/plain": [
              "<Figure size 720x360 with 2 Axes>"
            ]
          },
          "metadata": {
            "tags": [],
            "needs_background": "light"
          }
        }
      ]
    },
    {
      "cell_type": "code",
      "metadata": {
        "id": "kDmy_5ZGigR6",
        "colab_type": "code",
        "colab": {
          "base_uri": "https://localhost:8080/",
          "height": 173
        },
        "outputId": "75440c5e-9a8d-4363-9a32-de2b6aa6cb79"
      },
      "source": [
        "#Metrics based result\n",
        "from sklearn.metrics import classification_report\n",
        "print(classification_report(y_test, y_prediction))"
      ],
      "execution_count": null,
      "outputs": [
        {
          "output_type": "stream",
          "text": [
            "              precision    recall  f1-score   support\n",
            "\n",
            "           0       1.00      0.91      0.95        34\n",
            "           1       0.90      1.00      0.95        27\n",
            "\n",
            "    accuracy                           0.95        61\n",
            "   macro avg       0.95      0.96      0.95        61\n",
            "weighted avg       0.96      0.95      0.95        61\n",
            "\n"
          ],
          "name": "stdout"
        }
      ]
    },
    {
      "cell_type": "markdown",
      "metadata": {
        "id": "xwrdEOmOig81",
        "colab_type": "text"
      },
      "source": [
        "# ***LOGISTIC REGRESSION USING SKLEARN***"
      ]
    },
    {
      "cell_type": "code",
      "metadata": {
        "id": "MEzQm1Yec70g",
        "colab_type": "code",
        "colab": {
          "base_uri": "https://localhost:8080/",
          "height": 52
        },
        "outputId": "f4025000-16d3-4cef-b7e9-ffa63dc93e37"
      },
      "source": [
        "new_data2 = data\n",
        "\n",
        "# splitting the data into x and y \n",
        "x = new_data2.iloc[:,:-1].values\n",
        "y = new_data2.iloc[:,-1].values\n",
        "new_data2 = new_data2.drop('target', axis = 1)\n",
        "print(x.shape,y.shape)\n",
        "\n",
        "#Normalize\n",
        "# x = (x - np.min(x)) / (np.max(x) - np.min(x))\n",
        " \n",
        "# splitting the data into test set and train set\n",
        "from sklearn.model_selection import train_test_split\n",
        "\n",
        "x_train, x_test, y_train, y_test = train_test_split(x, y, test_size = 0.2, random_state = 0)\n",
        "\n",
        "print(x_train.shape, y_train.shape, x_test.shape, y_test.shape)\n"
      ],
      "execution_count": null,
      "outputs": [
        {
          "output_type": "stream",
          "text": [
            "(302, 18) (302,)\n",
            "(241, 18) (241,) (61, 18) (61,)\n"
          ],
          "name": "stdout"
        }
      ]
    },
    {
      "cell_type": "code",
      "metadata": {
        "id": "0GQlQe_Gc9wJ",
        "colab_type": "code",
        "colab": {
          "base_uri": "https://localhost:8080/",
          "height": 34
        },
        "outputId": "daf66893-2ea9-4d4b-c0c1-9d026ca68a72"
      },
      "source": [
        "from sklearn.linear_model import LogisticRegression\n",
        "lr = LogisticRegression()\n",
        "lr.fit(x_train,y_train)\n",
        "acc = lr.score(x_test,y_test)*100\n",
        "\n",
        "#accuracies['Logistic Regression'] = acc\n",
        "print(\"Test Accuracy {:.2f}%\".format(acc))"
      ],
      "execution_count": null,
      "outputs": [
        {
          "output_type": "stream",
          "text": [
            "Test Accuracy 96.72%\n"
          ],
          "name": "stdout"
        }
      ]
    },
    {
      "cell_type": "code",
      "metadata": {
        "id": "6TvTunO9l6Nv",
        "colab_type": "code",
        "colab": {
          "base_uri": "https://localhost:8080/",
          "height": 236
        },
        "outputId": "700cee59-070a-4691-e514-54af3fadcf49"
      },
      "source": [
        "#Confusion matrix visualized:\n",
        "from sklearn.metrics import confusion_matrix\n",
        "cf_matrix = confusion_matrix(y_test, y_pred)\n",
        "\n",
        "sns.heatmap(cf_matrix, annot=True)"
      ],
      "execution_count": null,
      "outputs": [
        {
          "output_type": "error",
          "ename": "NameError",
          "evalue": "ignored",
          "traceback": [
            "\u001b[0;31m---------------------------------------------------------------------------\u001b[0m",
            "\u001b[0;31mNameError\u001b[0m                                 Traceback (most recent call last)",
            "\u001b[0;32m<ipython-input-153-dba91a1b3787>\u001b[0m in \u001b[0;36m<module>\u001b[0;34m()\u001b[0m\n\u001b[1;32m      1\u001b[0m \u001b[0;31m#Confusion matrix visualized:\u001b[0m\u001b[0;34m\u001b[0m\u001b[0;34m\u001b[0m\u001b[0;34m\u001b[0m\u001b[0m\n\u001b[1;32m      2\u001b[0m \u001b[0;32mfrom\u001b[0m \u001b[0msklearn\u001b[0m\u001b[0;34m.\u001b[0m\u001b[0mmetrics\u001b[0m \u001b[0;32mimport\u001b[0m \u001b[0mconfusion_matrix\u001b[0m\u001b[0;34m\u001b[0m\u001b[0;34m\u001b[0m\u001b[0m\n\u001b[0;32m----> 3\u001b[0;31m \u001b[0mcf_matrix\u001b[0m \u001b[0;34m=\u001b[0m \u001b[0mconfusion_matrix\u001b[0m\u001b[0;34m(\u001b[0m\u001b[0my_test\u001b[0m\u001b[0;34m,\u001b[0m \u001b[0my_pred\u001b[0m\u001b[0;34m)\u001b[0m\u001b[0;34m\u001b[0m\u001b[0;34m\u001b[0m\u001b[0m\n\u001b[0m\u001b[1;32m      4\u001b[0m \u001b[0;34m\u001b[0m\u001b[0m\n\u001b[1;32m      5\u001b[0m \u001b[0msns\u001b[0m\u001b[0;34m.\u001b[0m\u001b[0mheatmap\u001b[0m\u001b[0;34m(\u001b[0m\u001b[0mcf_matrix\u001b[0m\u001b[0;34m,\u001b[0m \u001b[0mannot\u001b[0m\u001b[0;34m=\u001b[0m\u001b[0;32mTrue\u001b[0m\u001b[0;34m)\u001b[0m\u001b[0;34m\u001b[0m\u001b[0;34m\u001b[0m\u001b[0m\n",
            "\u001b[0;31mNameError\u001b[0m: name 'y_pred' is not defined"
          ]
        }
      ]
    },
    {
      "cell_type": "code",
      "metadata": {
        "id": "jxnNfMg9l6sW",
        "colab_type": "code",
        "colab": {}
      },
      "source": [
        ""
      ],
      "execution_count": null,
      "outputs": []
    },
    {
      "cell_type": "markdown",
      "metadata": {
        "id": "sJldI-g0Si1J",
        "colab_type": "text"
      },
      "source": [
        "# ***LOGISTIC REGRESSION USING LOG LIKELIHOOD CONCEPT***\n"
      ]
    },
    {
      "cell_type": "code",
      "metadata": {
        "id": "UkLwrdkcNlnA",
        "colab_type": "code",
        "colab": {}
      },
      "source": [
        "def loglikelihood(y,pi):\n",
        "\n",
        "  ll=1\n",
        "  ll_unit = list(range(1,len(y)+1))\n",
        "  \n",
        "  for i in range(len(y)):\n",
        "    ll_unit[i] = np.where(y[i]==1,pi[i],(1-pi[i]))\n",
        "    ll=ll*ll_unit[i]\n",
        "  \n",
        "  return ll\n",
        "\n"
      ],
      "execution_count": null,
      "outputs": []
    },
    {
      "cell_type": "code",
      "metadata": {
        "id": "ouriMv7MOMg_",
        "colab_type": "code",
        "colab": {}
      },
      "source": [
        "#Calculate the first derivative of likelihood function given output (y) , input (x) and pi (estimated probability)\n",
        "\n",
        "def calculatefirstder(y,x,pi):\n",
        "  derv - y*x - pi*x\n",
        "  derv_sum = sum(derv)\n",
        "\n",
        "  return derv_sum\n"
      ],
      "execution_count": null,
      "outputs": []
    },
    {
      "cell_type": "code",
      "metadata": {
        "id": "TU9fdSj-Okuf",
        "colab_type": "code",
        "colab": {}
      },
      "source": [
        "#Calculate the value of pi (predictions on each observation) given x_new(input) and estimated betas\n",
        "\n",
        "# P = odds/ 1 + odds\n",
        "# and logs(odds) = bo*xo + b1*x1 + b2*x2.....\n",
        "# therefore P = exp(log(odds)) / 1 + exp(log(odds))\n",
        "#            = exp(bo*xo + b1*x1 + b2*x2) / 1 + exp(bo*xo + b1*x1 + b2*x2)\n",
        "\n",
        "# which is what we are doing in the below func\n",
        "\n",
        "def logitprob(x,theta):\n",
        "\n",
        "  rows=np.shape(x)[0]\n",
        "  cols=np.shape(x)[1]\n",
        "  pi=range(1,rows+1)\n",
        "  expon=range(1,rows+1)\n",
        "  for i in range(rows):\n",
        "      expon[i]=0\n",
        "      for j in range(cols):             # bo*xo + b1*x1 + b2*x2....... for each training example\n",
        "          ex = x[i][j]*theta[j]          \n",
        "          expon[i] = ex + expon[i]      # expon[i] stores bo*xo + b1*x1 + b2*x2....... for each training example\n",
        "     \n",
        "      with np.errstate(divide='ignore',invalid= 'ignore'):\n",
        "        pi[i]=np.exp(expon[i])/(1+np.exp(expon[i]))\n",
        "  return pi"
      ],
      "execution_count": null,
      "outputs": []
    },
    {
      "cell_type": "code",
      "metadata": {
        "id": "KlyZxEXjRaJA",
        "colab_type": "code",
        "colab": {}
      },
      "source": [
        "# Step 3: Calculate the W diagonal matrix\n",
        "def findW(pi):\n",
        "\n",
        "  W=np.zeros(len(pi)*len(pi)).reshape(len(pi),len(pi))\n",
        "  for i in range(len(pi)):\n",
        "    print(i)\n",
        "    W[i,i]=pi[i]*(1-pi[i])\n",
        "    W[i,i].astype(float)\n",
        "  return W"
      ],
      "execution_count": null,
      "outputs": []
    },
    {
      "cell_type": "code",
      "metadata": {
        "id": "Des3qGUiR4m9",
        "colab_type": "code",
        "colab": {}
      },
      "source": [
        "# Step 4: defining the logistic function\n",
        "  from numpy import linalg\n",
        "def logistic(X,Y,limit):\n",
        "  nrow=np.shape(X)[0]\n",
        "  bias=np.ones(nrow).reshape(nrow,1)\n",
        "  X_new=np.append(X,bias,axis=1)\n",
        "  ncol=np.shape(X_new)[1]\n",
        "  beta=np.zeros(ncol).reshape(ncol,1)\n",
        "  root_diff=np.array(range(1,ncol+1)).reshape(ncol,1)\n",
        "  iter_i=10000\n",
        "  \n",
        "  while(iter_i>limit):\n",
        "    print iter_i, limit\n",
        "    pi=logitprob(X_new,beta)\n",
        "    print pi\n",
        "    W=findW(pi)\n",
        "    print W\n",
        "    print X_new\n",
        "    print (Y-np.transpose(pi))\n",
        "    print np.array((linalg.inv(np.matrix(np.transpose(X_new))*np.matrix(W)*np.matrix(X_new)))*(np.transpose(np.matrix(X_new))*np.matrix(Y-np.transpose(pi)).transpose()))\n",
        "    print beta\n",
        "    print type(np.matrix(np.transpose(Y-np.transpose(pi))))\n",
        "    print np.matrix(Y-np.transpose(pi)).transpose().shape\n",
        "    print np.matrix(np.transpose(X_new)).shape\n",
        "    root_diff=np.array((linalg.inv(np.matrix(np.transpose(X_new))*np.matrix(W)*np.matrix(X_new)))*(np.transpose(np.matrix(X_new))*np.matrix(Y-np.transpose(pi)).transpose()))\n",
        "    beta=beta+root_diff\n",
        "    iter_i=np.sum(root_diff*root_diff)\n",
        "    ll=likelihood(Y,pi)\n",
        "\n",
        "return beta"
      ],
      "execution_count": null,
      "outputs": []
    }
  ]
}