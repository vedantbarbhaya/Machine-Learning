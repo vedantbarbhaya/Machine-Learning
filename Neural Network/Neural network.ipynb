{
  "nbformat": 4,
  "nbformat_minor": 0,
  "metadata": {
    "colab": {
      "name": "NN_code1.ipynb",
      "provenance": [],
      "collapsed_sections": [
        "Z6Eq_2JOTK2j",
        "6AjHDZQpv_SO",
        "zsmvsiFe9aoz",
        "HEPHiK2zOQw1",
        "M0gYYYno7Ewq",
        "65dJROzH7gW5",
        "f1mVkS5U8IA_",
        "kEKpGRlRsOoA",
        "WEX2l036nbV6",
        "RQZQORnb3zbF",
        "wZMcgO4QR_bW"
      ],
      "toc_visible": true
    },
    "kernelspec": {
      "name": "python3",
      "display_name": "Python 3"
    }
  },
  "cells": [
    {
      "cell_type": "markdown",
      "metadata": {
        "id": "Z6Eq_2JOTK2j"
      },
      "source": [
        "## BASIC PREPROCESSING"
      ]
    },
    {
      "cell_type": "code",
      "metadata": {
        "id": "9gcQJKI0OT76"
      },
      "source": [
        "import pandas as pd\n",
        "import numpy as np"
      ],
      "execution_count": null,
      "outputs": []
    },
    {
      "cell_type": "markdown",
      "metadata": {
        "id": "gX-FjuQtk4Rk"
      },
      "source": [
        ""
      ]
    },
    {
      "cell_type": "code",
      "metadata": {
        "id": "BRO3IPTbOYd6"
      },
      "source": [
        "data = pd.read_csv(\"Iris.csv\")"
      ],
      "execution_count": null,
      "outputs": []
    },
    {
      "cell_type": "code",
      "metadata": {
        "colab": {
          "base_uri": "https://localhost:8080/"
        },
        "id": "ba0b2v62O_5N",
        "outputId": "ea412690-7015-4769-841f-062a98fb2864"
      },
      "source": [
        "data.head(30)\n",
        "data = data.sample(frac=1).reset_index(drop=True) # Shuffle\n",
        "data.head()"
      ],
      "execution_count": null,
      "outputs": [
        {
          "output_type": "execute_result",
          "data": {
            "text/html": [
              "<div>\n",
              "<style scoped>\n",
              "    .dataframe tbody tr th:only-of-type {\n",
              "        vertical-align: middle;\n",
              "    }\n",
              "\n",
              "    .dataframe tbody tr th {\n",
              "        vertical-align: top;\n",
              "    }\n",
              "\n",
              "    .dataframe thead th {\n",
              "        text-align: right;\n",
              "    }\n",
              "</style>\n",
              "<table border=\"1\" class=\"dataframe\">\n",
              "  <thead>\n",
              "    <tr style=\"text-align: right;\">\n",
              "      <th></th>\n",
              "      <th>Id</th>\n",
              "      <th>SepalLengthCm</th>\n",
              "      <th>SepalWidthCm</th>\n",
              "      <th>PetalLengthCm</th>\n",
              "      <th>PetalWidthCm</th>\n",
              "      <th>Species</th>\n",
              "    </tr>\n",
              "  </thead>\n",
              "  <tbody>\n",
              "    <tr>\n",
              "      <th>0</th>\n",
              "      <td>14</td>\n",
              "      <td>4.3</td>\n",
              "      <td>3.0</td>\n",
              "      <td>1.1</td>\n",
              "      <td>0.1</td>\n",
              "      <td>Iris-setosa</td>\n",
              "    </tr>\n",
              "    <tr>\n",
              "      <th>1</th>\n",
              "      <td>7</td>\n",
              "      <td>4.6</td>\n",
              "      <td>3.4</td>\n",
              "      <td>1.4</td>\n",
              "      <td>0.3</td>\n",
              "      <td>Iris-setosa</td>\n",
              "    </tr>\n",
              "    <tr>\n",
              "      <th>2</th>\n",
              "      <td>75</td>\n",
              "      <td>6.4</td>\n",
              "      <td>2.9</td>\n",
              "      <td>4.3</td>\n",
              "      <td>1.3</td>\n",
              "      <td>Iris-versicolor</td>\n",
              "    </tr>\n",
              "    <tr>\n",
              "      <th>3</th>\n",
              "      <td>137</td>\n",
              "      <td>6.3</td>\n",
              "      <td>3.4</td>\n",
              "      <td>5.6</td>\n",
              "      <td>2.4</td>\n",
              "      <td>Iris-virginica</td>\n",
              "    </tr>\n",
              "    <tr>\n",
              "      <th>4</th>\n",
              "      <td>108</td>\n",
              "      <td>7.3</td>\n",
              "      <td>2.9</td>\n",
              "      <td>6.3</td>\n",
              "      <td>1.8</td>\n",
              "      <td>Iris-virginica</td>\n",
              "    </tr>\n",
              "  </tbody>\n",
              "</table>\n",
              "</div>"
            ],
            "text/plain": [
              "    Id  SepalLengthCm  ...  PetalWidthCm          Species\n",
              "0   14            4.3  ...           0.1      Iris-setosa\n",
              "1    7            4.6  ...           0.3      Iris-setosa\n",
              "2   75            6.4  ...           1.3  Iris-versicolor\n",
              "3  137            6.3  ...           2.4   Iris-virginica\n",
              "4  108            7.3  ...           1.8   Iris-virginica\n",
              "\n",
              "[5 rows x 6 columns]"
            ]
          },
          "metadata": {
            "tags": []
          },
          "execution_count": 3
        }
      ]
    },
    {
      "cell_type": "code",
      "metadata": {
        "id": "Dkct5e92voQu"
      },
      "source": [
        ""
      ],
      "execution_count": null,
      "outputs": []
    },
    {
      "cell_type": "markdown",
      "metadata": {
        "id": "j5zHLUaBNsCe"
      },
      "source": [
        "creating a numpy array of dependent variables from the dataframe"
      ]
    },
    {
      "cell_type": "code",
      "metadata": {
        "colab": {
          "base_uri": "https://localhost:8080/"
        },
        "id": "_heEN0nkPPhE",
        "outputId": "a239ffe0-90ac-4775-df80-a651bf0d42e6"
      },
      "source": [
        "X = data[['SepalLengthCm', 'SepalWidthCm', 'PetalLengthCm', 'PetalWidthCm']]\n",
        "X = np.array(X)\n",
        "print(X[:5])"
      ],
      "execution_count": null,
      "outputs": [
        {
          "output_type": "stream",
          "text": [
            "[[4.3 3.  1.1 0.1]\n",
            " [4.6 3.4 1.4 0.3]\n",
            " [6.4 2.9 4.3 1.3]\n",
            " [6.3 3.4 5.6 2.4]\n",
            " [7.3 2.9 6.3 1.8]]\n"
          ],
          "name": "stdout"
        }
      ]
    },
    {
      "cell_type": "code",
      "metadata": {
        "id": "sfvfOLseQMt0"
      },
      "source": [
        ""
      ],
      "execution_count": null,
      "outputs": []
    },
    {
      "cell_type": "markdown",
      "metadata": {
        "id": "eBr3vHsYQMM8"
      },
      "source": [
        "*we need to convert classes from categorical ('Setosa', 'Versicolor', 'Virginica') to numerical (0, 1, 2) and then to one-hot encoded ([1, 0, 0], [0, 1, 0], [0, 0, 1]). A class in one-hot encoded form is an array of 0s (a 0 for each different class) with one element equal to 1 in the index of the class (if the value of the class is 3, index 3 of the one-hot array will be equal to 1).*"
      ]
    },
    {
      "cell_type": "code",
      "metadata": {
        "colab": {
          "base_uri": "https://localhost:8080/"
        },
        "id": "IQ0LvLCiP7Jo",
        "outputId": "2565d0ce-ba80-40fa-88d4-7683a4836adf"
      },
      "source": [
        "from sklearn.preprocessing import OneHotEncoder\n",
        "one_hot_encoder = OneHotEncoder(sparse=False)\n",
        "\n",
        "Y = data[\"Species\"]\n",
        "\n",
        "# need to reshape Y in a vector form\n",
        "Y = np.array(Y).reshape(150, 1)\n",
        "print(Y.shape)\n",
        "\n",
        "# encoding the categorical variables\n",
        "Y = one_hot_encoder.fit_transform(Y)\n",
        "print(Y[:5])"
      ],
      "execution_count": null,
      "outputs": [
        {
          "output_type": "stream",
          "text": [
            "(150, 1)\n",
            "[[1. 0. 0.]\n",
            " [1. 0. 0.]\n",
            " [0. 1. 0.]\n",
            " [0. 0. 1.]\n",
            " [0. 0. 1.]]\n"
          ],
          "name": "stdout"
        }
      ]
    },
    {
      "cell_type": "code",
      "metadata": {
        "id": "XO0DO0jBvoQ-"
      },
      "source": [
        ""
      ],
      "execution_count": null,
      "outputs": []
    },
    {
      "cell_type": "markdown",
      "metadata": {
        "id": "QfkEs1jbN2z0"
      },
      "source": [
        "*Splitting data into train/ validation / test using sklearn. \n",
        "Initially the data will be split into train/test and then the training data will be further split into train/validation.*\n"
      ]
    },
    {
      "cell_type": "code",
      "metadata": {
        "id": "crWoiwrSQkij"
      },
      "source": [
        "from sklearn.model_selection import train_test_split\n",
        "\n",
        "# creating test and train split from original data\n",
        "X_train, X_test, Y_train, Y_test = train_test_split(X, Y, test_size=0.15)\n",
        "# creating train and validation split from train data\n",
        "X_train, X_val, Y_train, Y_val = train_test_split(X_train, Y_train, test_size=0.1)"
      ],
      "execution_count": null,
      "outputs": []
    },
    {
      "cell_type": "code",
      "metadata": {
        "colab": {
          "base_uri": "https://localhost:8080/"
        },
        "id": "A8k-gp8Kuq9z",
        "outputId": "8eb05c68-f524-4f23-9e1a-f127e7abca59"
      },
      "source": [
        "X_train.shape"
      ],
      "execution_count": null,
      "outputs": [
        {
          "output_type": "execute_result",
          "data": {
            "text/plain": [
              "(114, 4)"
            ]
          },
          "metadata": {
            "tags": []
          },
          "execution_count": 7
        }
      ]
    },
    {
      "cell_type": "code",
      "metadata": {
        "colab": {
          "base_uri": "https://localhost:8080/"
        },
        "id": "sDZZSzUtuu_3",
        "outputId": "9f214c98-b823-4afc-c605-cb95206f3377"
      },
      "source": [
        "Y_train.shape"
      ],
      "execution_count": null,
      "outputs": [
        {
          "output_type": "execute_result",
          "data": {
            "text/plain": [
              "(114, 3)"
            ]
          },
          "metadata": {
            "tags": []
          },
          "execution_count": 8
        }
      ]
    },
    {
      "cell_type": "markdown",
      "metadata": {
        "id": "2QvfHUrcu1q3"
      },
      "source": [
        "TRANSPOSING X_train and Y_train for matrix mutliplication purposes"
      ]
    },
    {
      "cell_type": "code",
      "metadata": {
        "id": "1VVGpsrFuvWv"
      },
      "source": [
        "X_train_new = X_train.T\n",
        "Y_train_new = Y_train.T"
      ],
      "execution_count": null,
      "outputs": []
    },
    {
      "cell_type": "code",
      "metadata": {
        "id": "ASrVA3p0vNO-"
      },
      "source": [
        ""
      ],
      "execution_count": null,
      "outputs": []
    },
    {
      "cell_type": "markdown",
      "metadata": {
        "id": "6AjHDZQpv_SO"
      },
      "source": [
        "## Implemention of NN\n"
      ]
    },
    {
      "cell_type": "markdown",
      "metadata": {
        "id": "zsmvsiFe9aoz"
      },
      "source": [
        "### sigmoid and sigmoid derivative"
      ]
    },
    {
      "cell_type": "code",
      "metadata": {
        "id": "UIIEN9LB9abG"
      },
      "source": [
        "\n",
        "def Sigmoid(x):\n",
        "    \n",
        "    return 1.0 / (1.0 + np.exp(-x))\n",
        "\n",
        "def Sigmoid_Derivative(x):\n",
        "    return np.multiply(Sigmoid(x),1-Sigmoid(x))\n",
        "\n"
      ],
      "execution_count": null,
      "outputs": []
    },
    {
      "cell_type": "markdown",
      "metadata": {
        "id": "HEPHiK2zOQw1"
      },
      "source": [
        "###  Initialize weights function"
      ]
    },
    {
      "cell_type": "code",
      "metadata": {
        "id": "e8IpXcLcUEFW"
      },
      "source": [
        "def InitializeWeights(nodes,i):\n",
        "  # included the bias element of each layer in the weights for that layer\n",
        "    layers = len(nodes) + 1\n",
        "    \n",
        "    neuron_l = nodes[i]\n",
        "    neuron_l_plus_one = nodes[i+1]\n",
        "\n",
        "\n",
        "    # normal uniform initialization\n",
        "    # w0 =  [[np.random.uniform(-1,1) for k in range(neuron_l)] for j in range(nodes[i+1])]\n",
        "    \n",
        "  \n",
        "    # using HE initialization to initialize weights\n",
        "    # To read more on initialization techniques: https://towardsdatascience.com/weight-initialization-techniques-in-neural-networks-26c649eb3b78\n",
        "    weight =  [[np.random.uniform(-1,1) * np.sqrt(2/nodes[i]) for k in range(neuron_l+1)] for j in range(neuron_l_plus_one)]\n",
        "    weight = np.array(weight)\n",
        "    return weight\n",
        "\n",
        "\n",
        "#def InitializeBiases(nodes,i):\n",
        "#\n",
        "#    bias = np.zeros((1,nodes[i]))\n",
        "#    bias = np.array(bias)\n",
        "#    return bias\n",
        "\n",
        "#PREPROCESSING\n",
        "#nodes = [4,2,2,1]\n",
        "#w1 = InitializeWeights(nodes,0)\n",
        "#w2 = InitializeWeights(nodes,1)\n",
        "#w3 = InitializeWeights(nodes,2)\n",
        "#weights = [w1, w2, w3]\n",
        "\n",
        "\n",
        "\n"
      ],
      "execution_count": null,
      "outputs": []
    },
    {
      "cell_type": "markdown",
      "metadata": {
        "id": "M0gYYYno7Ewq"
      },
      "source": [
        "### cost computation"
      ]
    },
    {
      "cell_type": "code",
      "metadata": {
        "id": "ixvyb-J83zsJ"
      },
      "source": [
        "def cost_compute(X_train,Y_train,weights,lambda_,activations):\n",
        "      m = Y_train.size  \n",
        "      temp1 = weights[\"w\"+str(1)]\n",
        "      temp2 = weights[\"w\"+str(2)]\n",
        "      temp3 = weights[\"w\"+str(3)]\n",
        "    \n",
        "      a1 = activations[0]\n",
        "      a2 = activations[1]\n",
        "      a3 = activations[2]\n",
        "      a4 = activations[3]\n",
        "\n",
        "    \n",
        "\n",
        "      # Add regularization term\n",
        "      reg_term = (lambda_ / (2 * m)) * (np.sum(np.square(temp1[:, 1:])) + np.sum(np.square(temp2[:, 1:])) + np.sum(np.square(temp3[:, 1:])) ) \n",
        "    \n",
        "      # log loss calc\n",
        "      J = (-1 / m) * np.sum((np.log(a4) * Y_train) + np.log(1 - a4) * (1 - Y_train)) + reg_term\n",
        "\n",
        "      return J\n"
      ],
      "execution_count": null,
      "outputs": []
    },
    {
      "cell_type": "markdown",
      "metadata": {
        "id": "65dJROzH7gW5"
      },
      "source": [
        "### forward propogation\n"
      ]
    },
    {
      "cell_type": "code",
      "metadata": {
        "id": "o5NxwxzJ7kG4"
      },
      "source": [
        "def forward_prop(X_train,Y_train,weights,m):\n",
        "\n",
        "\n",
        "    # since weights has the bias term, we need to add the bias in the input layer -> X_train\n",
        "    a1 = np.concatenate([np.ones((m, 1)), X_train], axis=1)\n",
        "    \n",
        "    # activation for hidden layer 1\n",
        "    a2 = Sigmoid(a1.dot(weights[\"w\"+str(1)].T))\n",
        "    # concatenating bias in hidden layer 1\n",
        "    a2 = np.concatenate([np.ones((a2.shape[0],1)),a2],axis = 1)\n",
        "\n",
        "   \n",
        "    # activation for hidden layer 2\n",
        "    a3 = Sigmoid(a2.dot(weights[\"w\"+str(2)].T))\n",
        "    # concatenating bias in hidden layer 2\n",
        "    a3 = np.concatenate([np.ones((a3.shape[0],1)),a3],axis = 1)\n",
        "\n",
        "    # activation for output layer\n",
        "    a4 = Sigmoid(a3.dot(weights[\"w\"+str(3)].T))\n",
        "\n",
        "    return [a1,a2,a3,a4]\n"
      ],
      "execution_count": null,
      "outputs": []
    },
    {
      "cell_type": "markdown",
      "metadata": {
        "id": "f1mVkS5U8IA_"
      },
      "source": [
        "### back propogation"
      ]
    },
    {
      "cell_type": "code",
      "metadata": {
        "id": "zjgdk6S38LDq"
      },
      "source": [
        "def back_prop(Y_train, weights,activations,m,lambda_,lr):\n",
        "\n",
        "    Theta1_grad = np.zeros(weights[\"w\"+str(1)].shape)\n",
        "    Theta2_grad = np.zeros(weights[\"w\"+str(2)].shape)\n",
        "    Theta3_grad = np.zeros(weights[\"w\"+str(3)].shape)\n",
        "    \n",
        "    a1 = activations[0]\n",
        "    a2 = activations[1]\n",
        "    a3 = activations[2]\n",
        "    a4 = activations[3] \n",
        "\n",
        "    error_4 =  a4 - Y_train  # error for output layer(l = 4)\n",
        "    error_3 =  np.dot(error_4,weights[\"w\"+str(3)])[:, 1:] * Sigmoid_Derivative(np.dot(a2,weights[\"w\"+str(2)].T))  # error for 2nd hidden layer (l = 3)\n",
        "    error_2 =  np.dot(error_3,weights[\"w\"+str(2)])[:, 1:] * Sigmoid_Derivative(np.dot(a1,weights[\"w\"+str(1)].T))  # error for 2nd hidden layer (l = 2)\n",
        "\n",
        "    D3 = np.dot(error_4.T , a3)\n",
        "    D2 = np.dot(error_3.T , a2)\n",
        "    D1 = np.dot(error_2.T , a1)\n",
        "    \n",
        "    \n",
        "    # Add regularization to gradient\n",
        "\n",
        "     # for the bias element we do not add the derivative of regularizer\n",
        "    Theta1_grad = (1 / m) * D1\n",
        "    Theta2_grad = (1 / m) * D2\n",
        "    Theta3_grad = (1 / m) * D3\n",
        "    \n",
        "    # for all other elements other than the bias term we need to add the derivative of regularizer\n",
        "    Theta1_grad[:, 1:] = Theta1_grad[:, 1:] + (lambda_ / m) * weights[\"w\"+str(1)][:, 1:]\n",
        "    Theta2_grad[:, 1:] = Theta2_grad[:, 1:] + (lambda_ / m) * weights[\"w\"+str(2)][:, 1:]\n",
        "    Theta3_grad[:, 1:] = Theta3_grad[:, 1:] + (lambda_ / m) * weights[\"w\"+str(3)][:, 1:]\n",
        "\n",
        "\n",
        "\n",
        "\n",
        "    # updating weights\n",
        "    weights[\"w\"+str(1)] -= lr*Theta1_grad\n",
        "    weights[\"w\"+str(2)] -= lr*Theta2_grad\n",
        "    weights[\"w\"+str(3)] -= lr*Theta3_grad\n",
        "\n",
        "\n",
        "\n",
        "    #grad = [Theta1_grad, Theta2_grad , Theta3_grad]\n",
        "\n",
        "    return weights"
      ],
      "execution_count": null,
      "outputs": []
    },
    {
      "cell_type": "markdown",
      "metadata": {
        "id": "kEKpGRlRsOoA"
      },
      "source": [
        "### Prediction function:"
      ]
    },
    {
      "cell_type": "code",
      "metadata": {
        "id": "IcSdi7qOsXJi"
      },
      "source": [
        "def Predict(example,y,weights):\n",
        "    \n",
        "    ##_Forward Propagation_##\n",
        "    #print(\"example\", example)\n",
        "    m = 1\n",
        "    try:\n",
        "        m = y.shape[0]\n",
        "    except:\n",
        "      continue\n",
        "\n",
        "    activations = forward_prop(example,y, weights,m)\n",
        "    \n",
        "    outputFinal = activations[-1]\n",
        "    #print(\"output final\",outputFinal)\n",
        "\n",
        "    predicted_op = [0.0,0.0,0.0]\n",
        "    predicted_op[np.argmax(outputFinal)] = 1.0\n",
        "\n",
        "    return np.array(predicted_op) # Return prediction vector\n",
        "\n"
      ],
      "execution_count": null,
      "outputs": []
    },
    {
      "cell_type": "markdown",
      "metadata": {
        "id": "WEX2l036nbV6"
      },
      "source": [
        "### Function to calculate accuracy of the neural net"
      ]
    },
    {
      "cell_type": "code",
      "metadata": {
        "id": "XilqC-eMnaoC"
      },
      "source": [
        "def Accuracy(X, Y, weights):\n",
        "    \"\"\"Run set through network, find overall accuracy\"\"\"\n",
        "    correct = 0\n",
        "\n",
        "    for i in range(len(X)):\n",
        "        x, y = X[i], list(Y[i])\n",
        "        \n",
        "        x = np.reshape(x,(1,x.shape[0]))\n",
        "        y = np.array(y)\n",
        "        y = np.reshape(y,(y.shape[0],1))\n",
        " \n",
        "        guess = Predict(x,y, weights)\n",
        "        guess = np.reshape(guess,(guess.shape[0],1))\n",
        "\n",
        "        #print(\"y\",y)\n",
        "        #print(\"guess\",guess)\n",
        "        \n",
        "        flag = 0\n",
        "        for i in range(len(y)):\n",
        "            if(y[i] != guess[i]):\n",
        "              flag = 1\n",
        "\n",
        "        if flag == 0:\n",
        "          correct += 1\n",
        "\n",
        "    print(\"correct\",correct)\n",
        "    acc = str((correct / len(X)) * 100) + \"%\"\n",
        "    return acc\n",
        "\n"
      ],
      "execution_count": null,
      "outputs": []
    },
    {
      "cell_type": "markdown",
      "metadata": {
        "id": "RQZQORnb3zbF"
      },
      "source": [
        "### Driver Function\n"
      ]
    },
    {
      "cell_type": "code",
      "metadata": {
        "id": "jcCEJNmvTEe5"
      },
      "source": [
        "#nodes = [4,3,3,3]\n",
        "from collections import defaultdict\n",
        "import matplotlib.pyplot as plt\n",
        "\n",
        "def Driver(X_train,Y_train,nodes, X_val = None, Y_val = None, lambda_ = 0.0, lr = 0.15,epochs=10):\n",
        "\n",
        "   \n",
        "\n",
        "    ip_layer_n = X_train.shape[1]\n",
        "    op_layer_n = Y_train.shape[1]\n",
        "\n",
        "    total_layers = len(nodes) + 2\n",
        "    nodes = [ip_layer_n] + nodes + [op_layer_n]\n",
        "\n",
        "    weights = defaultdict(list)\n",
        "    weights[\"w\"+str(1)] = InitializeWeights(nodes,0)\n",
        "    weights[\"w\"+str(2)] = InitializeWeights(nodes,1)\n",
        "    weights[\"w\"+str(3)] = InitializeWeights(nodes,2)\n",
        "\n",
        "    cost = []\n",
        "    for epoch in range(1,epochs+1):\n",
        "\n",
        "        # forward propogation\n",
        "        m = Y_train.shape[0]\n",
        "        activations = forward_prop(X_train,Y_train,weights,m)\n",
        "\n",
        "\n",
        "        # computing cost\n",
        "        \n",
        "        J = cost_compute(X_train,Y_train,weights,lambda_,activations)\n",
        "        cost.append(J)\n",
        "        # Backpropogation\n",
        "        m = Y_train.shape[0]\n",
        "        weights = back_prop(Y_train,weights,activations,m,lambda_,lr)\n",
        "\n",
        "\n",
        "        # printing accuracy every 10 iterations\n",
        "        if(epoch % 500 == 0):\n",
        "            print(\"Epoch {}\".format(epoch))\n",
        "            print(\"Training Accuracy:{}\".format(Accuracy(X_train, Y_train, weights)))\n",
        "            if X_val.any():\n",
        "                print(\"Validation Accuracy:{}\".format(Accuracy(X_val, Y_val, weights)))\n",
        "\n",
        "    #Plotting cost function vs epochs\n",
        "    plt.plot(list(range(epochs)), cost)\n",
        "    plt.title(\"Cost function vs epochs\")\n",
        "    plt.xlabel(\"epochs\")\n",
        "    plt.ylabel(\"J - cost function\")\n",
        "    plt.show()\n",
        "\n",
        "\n",
        "    return weights\n",
        "  \n"
      ],
      "execution_count": null,
      "outputs": []
    },
    {
      "cell_type": "code",
      "metadata": {
        "colab": {
          "base_uri": "https://localhost:8080/",
          "height": 1000
        },
        "id": "82pdgpekfu3e",
        "outputId": "f57cd9d2-3192-4abc-94ad-b414cf8014ee"
      },
      "source": [
        " nodes = [2,4]\n",
        " weights = Driver(X_train,Y_train,nodes, X_val, Y_val,lambda_=0.6 ,lr=0.15,epochs=5000)\n",
        " "
      ],
      "execution_count": null,
      "outputs": [
        {
          "output_type": "stream",
          "text": [
            "Epoch 500\n",
            "correct 79\n",
            "Training Accuracy:69.2982456140351%\n",
            "correct 9\n",
            "Validation Accuracy:69.23076923076923%\n",
            "Epoch 1000\n",
            "correct 79\n",
            "Training Accuracy:69.2982456140351%\n",
            "correct 9\n",
            "Validation Accuracy:69.23076923076923%\n",
            "Epoch 1500\n",
            "correct 82\n",
            "Training Accuracy:71.9298245614035%\n",
            "correct 10\n",
            "Validation Accuracy:76.92307692307693%\n",
            "Epoch 2000\n",
            "correct 94\n",
            "Training Accuracy:82.45614035087719%\n",
            "correct 11\n",
            "Validation Accuracy:84.61538461538461%\n",
            "Epoch 2500\n",
            "correct 104\n",
            "Training Accuracy:91.22807017543859%\n",
            "correct 12\n",
            "Validation Accuracy:92.3076923076923%\n",
            "Epoch 3000\n",
            "correct 111\n",
            "Training Accuracy:97.36842105263158%\n",
            "correct 13\n",
            "Validation Accuracy:100.0%\n",
            "Epoch 3500\n",
            "correct 110\n",
            "Training Accuracy:96.49122807017544%\n",
            "correct 13\n",
            "Validation Accuracy:100.0%\n",
            "Epoch 4000\n",
            "correct 110\n",
            "Training Accuracy:96.49122807017544%\n",
            "correct 13\n",
            "Validation Accuracy:100.0%\n",
            "Epoch 4500\n",
            "correct 110\n",
            "Training Accuracy:96.49122807017544%\n",
            "correct 13\n",
            "Validation Accuracy:100.0%\n",
            "Epoch 5000\n",
            "correct 110\n",
            "Training Accuracy:96.49122807017544%\n",
            "correct 13\n",
            "Validation Accuracy:100.0%\n"
          ],
          "name": "stdout"
        },
        {
          "output_type": "display_data",
          "data": {
            "image/png": "[encoded data removed]",
            "text/plain": [
              "<Figure size 432x288 with 1 Axes>"
            ]
          },
          "metadata": {
            "tags": [],
            "needs_background": "light"
          }
        }
      ]
    },
    {
      "cell_type": "code",
      "metadata": {
        "id": "yWePt_oNR-vN"
      },
      "source": [
        ""
      ],
      "execution_count": null,
      "outputs": []
    },
    {
      "cell_type": "markdown",
      "metadata": {
        "id": "wZMcgO4QR_bW"
      },
      "source": [
        "#### Testing on test data"
      ]
    },
    {
      "cell_type": "code",
      "metadata": {
        "colab": {
          "base_uri": "https://localhost:8080/",
          "height": 53
        },
        "id": "f-eYBliio8X3",
        "outputId": "1c841113-f911-4e65-fa3e-e342ce76d645"
      },
      "source": [
        "Accuracy(X_test, Y_test, weights)"
      ],
      "execution_count": null,
      "outputs": [
        {
          "output_type": "stream",
          "text": [
            "correct 22\n"
          ],
          "name": "stdout"
        },
        {
          "output_type": "execute_result",
          "data": {
            "application/vnd.google.colaboratory.intrinsic+json": {
              "type": "string"
            },
            "text/plain": [
              "'95.65217391304348%'"
            ]
          },
          "metadata": {
            "tags": []
          },
          "execution_count": 250
        }
      ]
    },
    {
      "cell_type": "code",
      "metadata": {
        "id": "CXdPNxy3uzkH"
      },
      "source": [
        ""
      ],
      "execution_count": null,
      "outputs": []
    }
  ]
}